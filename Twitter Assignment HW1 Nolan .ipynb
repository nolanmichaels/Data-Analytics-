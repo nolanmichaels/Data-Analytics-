{
 "cells": [
  {
   "cell_type": "markdown",
   "metadata": {},
   "source": [
    "<b> Assignment 1 </b>(Analyzing Sentiment Analysis Using Trump as keywod"
   ]
  },
  {
   "cell_type": "markdown",
   "metadata": {},
   "source": [
    "Step 1: Cleaning up code and opening file"
   ]
  },
  {
   "cell_type": "markdown",
   "metadata": {},
   "source": [
    "The assignment was to import tweets about Trump and another topic and clean up the data. "
   ]
  },
  {
   "cell_type": "code",
   "execution_count": 1,
   "metadata": {},
   "outputs": [],
   "source": [
    "file = open('Trump.txt', 'r')\n",
    "#opens the file in read-only mode. "
   ]
  },
  {
   "cell_type": "code",
   "execution_count": 2,
   "metadata": {},
   "outputs": [],
   "source": [
    "text = file.read()\n",
    "#this reads the file and sets it equal to text so that it is easy to adjust"
   ]
  },
  {
   "cell_type": "code",
   "execution_count": 3,
   "metadata": {},
   "outputs": [],
   "source": [
    "file.close()\n",
    "#closes the file."
   ]
  },
  {
   "cell_type": "code",
   "execution_count": 4,
   "metadata": {
    "scrolled": false
   },
   "outputs": [],
   "source": [
    "import re \n",
    "words = re.split(r'\\W+', text.lower())\n",
    "#uses re to split the text by each word.\n",
    "#Also, note that in this step the text is being made lowercase. "
   ]
  },
  {
   "cell_type": "code",
   "execution_count": 5,
   "metadata": {},
   "outputs": [],
   "source": [
    "import string\n",
    "table = str.maketrans('','',string.punctuation)\n",
    "stripped = [w.translate(table)for w in words]\n",
    "#Removes punctuation from the string."
   ]
  },
  {
   "cell_type": "markdown",
   "metadata": {},
   "source": [
    "Step 2: pulling stopwords from code"
   ]
  },
  {
   "cell_type": "code",
   "execution_count": 6,
   "metadata": {},
   "outputs": [],
   "source": [
    "file1 = open('stopwords.txt', 'r')"
   ]
  },
  {
   "cell_type": "code",
   "execution_count": 7,
   "metadata": {},
   "outputs": [],
   "source": [
    "text1 = file1.read()"
   ]
  },
  {
   "cell_type": "code",
   "execution_count": 8,
   "metadata": {},
   "outputs": [],
   "source": [
    "file1.close()"
   ]
  },
  {
   "cell_type": "code",
   "execution_count": 9,
   "metadata": {},
   "outputs": [
    {
     "name": "stdout",
     "output_type": "stream",
     "text": [
      "['a', 'about', 'above', 'after', 'again', 'against', 'all', 'am', 'an', 'and', 'any', 'are', 'aren', 't', 'as', 'at', 'be', 'because', 'been', 'before', 'being', 'below', 'between', 'both', 'but', 'by', 'can', 't', 'cannot', 'could', 'couldn', 't', 'did', 'didn', 't', 'do', 'does', 'doesn', 't', 'doing', 'don', 't', 'down', 'during', 'each', 'few', 'for', 'from', 'further', 'had', 'hadn', 't', 'has', 'hasn', 't', 'have', 'haven', 't', 'having', 'he', 'he', 'd', 'he', 'll', 'he', 's', 'her', 'here', 'here', 's', 'hers', 'herself', 'him', 'himself', 'his', 'how', 'how', 's', 'i', 'i', 'd', 'i', 'll', 'i', 'm', 'i', 've', 'if', 'in', 'into', 'is', 'isn', 't', 'it', 'it', 's', 'its', 'itself', 'let', 's', 'me', 'more', 'most', 'mustn', 't', 'my', 'myself', 'no', 'nor', 'not', 'of', 'off', 'on', 'once', 'only', 'or', 'other', 'ought', 'our', 'ours', 'ourselves', 'out', 'over', 'own', 'same', 'shan', 't', 'she', 'she', 'd', 'she', 'll', 'she', 's', 'should', 'shouldn', 't', 'so', 'some', 'such', 'than', 'that', 'that', 's', 'the', 'their', 'theirs', 'them', 'themselves', 'then', 'there', 'there', 's', 'these', 'they', 'they', 'd', 'they', 'll', 'they', 're', 'they', 've', 'this', 'those', 'through', 'to', 'too', 'under', 'until', 'up', 'very', 'was', 'wasn', 't', 'we', 'we', 'd', 'we', 'll', 'we', 're', 'we', 've', 'were', 'weren', 't', 'what', 'what', 's', 'when', 'when', 's', 'where', 'where', 's', 'which', 'while', 'who', 'who', 's', 'whom', 'why', 'why', 's', 'with', 'won', 't', 'would', 'wouldn', 't', 'you', 'you', 'd', 'you', 'll', 'you', 're', 'you', 've', 'your', 'yours', 'yourself', 'yourselves']\n"
     ]
    }
   ],
   "source": [
    "import re \n",
    "words1 = re.split(r'\\W+', text1.lower())\n",
    "print(words1[:100000])\n",
    "#There are the stopwords I will be pulling from to remove them from 'trump' code."
   ]
  },
  {
   "cell_type": "code",
   "execution_count": 10,
   "metadata": {},
   "outputs": [],
   "source": [
    "Words = []\n",
    "for i in stripped:\n",
    "    if i not in words1:\n",
    "       Words.append(i) \n",
    "#makes list of words that are not stop_words from the 'trump' code."
   ]
  },
  {
   "cell_type": "code",
   "execution_count": 11,
   "metadata": {},
   "outputs": [
    {
     "name": "stdout",
     "output_type": "stream",
     "text": [
      "['b', 'rt', 'angrierwhstaff', 'xe2', 'x80', 'x99ve', 'talked', 'concern', 'awhile', 'n', 'nwhen', 'leaves', 'office', 'xe2', 'x80', 'x99s', 'going', 'even', 'national', 'security', 'xe2', 'x80', 'xa6', 'n', 'b', 'rt', 'tribelaw', 'alandersh', 'grossly', 'misstating', 'law', 'history', 'even', 'arguments', 'johnson', 'senate', 'impeachment', 'trial', 'xe2', 'x80', 'x99s', 'b', 'xe2', 'x80', 'xa6', 'n', 'b', 'rt', 'mcfaul', 'hey', 'twitter', 'followers', 'lets', 'make', 'deal', 'pledge', 'remain', 'quiet', 'democratic', 'party', 'domestic', 'policy', 'debates', 'since', 'im', 'xe2', 'x80', 'xa6', 'n', 'b', 'rt', 'x14eagle', 'breaking', 'graham', 'delivers', 'devastating', 'news', 'trump', 'explain', 'life', 'https', 'co', '8ubyapeapa', 'n', 'b', 'scottleish', 'thetrumptrainw1', 'kittysrcute', 'itweetynerd', 'eugenegu', 'realdonaldtrump', 'ha', 'ha', 'wrong', 'n', 'n', 'u', 'president', 'xe2', 'x80', 'xa6', 'https', 'co', 'r47nxcnvlr', 'n', 'b', 'rt', 'education4libs', 'dear', 'libs', 'n', 'nwhen', 'going', 'apologize', 'president', 'trump', 'amp', 'rest', 'us', 'told', 'puerto', 'rico', 'xe2', 'x80', 'x99s', 'government', 'w', 'xe2', 'x80', 'xa6', 'n', 'b', 'rt', 'realtylerzed', 'trump', 'just', 'made', 'martin', 'luther', 'king', 'xe2', 'x80', 'x99s', 'birthplace', 'national', 'historic', 'park', 'unreal', 'outrageously', 'racist', 'n', 'b', 'rt', 'thisnotdiggs', 'nick', 'bosa', 'now', 'xe2', 'x80', 'x99s', 'one', 'game', 'away', 'meeting', 'trump', 'https', 'co', '6svvblng2k', 'n', 'b', 'rt', 'blakesmustache', 'thread', 'berman', 'recuse', 'michael', 'cohen', 'case', 'parnas', 'case', 'n', 'nfirst', 'xe2', 'x80', 'x99s', 'meet', 'geof', 'xe2', 'x80', 'xa6', 'n', 'b', 'rt', 'bernadinsylves4', 'democrats', 'tell', 'us', 'people', 'beside', 'harassing', 'donald', 'trump', 'last', '3', 'years', 'xe2', 'x80', 'xa6', 'n', 'b', 'rt', 'gopleader', 'every', 'time', 'president', 'trump', 'strengthening', 'country', 'international', 'stage', 'democrats', 'trying', 'bring', 'xe2', 'x80', 'xa6', 'n', 'b', 'overtime', 'playing', 'fucking', 'golf', 'n', 'b', 'rt', 'realkylemorris', 'president', 'realdonaldtrump', 'xe2', 'x80', 'x99s', 'approval', 'among', 'farmers', 'hits', 'record', 'high', '83', 'https', 'co', '1sdgbrap9b', 'n', 'b', 'realdonaldtrump', 'marklevinshow', 'repdougcollins', 'foxnews', 'maybe', 'trump', 'paying', 'porn', 'stars', 'instructing', 'c', 'xe2', 'x80', 'xa6', 'https', 'co', 'kz0b7ednxg', 'n', 'b', 'rt', 'hrfkingfga', 'iammaxobesi', 'politifact', 'true', 'thanks', 'reiterated', 'saying', 'says', 'nfrom', '2011', 'price', 'us', 'servi', 'xe2', 'x80', 'xa6', 'n', 'b', 'rt', 'cpantherz', 'funder', 'iammikejv', 'already', 'threw', 'eric', 'bus', 'caught', 'firing', 'illegals', 'employed', 'whole', 'tim', 'xe2', 'x80', 'xa6', 'n', 'b', 'nikkimac71', 'wwg1wgaww', 'also', 'like', 'inthematrixxx', 'shadygrove', 'twitter', 'lori', 'colley', 'youtube', 'dustin', 'nemos', 'pr', 'xe2', 'x80', 'xa6', 'https', 'co', 'p3eabrhsxz', 'n', 'b', 'rt', 'halftangible', 'clinton', 'impeached', '11', 'felonies', 'impeachable', 'offenses', 'n', 'nwhen', 'trump', 'impeached', 'fel', 'xe2', 'x80', 'xa6', 'n', 'b', 'rt', 'trubludemocrat', 'howroute', 'friggen', 'bonkers', 'woman', 'belongs', 'observation', 'trump', 'team', 'magats', 'w', 'xe2', 'x80', 'xa6', 'n', 'b', 'rt', 'ezeobiz', 'media', 'lies', 'peddled', 'cnnafrica', 'must', 'stop', 'nigeria', 'realdonaldtrump', 'stronghold', 'rather', 'biafrans', 'eastern', 'xe2', 'x80', 'xa6', 'n', 'b', 'mcfaul', 'made', 'one', 'slight', 'snarky', 'comment', 'sanders', 'supporters', 'bit', 'like', 'trump', 'supporters', 'oops', 'xe2', 'x80', 'xa6', 'https', 'co', 'kxifnllyf2', 'n', 'b', 'rt', 'robreiner', 'xe2', 'x80', 'x99t', 'make', 'shit', 'trump', 'wants', 'make', 'bribery', 'legal', 'criminally', 'corrupt', 'president', 'us', 'history', 'wants', 'xe2', 'x80', 'xa6', 'n', 'b', 'rt', 'hellbentvet', 'hellbentvet', 'ni', 'american', 'veteran', 'ni', 'served', 'america', 'ni', 'served', 'true', 'nfor', '2020', 'ni', 'know', 'nwho', 'voting', 'nin', 'xe2', 'x80', 'xa6', 'n', 'b', 'lilcabbage7', 'vaushv', 'media', 'outlets', 'owned', 'capitalists', 'capitalists', 'automatic', 'enemies', 'communists', 'le', 'xe2', 'x80', 'xa6', 'https', 'co', '3yz9h8x81o', 'n', 'b', 'rt', 'motherjones', 'xe2', 'x80', 'x9cunder', 'trump', 'insiders', 'taken', 'control', 'virtually', 'every', 'agency', 'interior', 'department', 'one', 'far', 'xe2', 'x80', 'xa6', 'n', 'b', 'grogsgamut', '100', 'percent', 'trump', 'tactic', 'disappointing', 'n', 'b', 'rt', 'thomaskaine5', '53', 'republican', 'senators', 'saying', 'screw', 'people', 'usa', 'making', 'trump', 'fuhrer', 'just', 'like', 'germany', 'xe2', 'x80', 'xa6', 'n', 'b', 'rt', 'thebradfordfile', 'complicated', 'n', 'n', '736', '000', '000', '000', 'us', 'foreign', 'aid', 'doled', '2000', '2016', 'n', 'nonly', 'trump', 'questio', 'xe2', 'x80', 'xa6', 'n', 'b', 'rt', 'kevssucker', 'report', 'account', 'look', 'tweets', 'n', 'b', 'remember', 'blame', 'directed', 'president', 'trump', 'another', 'lie', 'even', 'used', 'accus', 'xe2', 'x80', 'xa6', 'https', 'co', 'h9jo0rudcz', 'n', 'b', 'gopleader', 'use', 'egg', 'timer', 'measure', 'credibility', 'kind', 'took', 'gop', 'trump', 'wasteland', 'enjoy', 'irrelevance', 'n', 'b', 'rt', 'bennyjohnson', 'puerto', 'rican', 'politicians', 'tried', 'make', 'look', 'like', 'president', 'trump', 'xe2', 'x80', 'x99t', 'sending', 'aid', 'hurricane', 'maria', '2', 'xe2', 'x80', 'xa6', 'n', 'b', 'rt', 'msavaarmstrong', 'iran', 'deal', 'unfettered', 'immigration', 'climate', 'change', 'ntrump', 'anti', 'obama', 'nhe', 'will', 'undo', 'every', 'harmful', 'o', 'xe2', 'x80', 'xa6', 'n', 'b', 'data71190566', 'antonpagi', 'spaceforcedod', 'esperdod', 'secafofficial', 'spaceforcecso', 'gendavegoldfein', 'deptofdefense', 'xe2', 'x80', 'xa6', 'https', 'co', 'gnnjkkjlvy', 'n', 'b', 'rt', 'abcpolitics', 'gstephanopoulos', 'position', 'xc2', 'xa0president', 'trump', 'xc2', 'xa0impeached', 'even', 'evidence', 'argument', 'xe2', 'x80', 'xa6', 'n', 'b', 'podmanmike', 'ejdionne', 'obama', 'biggest', 'race', 'baiter', 'president', 'lifetime', 'look', 'great', 'things', 'pr', 'xe2', 'x80', 'xa6', 'https', 'co', 'ub1t9lro6l', 'n', 'b', 'rt', 'ccinthemiddle', '100', '000', 'tickets', 'requested', 'trump', 'xe2', 'x80', 'x99s', 'nj', 'rally', 'end', 'month', 'xe2', 'x80', 'x99m', 'guessing', 'jeffvandrew', 'made', 'smart', 'move', 'glad', 'h', 'xe2', 'x80', 'xa6', 'n', 'b', 'rt', 'amerikangirlll', 'gotta', 'love', 'potus', 'humor', 'npres', 'trump', 'given', 'jersey', 'n', 'joked', 'getting', 'heismantrophy', 'instead', 'xf0', 'x9f', 'x98', 'x82', 'xf0', 'x9f', 'xa4', 'xa3', 'lsu', 'qu', 'xe2', 'x80', 'xa6', 'n', 'b', 'rt', 'charliekirk11', 'shameful', 'n', 'nthe', 'puerto', 'rican', 'governor', 'just', 'fired', 'emergency', 'director', 'millions', 'aid', 'found', 'wasting', 'away', 'xe2', 'x80', 'xa6', 'n', 'b', 'rt', 'ilhanmn', 'trump', 'wants', 'progressives', 'pitted', 'n', 'ncorporate', 'media', 'want', 'progressives', 'pitted', 'n', 'nbillionaire', 'xe2', 'x80', 'xa6', 'n', 'b', 'veritas1012', 'williammccuan', 'sensanders', 'just', 'paid', 'much', 'education', 'propaganda', 'th', 'xe2', 'x80', 'xa6', 'https', 'co', 'fhhqytb65c', 'n', 'b', 'pinkbono', 'ragenmouse', 'lesleyabravanel', 'realdonaldtrump', 'trump', 'crook', 'liar', 'xe2', 'x80', 'x99s', 'dumb', 'ass', 'trump', 'tol', 'xe2', 'x80', 'xa6', 'https', 'co', 'w1u7r7knbq', 'n', 'b', 'rt', '40head', 'look', 'hoe', 'sheely', 'told', '1', '5', 'years', 'ago', 'happening', 'puerto', 'rico', 'denied', 'qanon', 'c', 'xe2', 'x80', 'xa6', 'n', 'b', 'rt', 'lilearthangelk', 'someone', 'get', 'girl', 'stylist', 'makeup', 'artist', 'hairdresser', 'nail', 'tech', 'n', 'b', 'rt', 'sadietnresist', 'farmers', 'xe2', 'x80', 'x99t', 'cheer', 'trump', 'lies', 'xe2', 'x80', 'x99s', 'fighting', 'keep', 'land', 'fact', 'trump', 'suing', 'cour', 'xe2', 'x80', 'xa6', 'n', 'b', 'rt', 'carolmcwsloan', 'information', 'house', 'intel', 'committee', 'wants', 'possession', 'southern', 'district', 'new', 'york', 'xe2', 'x80', 'xa6', 'n', 'b', 'mcconnell', 'speaks', 'trump', 'listens', 'impeachment', 'trial', 'will', 'test', 'unlikely', 'bond', 'https', 'co', 'qng4gddgns', 'n', 'b', 'rt', 'danrather', 'lie', 'matters', 'https', 'co', 'ti6vd7omvn', 'n', 'b', 'rt', 'motherjones', 'xe2', 'x80', 'x9cunder', 'trump', 'insiders', 'taken', 'control', 'virtually', 'every', 'agency', 'interior', 'department', 'one', 'far', 'xe2', 'x80', 'xa6', 'n', 'b', 'rt', 'ladyoldandgray', 'pompeo', 'working', 'putin', 'trump', 'xe2', 'x80', 'x94the', 'tool', 'xe2', 'x80', 'x94was', 'installed', 'n', 'namericans', 'please', 'deal', 'denial', 'xe2', 'x80', 'xa6', 'n', 'b', 'rt', 'glennkirschner2', 'trump', 'xe2', 'x80', 'x99t', 'one', 'trial', 'week', 'mcconnell', 'also', 'will', 'trial', 'indeed', 'entire', 'senate', 'will', 'xe2', 'x80', 'xa6', 'n', 'b', 'rt', 'education4libs', 'dear', 'libs', 'n', 'nwhen', 'going', 'apologize', 'president', 'trump', 'amp', 'rest', 'us', 'told', 'puerto', 'rico', 'xe2', 'x80', 'x99s', 'government', 'w', 'xe2', 'x80', 'xa6', 'n', 'b', 'https', 'co', '7sbc3fller', 'ntrump', 'legal', 'team', 'impeachment', 'articles', 'xe2', 'x80', 'x98constitutionally', 'invalid', 'xe2', 'x80', 'x99', 'n', 'b', 'therickwilson', 'billmaher', 'sethmacfarlane', 'chelseahandler', 'wkamaubell', 'debramessing', 'robreiner', 'sallyqyates', 'xe2', 'x80', 'xa6', 'https', 'co', 'kr2ncb176b', 'n', 'b', 'rt', 'adriandt31', 'trump', 'right', 'nwarehouse', 'puerto', 'rico', 'discovered', 'week', 'filled', 'us', 'survival', 'aid', 'hurricane', 'maria', 'video', 'n', 'ndoe', 'xe2', 'x80', 'xa6', 'n', 'b', 'smokeystafford', 'democrats', 'may', 'get', 'cold', 'feet', 'election', 'coming', 'may', 'afraid', 'seem', 'polariz', 'xe2', 'x80', 'xa6', 'https', 'co', 'ui0g3wbh6q', 'n', 'b', 'rt', 'bennyjohnson', 'puerto', 'rican', 'politicians', 'tried', 'make', 'look', 'like', 'president', 'trump', 'xe2', 'x80', 'x99t', 'sending', 'aid', 'hurricane', 'maria', '2', 'xe2', 'x80', 'xa6', 'n', 'b', 'rt', 'crooksandliars', 'right', 'glennkirschner2', 'trump', 'crimes', 'commission', 'nice', 'ring', 'joyannreid', 'amjoy', 'trump', 'bill', 'xe2', 'x80', 'xa6', 'n', 'b', 'rt', 'stuinsd', 'immediately', 'fired', 'n', 'b', 'fakenews', 'erictrump', '6th', 'birthday', 'party', 'ivankas', 'also', 'parnas', '17', '18', 'yrs', 'old', 'hi', 'xe2', 'x80', 'xa6', 'https', 'co', '4ugextzyd9', 'n', 'b', 'rt', 'kaitlinsb', 'anyone', 'opposes', 'trump', 'support', 'beyond', 'n', 'n', 'xe2', 'x80', 'x9cklobuchar', 'joined', 'just', 'six', 'dems', 'breaking', 'party', 'li', 'xe2', 'x80', 'xa6', 'n', 'b', 'rt', 'stormisuponus', 'trump', 'lawyer', 'knows', 'sethrich', 'murdered', 'clinton', 'mob', 'ordered', 'john', 'podesta', 'personal', 'xe2', 'x80', 'xa6', 'n', 'b', 'senatorenzi', 'nis', 'lev', 'little', 'eric', 'trump', 'birthday', 'party', '25', 'years', 'ago', 'https', 'co', 'wg6dwncx54', 'n', 'b', 'rt', 'jaketapper', 'george', 'conway', 'xe2', 'x81', 'xa6', 'realdonaldtrump', 'xe2', 'x81', 'xa9', 'hiring', 'ken', 'starr', 'alan', 'dershowitz', 'https', 'co', 'qp7vrylzu0', 'n', 'b', 'rt', 'charliekirk11', 'shameful', 'n', 'nthe', 'puerto', 'rican', 'governor', 'just', 'fired', 'emergency', 'director', 'millions', 'aid', 'found', 'wasting', 'away', 'xe2', 'x80', 'xa6', 'n', 'b', 'rt', 'thebradfordfile', 'impeachment', 'trial', 'president', 'trump', 'start', 'entire', 'media', 'still', 'covering', 'eric', 'ciaramella', 'xe2', 'x80', 'xa6', 'n', 'b', 'rt', 'maxboot', 'trump', 'xe2', 'x80', 'x99s', 'lawyers', 'claim', 'filing', 'acts', 'xe2', 'x80', 'x9cperfectly', 'legal', 'completely', 'appropriate', 'xe2', 'x80', 'x9d', 'xe2', 'x80', 'x99s', 'case', 'wh', 'xe2', 'x80', 'xa6', 'n', 'b', 'rt', 'berniesanders', 'rep', 'pramilajayapal', 'brilliant', 'leader', 'progressive', 'ideas', 'led', 'fight', 'trump', 'racism', 'sexi', 'xe2', 'x80', 'xa6', 'n', 'b', 'endorse', 'republican', 'trump', 'going', 'sail', 'nomination', 'though', 'n', 'b', 'rt', 'georgetakei', 'except', 'xe2', 'x80', 'x99s', 'video', 'calendar', 'entry', 'breakfast', 'meeting', '9', '25', '19', 'lots', 'pho', 'xe2', 'x80', 'xa6', 'n', 'b', 'rt', 'bridgetsterli19', 'trump', 'parallels', 'hitler', 'part', 'four', 'n', 'nhitler', 'ugly', 'sin', 'ntrump', 'xe2', 'x9c', 'x85', 'n', 'nhitler', 'stifled', 'dissent', 'ntrump', 'xe2', 'x9c', 'x85', 'n', 'nhitler', 'revise', 'xe2', 'x80', 'xa6', 'n', 'b', 'rt', 'ryanafournier', 'breaking', 'president', 'trump', 'xe2', 'x80', 'x99s', 'legal', 'counsel', 'just', 'released', 'statement', 'calling', 'impeachment', 'xe2', 'x80', 'x9cconstitutionally', 'invalid', 'xe2', 'x80', 'x9d', 'n', 'nand', 'xe2', 'x80', 'xa6', 'n', 'b', 'rt', 'mamendoza480', 'trump', 'administration', 'reportedly', 'planning', 'unveil', 'rule', 'week', 'aimed', 'cracking', 'birth', 'tourism', 'xe2', 'x80', 'x94', 'xe2', 'x80', 'xa6', 'n', 'b', 'rt', 'seanhannity', 'must', 'watch', 'president', 'trump', 'tears', 'xe2', 'x80', 'x98pathetic', 'pencil', 'neck', 'xe2', 'x80', 'x99', 'schiff', 'xf0', 'x9f', 'x91', 'x80https', 'co', '1rnbbqezjt', 'n', 'b', 'rt', 'maxboot', 'trump', 'hired', 'starr', 'amp', 'dershowitz', 'legal', 'skills', 'tv', 'skills', 'xe2', 'x80', 'x94which', 'court', 'pu', 'xe2', 'x80', 'xa6', 'n', 'b', 'rt', 'biafrabueze', 'president', 'trump', 'calls', 'americans', 'vote', 'pelosi', 'hell', 'office', 'https', 'co', 'spup4yvadl', 'n', 'b', 'rt', 'david95011096', 'geraldorivera', 'realdonaldtrump', 'point', 'wrong', 'geraldo', 'anyone', 'make', 'statement', 'ju', 'xe2', 'x80', 'xa6', 'n', 'b', 'rt', 'nedryun', 'buy', 'guns', 'ammo', 'people', 'hate', 'xe2', 'x80', 'x99re', 'interested', 'rational', 'dialogue', 'view', 'us', 'sub', 'human', 'want', 'xe2', 'x80', 'xa6', 'n', 'b', 'another', 'chickenshit', 'mist', 'although', 'trump', 'supporter', 'posted', 'response', 'celebrities', 'tweet', 'asking', 'xe2', 'x80', 'xa6', 'https', 'co', 'swhlvsamt9', 'n', 'b', 'kaitmarieox', 'liberal', 'enjoy', 'watching', 'videos', 'ignore', 'democrats', 'trump', 'derangement', 'syndrome', 'freespeech', 'n', 'b', 'rt', 'imnamedjames', 'charliekirk11', 'tens', 'thousands', 'water', 'bottles', 'intended', 'hurricane', 'victims', 'found', 'puerto', 'rico', 'field', 'xe2', 'x80', 'xa6', 'n', 'b', 'rt', 'robreiner', 'xe2', 'x80', 'x99t', 'make', 'shit', 'trump', 'wants', 'make', 'bribery', 'legal', 'criminally', 'corrupt', 'president', 'us', 'history', 'wants', 'xe2', 'x80', 'xa6', 'n', 'b', 'rt', 'education4libs', 'giant', 'warehouse', 'full', 'emergency', 'relief', 'supplies', '2017', 'just', 'discovered', 'puerto', 'rico', 'n', 'nwow', 'n', 'nthis', 'aid', 'p', 'xe2', 'x80', 'xa6', 'n', 'b', 'rt', 'q2ndwave', 'now', 'november', 'going', 'spontaneous', 'events', 'media', 'will', 'exploit', 'like', 'wild', 'fire', 'order', 'p', 'xe2', 'x80', 'xa6', 'n', 'b', 'rt', 'palmerreport', 'donald', 'trump', 'now', 'hurling', 'attacks', 'mike', 'bloomberg', 'tom', 'steyer', 'even', 'contention', 'n', 'nthat', 'xe2', 'x80', 'xa6', 'n', 'b', 'trump', 'guts', 'michelle', 'obama', 'healthy', 'school', 'lunch', 'rules', 'birthday', 'news', 'readify', 'https', 'co', 'hsxomrok5e', 'n', 'b', 'rt', 'mkraju', 'schumer', 'said', 'ny', 'tonight', 'still', 'xe2', 'x80', 'x99t', 'seen', 'mcconnell', 'resolution', 'laying', 'parameters', 'trump', 'xe2', 'x80', 'x99s', 'trial', 'xe2', 'x80', 'x9cwhy', 'mc', 'xe2', 'x80', 'xa6', 'n', 'b', 'rt', 'carpedonktum', 'best', 'luck', 'navigating', 'complicated', 'relationship', 'future', 'cellmate', 'n', 'b', 'destroyed', 'much', 'natural', 'resources', 'made', 'country', 'healthier', 'become', 'last', '3', 'years', 'xe2', 'x80', 'xa6', 'https', 'co', 'cnlxnylx6u', 'n', 'b', 'rt', 'berniesanders', 'democracy', 'planet', 'afford', 'another', 'four', 'years', 'trump', 'important', 'election', 'lives', 'xe2', 'x80', 'xa6', 'n', 'b', 'rt', 'joycewhitevance', 'fiona', 'hill', 'successor', 'placed', 'leave', 'national', 'security', 'issues', 'amp', 'escorted', 'wh', 'grounds', 'friday', 'peek', 'xe2', 'x80', 'xa6', 'n', 'b', 'rt', 'eugenegu', 'realdonaldtrump', 'supreme', 'court', 'ruled', 'nixon', 'use', 'executive', 'privilege', 'shield', 'congressional', 'su', 'xe2', 'x80', 'xa6', 'n', 'b', 'rt', 'thebradfordfile', 'complicated', 'n', 'n', '736', '000', '000', '000', 'us', 'foreign', 'aid', 'doled', '2000', '2016', 'n', 'nonly', 'trump', 'questio', 'xe2', 'x80', 'xa6', 'n', 'b', 'rt', 'crabbyquaker', 'themoviebob', 'abollmer', 'work', 'high', 'schools', 'kids', 'chanting', 'maga', 'trump', 'minority', 'children', 'xe2', 'x80', 'xa6', 'n', 'b', 'rt', 'osullivanauthor', 'trump', 'ridiculed', 'possibility', 'sea', 'wall', 'protecting', 'low', 'lying', 'areas', 'new', 'york', 'said', 'people', 'get', 'xe2', 'x80', 'xa6', 'n', 'b', 'rt', 'royalmrbadnews', 'man', 'gunned', 'outside', 'bar', 'joked', 'voting', 'trump', 'https', 'co', 'slngm2yckc', 'obamas', 'clintons', 'soros', 'xe2', 'x80', 'xa6', 'n', 'b', 'rt', 'inevitableet', 'https', 'co', 'vsjty1bgtm', 'ntrump', 'xe2', 'x80', 'x99s', 'growing', 'european', 'base', 'nattitudes', 'toward', 'united', 'states', 'improving', 'across', 'atlant', 'xe2', 'x80', 'xa6', 'n', 'b', 'rt', 'koolfonk', 'whitehouse', 'lev', 'parnas', 'went', 'work', 'fred', 'trump', '16', 'years', 'old', 'parnas', 'turns', '48', 'year', 'means', 'xe2', 'x80', 'xa6', 'n', 'b', 'rt', 'bradleywhitford', 'attention', 'whore', 'like', 'alandersh', 'spent', 'career', 'finding', 'legal', 'loopholes', 'men', 'murder', 'wive', 'xe2', 'x80', 'xa6', 'n', 'b', 'rt', 'treasonstickers', 'meet', 'trump', 'xe2', 'x80', 'x99s', 'impeachment', 'attorneys', 'n', 'n', 'rudy', 'giuliani', 'married', 'cousin', 'fucked', '14', 'years', 'n', 'n', 'kenneth', 'starr', 'xe2', 'x80', 'xa6', 'n', 'b', 'rt', 'gatewaypundit', 'senator', 'graham', 'nancy', 'pelosi', 'orchestrated', 'church', 'holy', 'hell', 'trump', 'video', 'cassandrarules', 'lindseygraham', 'xe2', 'x80', 'xa6', 'n', 'b', 'rt', 'quesinberryjo', 'inspiringu2', 'farmers', 'pass', 'farms', 'children', 'declared', 'bankruptcy', 'n', 'lost', 'land', 'xe2', 'x80', 'xa6', 'n', 'b', 'rt', 'urocklive1', 'lev', 'parnas', 'handed', 'tapes', 'trump', 'giuliani', 'house', 'intelligence', 'committee', 'n', 'nlordy', 'tapes', 'n', 'nhttps', 'xe2', 'x80', 'xa6', 'n', 'b', 'rt', 'gopleader', 'rt', 'stand', 'president', 'trump', 'showing', 'unconditional', 'support', 'iranian', 'people', 'call', 'freedom', 'just', 'xe2', 'x80', 'xa6', 'n', 'b', 'rt', 'nightlypolitics', 'trump', 'xe2', 'x80', 'x99s', 'xe2', 'x80', 'x9cspiritual', 'adviser', 'xe2', 'x80', 'x9d', 'paula', 'white', 'xe2', 'x80', 'x9cyou', 'need', 'send', '35', '000', 'need', 'send', '100', '000', 'check', 'xe2', 'x80', 'x99t', 'send', 'xe2', 'x80', 'xa6', 'n', 'b', 'slaviclady88', 'walterego68ego', 'trump', 'n', 'b', 'rt', 'david95011096', 'geraldorivera', 'realdonaldtrump', 'show', 'everything', 'donald', 'trump', 'said', 'puerto', 'rico', '100', 'correct', 'n', 'b', 'rt', 'uclabruin1998', 'spytalker', 'course', 'administration', 'shocking', 'national', 'security', 'threat', 'trump', 'xe2', 'x80', 'xa6', 'n', 'b', 'rt', 'thomas1774paine', 'watch', 'jim', 'acosta', 'gets', 'reprimanded', 'trump', 'immediately', 'shuts', 'https', 'co', 'of0qgkrfk5', 'n', 'b', 'rt', 'seamusmalek', 'much', 'tell', 'sanders', 'care', 'even', 'want', 'nyt', 'endorsement', 'speaking', 'board', 'xe2', 'x80', 'xa6', 'n', 'b', 'rt', 'tomfitton', 'scoop', 'birth', 'tourism', 'realdonaldtrump', 'next', 'immigration', 'target', 'https', 'co', 'e9mdfmyxum', 'n', 'b', 'rt', 'waynedupreeshow', 'age', 'well', 'anyone', 'feel', 'like', 'trump', 'haters', 'try', 'make', 'political', 'statement', 'n', 'n', 'gt', 'always', 'xe2', 'x80', 'xa6', 'n', 'b', 'rt', 'mcfaul', 'trump', 'republicans', 'expressing', 'support', 'sanders', 'hewitt', 'even', 'voting', 'primaries', 'right', 'now', 'xe2', 'x80', 'xa6', 'n', 'b', 'rt', 'donnytinyhandz', 'seudo', 'woke', 'rationale', 'endorsing', '2', 'women', 'race', 'want', 'try', 'show', 'diplomatic', 'ar', 'xe2', 'x80', 'xa6', 'n', 'b', 'rt', 'davidwaddell5', 'romney', 'loses', 'gop', 'support', 'utah', 'challenging', 'trump', 'impeachment', 'xf0', 'x9f', 'x91', 'x8f', 'xf0', 'x9f', 'x91', 'x8f', 'xf0', 'x9f', 'x91', 'x8f', 'https', 'co', 'opagrosioe', 'n', 'b', 'rt', 'pattonoswalt', 'oy', 'xe2', 'x80', 'x99t', 'lev', 'parnas', 'eric', 'trump', 'xe2', 'x80', 'x99s', '6th', 'birthday', 'sorry', 'tweeted', 'xe2', 'x80', 'x94', 'deleted', 'posts', 'xe2', 'x80', 'x99s', 'xe2', 'x80', 'xa6', 'n', 'b', 'rt', 'ifindkarma', 'tribelaw', 'alandersh', '1998', 'alan', 'dershowitz', 'said', 'conviction', 'n', 'nhttps', 'co', '04cc8eedlv', 'https', 'co', '6azmqbwmjt', 'n', 'b', 'rt', 'rudymehrbani', 'disappointed', 'xe2', 'x81', 'xa6', 'usnatarchives', 'xe2', 'x81', 'xa9', 'amp', 'archivist', 'appointed', 'obama', 'xe2', 'x80', 'x99ve', 'created', 'political', 'controversy', 'attempting', 'xe2', 'x80', 'xa6', 'n', 'b', 'rt', 'allidoisowen', 'entire', 'democrat', 'media', 'complex', 'working', 'overtime', 'right', 'now', 'destroy', 'truth', 'happening', 'virginia', 'xe2', 'x80', 'xa6', 'n', 'b', 'rt', 'sjpeace', 'trump', 'kicked', 'rally', 'mexicans', 'rapists', 'muslims', 'terrorist', 'https', 'co', '70d9toua30', 'n', 'b', 'rt', 'trishzornio', 'xe2', 'x80', 'x9cwhere', 'cory', 'gardner', 'xe2', 'x80', 'x9d', 'n', 'nin', 'colorado', 'xe2', 'x80', 'x99ve', 'wondering', 'years', 'xe2', 'x80', 'x94', 'xe2', 'x80', 'x99t', 'held', 'town', 'hall', '2', 'yrs', 'call', 'xe2', 'x80', 'xa6', 'n', 'b', 'rt', 'heatherwhaley', 'maybe', 'next', 'president', 'ask', 'foreign', 'aid', 'help', 'swing', 'election', 'n', 'b', 'rt', 'bitburner', 'trump', 'xe2', 'x80', 'x99t', 'know', 'lev', 'parnas', 'https', 'co', '2za8shzhcu', 'n', 'b', 'rt', 'kevinshipp', 'must', 'understand', 'donald', 'trump', 'confronted', 'multi', 'trillion', 'dollar', 'monster', 'infected', 'elected', 'represen', 'xe2', 'x80', 'xa6', 'n', 'b', 'rt', 'nofascistlies', 'iran', 'noi', 'xe2', 'x80', 'x99s', 'farrakhan', 'warns', 'trump', 'war', 'middle', 'east', 'end', 'us', 'https', 'co', 'hff1rksn7p', 'via', 'youtube', 'n', 'b', 'court', 'report', 'james', 'wiseman', 'latest', 'troubling', 'pattern', 'top', 'nba', 'draft', 'picks', 'missing', 'games', 'college', 'get', 'xe2', 'x80', 'xa6', 'https', 'co', 'u4jhhtvyl5', 'n', 'b', 'rt', 'time', 'xe2', 'x80', 'x9cone', 'thing', 'remember', 'work', 'president', 'trump', 'xe2', 'x80', 'x99t', 'make', 'waves', 'makes', 'waves', 'xe2', 'x80', 'x9d', 'kushner', 'xe2', 'x80', 'xa6', 'n', 'b', 'redtimmy', 'johnteufelnyc', 'davidfrum', 'childish', 'discord', 'supposed', 'part', 'process', 'discord', 'xe2', 'x80', 'xa6', 'https', 'co', 'spys0despo', 'n', 'b', 'rt', 'david95011096', 'geraldorivera', 'realdonaldtrump', 'imagine', 'outcry', 'donald', 'trump', 'put', 'tweet', 'stated', 'last', 'pu', 'xe2', 'x80', 'xa6', 'n', 'b', 'rt', 'devinnunes', 'well', 'put', 'gopleader', 'https', 'co', 'gaskgy6ujz', 'n', 'b', 'rt', 'thebradfordfile', 'impeachment', 'trial', 'president', 'trump', 'start', 'entire', 'media', 'still', 'covering', 'eric', 'ciaramella', 'xe2', 'x80', 'xa6', 'n', 'b', 'rt', 'billybaldwin', 'remind', 'trump', 'nwas', 'n', 'nthe', 'lies', 'ndraft', 'dodging', 'nsexual', 'assault', 'nrobbing', 'contractors', 'nnot', 'paying', 'tax', 'xe2', 'x80', 'xa6', 'n', 'b', 'rt', 'kagrevolution', 'alan', 'dershowitz', 'supreme', 'court', 'overturn', 'trump', 'impeachment', 'realdonaldtrump', 'n', 'nif', 'gop', 'going', 'tha', 'xe2', 'x80', 'xa6', 'n', 'b', 'rt', 'thomasisonline', 'hollyotterbein', 'pattomaino', 'foretold', 'https', 'co', 'fm1fxkwwih', 'n', 'b', 'https', 'co', 'bc7rpzx1tt', 'trump', 'deserve', 'removed', 'office', 'spea', 'https', 'co', 'zknhnopnvq', 'n', 'b', 'rt', 'maxboot', 'starr', 'demanded', 'clinton', 'impeached', 'lying', 'sex', 'interviewed', 'everyone', 'lewinsky', 'hairdresser', 'wh', 'window', 'w', 'xe2', 'x80', 'xa6', 'n', 'b', 'rt', 'kilmeade', 'jockowillink', 'says', 'president', 'realdonaldtrump', 'gamble', 'ordering', 'strike', 'killed', 'soleimani', 'brilliant', 'move', 'k', 'xe2', 'x80', 'xa6', 'n', 'b', 'rt', 'jillwinebanks', 'think', 'said', 'brilliantly', 'tribelaw', 'must', 'read', 'house', 'brief', 'constitution', 'founding', 'fath', 'xe2', 'x80', 'xa6', 'n', 'b', 'rt', 'kenolin1', 'totalitarian', 'government', 'accept', 'altering', 'reality', 'protect', 'trump', 'regime', 'com', 'xe2', 'x80', 'xa6', 'n', 'b', 'rt', 'ewarren', 'republicans', 'trump', 'administration', 'hoping', 'supreme', 'court', 'will', 'back', 'extreme', 'plans', 'limit', 'access', 'ab', 'xe2', 'x80', 'xa6', 'n', 'b', 'rt', '2012bnews', 'first', 'cnn', 'msnbc', 'nbc', 'nyt', 'washington', 'post', 'n', 'nwho', 'will', 'apologize', 'trump', 'first', 'n', 'nanyone', 'maddow', 'n', 'ntrump', 'righ', 'xe2', 'x80', 'xa6', 'n', 'b', 'rt', 'govierbill', 'martha', 'mcsally', 'crisis', 'actor', 'n', 'b', 'rt', 'acimessentials', 'anonmonkeyman1', 'thank', 'seth', 'rich', 'nthank', 'julian', 'assange', 'nthank', 'president', 'trump', 'nthank', 'william', 'ba', 'xe2', 'x80', 'xa6', 'n', 'b', 'rt', 'celentra', 'words', 'describe', 'two', 'beautiful', 'people', 'gone', 'result', 'domestic', 'violence', 'xe2', 'x80', 'xa6', 'n', 'b', 'rt', 'sethabramson', 'lev', 'parnas', 'picture', 'party', 'thread', 'ain', 'party', 'like', 'lev', 'parnas', 'picture', 'party', 'use', 'thread', 'post', 'pictur', 'xe2', 'x80', 'xa6', 'n', 'b', 'realdonaldtrump', 'marklevinshow', 'repdougcollins', 'foxnews', 'president', 'trump', 'korean', 'people', 'want', 'peace', 'love', 'xe2', 'x80', 'xa6', 'https', 'co', 'c4upusrf1o', 'n', 'b', 'rt', 'trumpwillwinnn', 'seanhannity', 'reyocean', 'https', 'co', 'zjrhrflwbf', 'nsupport', 'president', 'trump', 'growing', 'nthe', 'republican', 'party', 'needs', 'xe2', 'x80', 'xa6', 'n', 'b', 'rt', 'nightlypolitics', 'trump', 'xe2', 'x80', 'x99s', 'xe2', 'x80', 'x9cspiritual', 'adviser', 'xe2', 'x80', 'x9d', 'paula', 'white', 'xe2', 'x80', 'x9cyou', 'need', 'send', '35', '000', 'need', 'send', '100', '000', 'check', 'xe2', 'x80', 'x99t', 'send', 'xe2', 'x80', 'xa6', 'n', 'b', 'rt', 'cnn', 'sen', 'lindsey', 'graham', 'says', 'president', 'trump', 'hopes', 'senate', 'impeachment', 'trial', 'behind', 'delivers', 'state', 'xe2', 'x80', 'xa6', 'n', 'b', 'rt', 'leeholly81', 'realdonaldtrump', 'well', 'lookee', 'old', 'trump', 'nknew', 'lev', 'parnas', 'way', 'back', 'birthday', 'party', 'lev', 'kid', 'n', 'glenresis', 'xe2', 'x80', 'xa6', 'n', 'b', 'rt', 'johnlundin', 'breaking', 'every', 'day', 'presidential', 'adviser', 'gets', 'removed', 'security', 'investigation', 'xe2', 'x80', 'xa6', 'n', 'b', 'rt', 'diamondandsilk', 'diamondandsilk', 'black', 'voter', 'support', 'trump', 'surging', 'n', 'nhttps', 'co', 'bamq11ewjj', 'via', 'dablogsource', 'n', 'b', 'senthomtillis', 'oath', 'requires', 'yes', 'vote', 'impeachment', 'trial', 'include', 'witnesses', 'amp', 'evidence', 'xe2', 'x80', 'xa6', 'https', 'co', 'jvljvtyl9c', 'n', 'b', 'rt', 'waltshaub', 'boys', 'will', 'boys', 'guess', 'n', 'b', 'words', 'afraid', 'trump', 'slogan', '2020', 'n', 'b', 'rt', 'tribelaw', 'alandersh', 'grossly', 'misstating', 'law', 'history', 'even', 'arguments', 'johnson', 'senate', 'impeachment', 'trial', 'xe2', 'x80', 'x99s', 'b', 'xe2', 'x80', 'xa6', 'n', 'b', 'rt', 'hoodlumrip', 'just', 'trump', 'hires', 'team', 'professional', 'mourners', 'senate', 'trial', 'keepamericagagging', 'https', 'co', 'pvjhh6hhfs', 'n', 'b', 'rt', 'paulachertok', 'xf0', 'x9f', 'x98', 'xb3', 'xe2', 'x80', 'x9cinvite', 'xe2', 'x80', 'x99ll', 'come', 'xe2', 'x80', 'x9d', 'xe2', 'x80', 'x94putin', 'urges', 'assad', 'invite', 'trump', 'damascus', 'assad', 'seems', 'think', 'xe2', 'x80', 'x99d', 'get', 'along', 'great', 'n', 'na', 'xe2', 'x80', 'xa6', 'n', 'b', 'will', 'modi', 'magic', 'break', 'kejri', 'wall', 'will', 'congress', 'manage', 'trump', 'updates', 'analys', 'xe2', 'x80', 'xa6', 'https', 'co', '0psb4lzive', 'n', 'b', 'rt', 'crikeynews', 'australia', 'ambassador', 'us', 'spent', 'four', 'years', 'milking', 'trump', 'contacts', 'now', 'make', 'truckloads', 'money', 'ht', 'xe2', 'x80', 'xa6', 'n', 'b', 'rt', 'glenresister', 'well', 'lookee', 'old', 'trump', 'nknew', 'lev', 'way', 'back', 'nbirthday', 'party', 'lev', 'kid', 'n', 'realdonaldtrump', 'https', 'co', 'w', 'xe2', 'x80', 'xa6', 'n', 'b', 'rt', 'inspiringu2', 'r', 'u', 'p', 'n', 'nwhat', 'disgusting', 'abomination', 'n', 'n', '8645asap2saveusa', 'https', 'co', 'pryhzqaej2', 'n', 'b', 'rt', 'andyostroy', 'realdonaldtrump', 'xe2', 'x80', 'x99s', 'height', 'dirty', 'mikebloomberg', 'towers', 'every', 'way', 'imagineable', 'wealth', 'success', 'xe2', 'x80', 'xa6', 'n', 'b', 'rt', 'acosta', 'sometimes', 'gets', 'little', 'tense', 'ask', 'something', 'xe2', 'x80', 'x99t', 'want', 'answer', 'try', 'sometime', 'xe2', 'x80', 'x99re', 'n', 'xe2', 'x80', 'xa6', 'n', 'b', 'rt', 'grimmgreen', 'flawed', 'xe2', 'x80', 'x99t', 'begin', 'describe', 'usfda', 'guidance', 'pmtareform', 'wevapewevote', 'n', 'b', 'rt', 'sayshummingbird', 'trump', 'tells', 'americans', 'threatened', 'rising', 'oceans', 'use', 'xe2', 'x80', 'x98mops', 'buckets', 'xe2', 'x80', 'x99', 'instead', 'building', 'barriers', 'n', 'nhow', 'peo', 'xe2', 'x80', 'xa6', 'n', 'b', 'rt', 'youngbabycoco', 'literally', 'anyone', 'tour', 'white', 'house', 'poopy', 'pants', 'patricia', 'lmfao', 'n', 'b', 'news12nj', 'trump', 'right', 'n', 'b', 'trump', 'xe2', 'x80', 'x99s', 'strong', 'arm', 'foreign', 'policy', 'tactics', 'create', 'tensions', 'u', 'friends', 'foes', 'https', 'co', 'd0eo1vpodh', 'n', 'b', 'rt', 'waynedupreeshow', 'age', 'well', 'anyone', 'feel', 'like', 'trump', 'haters', 'try', 'make', 'political', 'statement', 'n', 'n', 'gt', 'always', 'xe2', 'x80', 'xa6', 'n', 'b', 'rt', 'gtconway3d', 'reasonably', 'argue', 'senate', 'right', 'acquit', 'president', 'clinton', '1999', 'convict', 'president', 'trump', 'xe2', 'x80', 'xa6', 'n', 'b', 'rt', 'craigco62', 'watergate', 'xe2', 'x80', 'x99s', 'john', 'dean', 'thinks', 'trump', 'wrote', 'part', 'legal', 'team', 'xe2', 'x80', 'x99s', 'brief', 'xe2', 'x80', 'x94', 'xe2', 'x80', 'x99s', 'terrible', 'xe2', 'x80', 'x93', 'raw', 'story', 'https', 'co', 'xe2', 'x80', 'xa6', 'n', 'b', 'rt', 'litameza13', 'trump', 'teen', 'rape', 'allegation', 'resurfaces', 'ronan', 'farrow', 'claims', 'national', 'enquirer', 'tried', 'protect', 'new', 'book', 'https', 'co', 'xe2', 'x80', 'xa6', 'n', 'b', 'prediction', 'trump', 'going', 'conflate', 'impeachment', 'removal', 'say', 'stuff', 'like', 'tried', 'impeach', 'xe2', 'x80', 'xa6', 'https', 'co', 's6zntudxin', 'n', 'b', 'rt', 'denoir', 'usa', 'political', 'world', 'bosses', '7', 'wars', 'right', 'now', 'n', 'nthey', 'publicity', 'assassinating', 'officials', 'iran', 'amp', 'iraq', 'xe2', 'x80', 'xa6', 'n', 'b', 'rt', 'swisherfrank', 'dougallentx', 'hell', 'u', 'think', 'trump', 'jobs', 'thank', 'u', 'mr', 'president', 'n', 'b', 'rt', 'mikefarb1', 'tapes', 'course', 'n', 'nreport', 'parnas', 'gave', 'tapes', 'trump', 'giuliani', 'house', 'intel', 'committee', 'https', 'co', '4', 'xe2', 'x80', 'xa6', 'n', 'b', 'rt', 'nealkatyal', 'exactly', 'right', 'starr', 'sought', 'impeach', 'clinton', 'abusing', 'executive', 'privilege', 'obstructing', 'investigation', 'xe2', 'x80', 'xa6', 'n', 'b', 'rt', 'mimirocah1', 'great', 'see', 'xe2', 'x81', 'xa6', 'senschumer', 'xe2', 'x81', 'xa9', 'westchester', 'rally', 'talk', 'standing', 'women', 'amp', 'trump', 'xe2', 'x81', 'xa6', 'momsdemand', 'xe2', 'x81', 'xa9', 'xe2', 'x81', 'xa6', 'indiv', 'xe2', 'x80', 'xa6', 'n', 'b', 'rt', 'therickwilson', 'trump', 'xe2', 'x80', 'x99s', 'evil', 'contagious', 'https', 'co', 'prfvb7gbc4', 'n', 'nvery', 'well', 'stated', 'n', 'b', 'rt', 'neilhimself', 'bankruptcy', 'courts', 'trump', 'contract', 'publisher', 'contract', 'may', 'say', 'get', 'rights', 'back', 'case', 'bank', 'xe2', 'x80', 'xa6', 'n', 'b', 'rt', 'jetrotter', '19', 'year', 'old', 'female', 'albuquerque', 'new', 'mexico', 'went', 'trump', 'rally', 'back', '2016', 'mom', 'brother', 'xe2', 'x80', 'xa6', 'n', 'b', 'charlesadler', 'just', 'met', 'families', '57', 'innocent', 'wonderful', 'canadians', 'killed', 'trump', 'iran', 'xe2', 'x80', 'xa6', 'https', 'co', 'qdqr7wle0d', 'n', 'b', 'rt', 'ladylondonnn', 'chrysler', '300', 'look', 'like', 'bentley', 'till', 'bentley', 'pull', 'next', 'n', 'nforward', 'sis', 'nthe', 'duplicates', 'never', 'trump', 'xe2', 'x80', 'xa6', 'n', 'b', 'rt', 'gopleader', 'sums', 'last', 'three', 'years', 'xe2', 'x86', 'xb4', 'n', 'npresident', 'trump', 'working', 'overtime', 'defend', 'america', 'n', 'ndemocrats', 'working', 'overtime', 'defa', 'xe2', 'x80', 'xa6', 'n', 'b', 'xe2', 'x80', 'x99ve', 'come', 'conclusion', 'trump', 'supporters', 'racist', 'bigots', 'hostile', 'xe2', 'x80', 'x99t', 'like', 'today', 'xe2', 'x80', 'x99s', 'fa', 'xe2', 'x80', 'xa6', 'https', 'co', 'xj5itnzr79', 'n', 'b', 'rt', 'teresam46396557', 'inspiring', 'story', 'one', 'wwii', 'heros', 'will', 'honored', 'big', 'way', 'thank', 'realdonaldtrump', 'https', 'co', 'qjdc', 'xe2', 'x80', 'xa6', 'n', 'b', 'rt', 'strategyusa', 'cost', 'carry', 'obama', 'xe2', 'x80', 'x99s', '10t', 'nuclear', 'new', 'debt', 'bubble', '1', 'n', 'n', '100b', 'per', 'year', '274m', 'per', 'day', 'n', 'nannual', 'cost', 'illegals', 'n', 'n', '1', 'xe2', 'x80', 'xa6', 'n', 'b', 'rt', 'johnthel', 'resistsserena', 'republicans', 'gave', 'dignity', 'trump', 'showed', 'n', 'b', 'mattgaetz', 'check', 'trump', 'doral', 'n', 'b', 'rt', 'daxboom', 'trump', 'removed', 'n', 'nrikers', 'island', 'general', 'population', 'vegan', 'diet', 'n', 'nnyc', 'tenement', 'apartment', 'minimum', 'wage', 'job', 'n', 'nchoose', 'xe2', 'x80', 'xa6', 'n', 'b', 'rt', 'jackposobiec', '100', '000', 'tickets', 'requested', 'wildwood', 'trump', 'rally', 'van', 'drew', 'says', 'https', 'co', 'rcbc16uc7r', 'n', 'b', 'rt', 'iminhisbook', 'mad', 'max', 'prime', 'example', 'liberalism', 'mental', 'disorder', 'think', 'acquittal', 'plan', 'kee', 'xe2', 'x80', 'xa6', 'n', 'b', 'rt', 'evanakilgore', 'people', 'now', 'saying', 'obsessed', 'violence', 'tweeted', 'antifa', 'potentially', 'protesting', 'virginia', 'tomo', 'xe2', 'x80', 'xa6', 'n', 'b', 'rt', 'robreiner', 'xe2', 'x80', 'x99t', 'make', 'shit', 'trump', 'wants', 'make', 'bribery', 'legal', 'criminally', 'corrupt', 'president', 'us', 'history', 'wants', 'xe2', 'x80', 'xa6', 'n', 'b', 'rt', 'jrubinblogger', 'fantastic', 'piece', 'https', 'co', 'h3wnb9ifn4', 'n', 'b', 'rt', 'charliekirk11', 'shameful', 'n', 'nthe', 'puerto', 'rican', 'governor', 'just', 'fired', 'emergency', 'director', 'millions', 'aid', 'found', 'wasting', 'away', 'xe2', 'x80', 'xa6', 'n', 'b', 'rt', 'friendking582', 'taxpayers', 'forced', 'pay', 'new', 'trump', 'plaque', 'border', 'wall', 'satisfy', 'trump', 'pathetic', 'ego', 'many', 'presidents', 'xe2', 'x80', 'xa6', 'n', 'b', 'chuckschumer', 'people', 'afraid', 'truth', 'rest', 'democrats', 'nthe', 'truth', 'trump', 'side', 'xe2', 'x80', 'xa6', 'https', 'co', 'gidbvbpd6b', 'n', 'b', 'rt', 'johnnyjeep4', 'repadamschiff', 'mr', 'schiff', 'senate', 'xe2', 'x80', 'x99t', 'provide', 'fair', 'trial', 'trump', 'amp', 'american', 'people', 'cong', 'xe2', 'x80', 'xa6', 'n', 'b', 'rt', 'gunnelswarren', 'biden', 'mcconnell', 'will', 'mildly', 'cooperative', 'post', 'trump', 'n', 'nthe', 'last', 'biden', 'mcconnell', 'deal', 'n', 'n', 'extended', 'bush', 'tax', 'brea', 'xe2', 'x80', 'xa6', 'n', 'b', 'rt', 'princehandley', 'super', 'truth', 'facts', 'watch', 'pelosi', 'stupid', 'stunts', 'vs', 'trump', 'real', 'results', 'gt', 'gt', 'gt', 'n', 'nhttps', 'co', 'vw8posmkgr', 'h', 'xe2', 'x80', 'xa6', 'n', 'b', 'rt', 'ryanafournier', 'bush', 'killed', 'saddam', 'america', 'cheered', 'n', 'nobama', 'killed', 'osama', 'america', 'cheered', 'n', 'ntrump', 'kills', 'soleimani', 'xe2', 'x80', 'x99s', 'going', 'xe2', 'x80', 'xa6', 'n', 'b', 'rt', 'acosta', 'sometimes', 'gets', 'little', 'tense', 'ask', 'something', 'xe2', 'x80', 'x99t', 'want', 'answer', 'try', 'sometime', 'xe2', 'x80', 'x99re', 'n', 'xe2', 'x80', 'xa6', 'n', 'b', 'rt', 'bridgetsterli19', 'trump', 'parallels', 'hitler', 'part', 'three', 'n', 'nhitler', 'built', 'walls', 'xe2', 'x80', 'x99t', 'work', 'ntrump', 'xe2', 'x9c', 'x85', 'n', 'nhitler', '24', '7', 'propaganda', 'o', 'xe2', 'x80', 'xa6', 'n', 'b', 'rt', 'norskladywolf', 'trump', 'never', 'pays', 'bills', 'now', 'xe2', 'x80', 'x99s', 'come', 'back', 'bite', 'stiffed', 'many', 'law', 'firms', 'none', 'w', 'xe2', 'x80', 'xa6', 'n', 'b', 'rt', 'danrather', 'lie', 'matters', 'https', 'co', 'ti6vd7omvn', 'n', 'b', 'rt', 'bornabrit1', 'hey', 'gop', 'nif', 'f', 'cking', 'lie', 'constituents', 'trump', 'amp', 'criminal', 'acts', 'order', 'u', 'keep', 'job', 'xe2', 'x80', 'xa6', 'n', 'b', 'rt', 'redsteeze', 'donald', 'trump', 'xe2', 'x80', 'x99s', 'election', 'reckoning', 'media', 'media', 'culture', 'think', 'tonight', 'xe2', 'x80', 'x99s', 'dumb', 'fart', 'sniffing', 'elitist', 'bu', 'xe2', 'x80', 'xa6', 'n', 'b', 'rt', 'vote4blue', 'joncoopertweets', 'joebiden', 'extremely', 'embarrassed', 'deeply', 'ashamed', 'admit', 'republican', '41', 'years', 'trum', 'xe2', 'x80', 'xa6', 'n', 'b', 'rt', 'tribelaw', 'alandersh', 'grossly', 'misstating', 'law', 'history', 'even', 'arguments', 'johnson', 'senate', 'impeachment', 'trial', 'xe2', 'x80', 'x99s', 'b', 'xe2', 'x80', 'xa6', 'n', 'b', 'rt', 'chizmaga', 'adam', 'schiff', 'caught', 'trying', 'obtain', 'compromising', 'pictures', 'trump', 'compromising', 'pics', 'floating', 'aro', 'xe2', 'x80', 'xa6', 'n', 'b', 'rt', 'jillwinebanks', 'apologies', 'amjoyshow', 'misspeaking', 'nmsnbc', 'panel', 'bursts', 'laughing', 'watching', 'clip', 'alan', 'dershowitz', 'explain', 'xe2', 'x80', 'xa6', 'n', 'b', 'rt', 'derekcressman', 'sencorygardner', 'hiding', 'n', 'b', 'rt', 'mimirocah1', 'tribelaw', 'alandersh', 'washingtonpost', 'recently', 'claimed', 'defending', 'xe2', 'x80', 'x9ccivil', 'liberties', 'xe2', 'x80', 'x9d', 'trump', 'faca', 'xe2', 'x80', 'xa6', 'n', 'b', 'rt', 'deangloster', 'reminder', 'senators', 'successfully', 'voted', 'andrew', 'johnson', 'impeachment', 'one', 'ever', 'elected', 'o', 'xe2', 'x80', 'xa6', 'n', 'b', 'rt', 'osullivanauthor', 'trump', 'ridiculed', 'possibility', 'sea', 'wall', 'protecting', 'low', 'lying', 'areas', 'new', 'york', 'said', 'people', 'get', 'xe2', 'x80', 'xa6', 'n', 'b', 'rt', 'roarquette', 'trump', 'teen', 'rape', 'allegation', 'resurfaces', 'ronan', 'farrow', 'claims', 'national', 'enquirer', 'tried', 'protect', 'new', 'book', 'https', 'co', 'xe2', 'x80', 'xa6', 'n', 'b', 'rt', 'ericbyler', 'actually', 'barackobama', 'also', 'better', 'trump', 'soothing', 'white', 'racist', 'anxiety', 'really', 'listened', 'trump', 'xe2', 'x80', 'xa6', 'n', 'b', 'rt', 'hawleymo', 'realdonaldtrump', 'deserves', 'right', 'senate', 'trial', 'ask', 'verdict', 'move', 'dismiss', 'otherwise', 'trial', 'will', 'becom', 'xe2', 'x80', 'xa6', 'n', 'b', 'rt', 'thepubliususa', 'raise', 'hand', 'believe', 'donald', 'trump', 'removed', 'office', 'indicted', 'xe2', 'x9c', 'x8b', 'n', 'b', 'rt', 'nypapajoe', 'acyn', 'rep', 'collins', 'xe2', 'x80', 'x99s', 'apparent', 'either', 'trump', 'xe2', 'x80', 'x99s', 'russia', 'something', 'incriminating', 'u', 'cause', 'devotion', 'o', 'xe2', 'x80', 'xa6', 'n', 'b', 'rt', 'chicago1ray', 'nfl', 'got', 'message', 'folks', 'n', 'nplayers', 'standing', 'xf0', 'x9f', 'x87', 'xba', 'xf0', 'x9f', 'x87', 'xb2', 'xf0', 'x9f', 'x87', 'xba', 'xf0', 'x9f', 'x87', 'xb2', 'xf0', 'x9f', 'x87', 'xba', 'xf0', 'x9f', 'x87', 'xb2national', 'anthem', 'xf0', 'x9f', 'x87', 'xba', 'xf0', 'x9f', 'x87', 'xb2', 'xf0', 'x9f', 'x87', 'xba', 'xf0', 'x9f', 'x87', 'xb2', 'xf0', 'x9f', 'x87', 'xba', 'xf0', 'x9f', 'x87', 'xb2', 'n', 'nwhat', 'difference', 'boycott', 'xe2', 'x80', 'xa6', 'n', 'b', 'rt', 'trinssins', 'wanna', 'use', 'pic', 'promotional', 'display', '100', 'years', 'women', 'suffrage', 'whatever', 'think', 'xe2', 'x80', 'xa6', 'n', 'b', 'rt', 'lk48812837', 'intentional', 'misinformation', 'flood', 'theory', 'bannon', 'https', 'co', 'ffidajzwno', 'n', 'b', 'rt', 'adamparkhomenko', 'democratic', 'nominee', 'will', 'running', 'russia', 'nyt', 'north', 'korea', 'turkey', 'saudi', 'arabia', 'barr', 'facebook', 'mayb', 'xe2', 'x80', 'xa6', 'n', 'b', 'rt', 'placebo90511492', 'anchor', 'babies', 'n', 'xf0', 'x9f', 'x91', 'x8d', 'xf0', 'x9f', 'x91', 'x8d', 'xf0', 'x9f', 'x91', 'x8d', 'https', 'co', 'to9lpss7od', 'n', 'b', 'beigeshiba', 'yeah', 'man', 'bunch', 'leftists', 'proving', 'trump', 'right', 'literally', 'fucking', 'everything', 'national', 'tv', 'xe2', 'x80', 'xa6', 'https', 'co', 'fzsomi9w0a', 'n', 'b', 'rt', 'sethabramson', 'media', 'pointing', 'lev', 'parnas', 'convinced', 'testify', 'house', 'inquiry', 'donald', 'trump', 'lawyer', 'xe2', 'x80', 'xa6', 'n', 'b', 'rt', 'adamparkhomenko', 'democratic', 'nominee', 'will', 'running', 'russia', 'nyt', 'north', 'korea', 'turkey', 'saudi', 'arabia', 'barr', 'facebook', 'mayb', 'xe2', 'x80', 'xa6', 'n', 'b', 'tribelaw', 'alandersh', 'almost', 'like', 'disingenuous', 'comes', 'trump', 'n', 'b', 'rt', 'brianstelter', 'maureendowd', 'ken', 'starr', 'clutched', 'pearls', 'bill', 'clinton', 'sexual', 'high', 'jinks', 'now', 'going', 'bat', 'pr', 'xe2', 'x80', 'xa6', 'n', 'b', 'marshablackburn', 'washington', 'national', 'cathedral', 'statement', 'nation', 'n', 'n', 'xe2', 'x80', 'x9cthe', 'time', 'silence', 'will', 'xe2', 'x80', 'xa6', 'https', 'co', 's68twdz56s', 'n', 'b', 'rt', 'ryanafournier', 'maxine', 'waters', 'xe2', 'x80', 'x99', 'daughter', 'paid', '750', '000', 'campaign', 'xe2', 'x80', 'x9cstuff', 'envelopes', 'xe2', 'x80', 'x9d', 'n', 'ntim', 'kaine', 'xe2', 'x80', 'x99s', 'son', 'member', 'antifa', 'xe2', 'x80', 'xa6', 'n', 'b', 'rt', 'davidwaddell5', 'tim', 'scott', 'democrats', 'xe2', 'x80', 'x99', 'impeachment', 'focus', 'xe2', 'x80', 'x9cthey', 'pretty', 'concerned', 'nbecause', 'americans', 'xe2', 'x80', 'x98now', 'solidly', 'behind', 'trump', 'xe2', 'x80', 'x9d', 'n', 'nhtt', 'xe2', 'x80', 'xa6', 'n', 'b', 'rt', 'speakerpelosi', 'american', 'people', 'agree', 'senate', 'needs', 'see', 'witnesses', 'documents', 'president', 'trump', 'blocked', 'house', 'xe2', 'x80', 'xa6', 'n', 'b', 'rt', 'acosta', 'sometimes', 'gets', 'little', 'tense', 'ask', 'something', 'xe2', 'x80', 'x99t', 'want', 'answer', 'try', 'sometime', 'xe2', 'x80', 'x99re', 'n', 'xe2', 'x80', 'xa6', 'n', 'b', 'rt', 'chizmaga', 'adam', 'schiff', 'caught', 'trying', 'obtain', 'compromising', 'pictures', 'trump', 'compromising', 'pics', 'floating', 'aro', 'xe2', 'x80', 'xa6', 'n', 'b', 'rt', 'jsorrell414', 'democrats', 'sanders', 'voters', 'kids', 'never', 'vote', 'cost', 'election', 'sitting', 'get', 'way', 'n', 'nsa', 'xe2', 'x80', 'xa6', 'n', 'b', 'kthalps', 'supertwaddle', 'xe2', 'x80', 'x9ctrump', 'bad', 'xe2', 'x80', 'x94but', 'xe2', 'x80', 'x99d', 'rather', 'lose', 'win', 'people', 'shop', 'walmart', 'xe2', 'x80', 'x9d', 'n', 'b', 'rt', 'brianklaas', 'comfortable', 'setting', 'precedent', 'next', 'president', 'abuses', 'power', 'extort', 'foreign', 'gove', 'xe2', 'x80', 'xa6', 'n', 'b', 'rt', 'caslernoel', 'trump', 'fan', '2a', 'xe2', 'x80', 'x99t', 'people', 'open', 'carry', 'golf', 'clubs', 'resorts', 'hotels', 'xe2', 'x80', 'x99m', 'sure', 'plenty', 'xe2', 'x80', 'xa6', 'n', 'b', 'donaldjtrumpjr', 'trump', 'lies', 'us', 'daily', 'day', 'long', 'n', 'b', 'rt', 'motherjones', 'xe2', 'x80', 'x9cunder', 'trump', 'insiders', 'taken', 'control', 'virtually', 'every', 'agency', 'interior', 'department', 'one', 'far', 'xe2', 'x80', 'xa6', 'n', 'b', 'rt', 'montyboa99', 'gopleader', 'trump', 'worked', 'day', 'overtime', 'life', 'nhe', 'spent', '30', 'presidency', 'far', 'resorts', 'xe2', 'x80', 'xa6', 'n', 'b', 'rt', 'amoneyresists', 'dershowitz', 'made', 'quite', 'compelling', 'case', 'impeaching', 'trump', 'back', '1998', 'nhttps', 'co', 'crcy7xqpny', 'n', 'b', 'rt', 'gmongold24', 'saracarterdc', 'amyklobuchar', 'lindseygrahamsc', 'realdonaldtrump', 'nytopinion', 'fn', 'bad', 'lady', 'nhe', 'broke', 'heart', 'ag', 'xe2', 'x80', 'xa6', 'n', 'b', 'rt', 'mhawk1220', 'foxnewssunday', 'lindseygrahamsc', 'shown', '2', 'face', 'mentality', 'tied', 'john', 'mccain', 'america', 'xe2', 'x80', 'xa6', 'n', 'b', 'rt', 'elledesylva', 'mcconnell', 'knew', 'nmulvaney', 'knew', 'npompeo', 'knew', 'nkushner', 'knew', 'njordan', 'knew', 'nnunes', 'knew', 'ntrump', 'knew', 'nbarr', 'knew', 'ngaetz', 'knew', 'npence', 'knew', 'nc', 'xe2', 'x80', 'xa6', 'n', 'b', 'rt', 'jalicat', 'xe2', 'x80', 'xbc', 'xef', 'xb8', 'x8fthis', 'puerto', 'rico', 'n', 'nthese', 'supplies', 'supposedly', 'never', 'sent', 'trump', 'admin', 'n', 'n', 'xf0', 'x9f', 'x97', 'xa3democrat', 'officials', 'lied', 'xe2', 'x80', 'xa6', 'n', 'b', 'republicans', 'even', 'come', 'consensus', 'climate', 'crisis', 'real', 'think', 'donald', 'trump', 'personally', 'respo', 'xe2', 'x80', 'xa6', 'https', 'co', 'dfm3ji276b', 'n', 'b', 'rt', 'smartgirls4gop', 'ilhanmn', '63', 'million', 'ppl', 'voted', 'trump', 'n', 'b', 'point', 'pretty', 'much', 'whole', 'country', 'pick', 'three', 'lineup', 'wants', 'n', 'b', 'rt', 'gatewaypundit', 'revealed', 'rod', 'rosenstein', 'made', 'call', 'release', 'anti', 'trump', 'strzok', 'page', 'text', 'messages', 'https', 'co', 's7gn6xsgvw', 'via', 'gatewayp', 'xe2', 'x80', 'xa6', 'n', 'b', 'rt', 'roncoleman', 'saracarterdc', 'repjerrynadler', 'pro', 'tip', 'literally', 'necessarily', 'worse', 'trump', 'hunter', 'biden', 'testify', 'xe2', 'x80', 'xa6', 'n', 'b', 'rt', 'qmagamike', 'xf0', 'x9f', 'x92', 'x96trump', 'xf0', 'x9f', 'x8d', 'xbfn72', 'n', 'jver1', 'n', 'qtanon1', 'n', 'markkirin', 'n', 'politicalwarrom', 'n', 'chiefvolpatriot', 'n', 'protectionist10', 'n', 'timburt', 'n', 'retire2outdoors', 'n', 'nickair', 'xe2', 'x80', 'xa6', 'n', 'b', 'rt', 'palmerreport', 'donald', 'trump', 'xe2', 'x80', 'x99s', 'robert', 'hyde', 'mess', 'just', 'keeps', 'getting', 'uglier', 'https', 'co', '7mlznensmu', 'n', 'b', 'rt', 'connerjanith', 'media', 'tell', 'bill', 'clinton', 'charged', '11', 'felonies', 'impeachable', 'offenses', 'trump', 'accused', 'zero', 'felon', 'xe2', 'x80', 'xa6', 'n', 'b', 'rt', 'beinghelpish', 'lev', 'trump', 'known', 'longer', 'xe2', 'x80', 'x99s', 'known', 'melania', 'n', 'ncan', 'anyone', 'verify', 'whether', 'n', 'n', 'letlevsp', 'xe2', 'x80', 'xa6', 'n', 'b', 'rt', 'sethabramson', 'standard', 'trump', 'donor', 'pics', 'thousands', 'people', 'waited', 'line', 'exact', 'last', 'supper', 'pic', 'taken', 'h', 'xe2', 'x80', 'xa6', 'n', 'b', 'rt', 'lindashere', 'resistsserena', 'dignity', 'trump', 'blackmailing', 'evidence', 'shady', 'activities', 'part', 'xe2', 'x80', 'xa6', 'n', 'b', 'rt', 'amoneyresists', 'trump', 'xe2', 'x80', 'x99s', 'foreign', 'policy', 'almost', 'exclusively', 'dictated', 'financial', 'holdings', 'deals', 'lie', 'pretty', 'mu', 'xe2', 'x80', 'xa6', 'n', 'b', 'rt', 'davidwaddell5', 'great', 'news', 'president', 'trump', 'take', 'birth', 'tourism', 'anchor', 'baby', 'crisis', 'america', 'https', 'co', 'aoz98hjktb', 'n', 'b', 'rt', 'tribelaw', 'knows', 'preetbharara', 'alandersh', 'says', 'p', '26', '2018', 'book', 'n', 'b', 'rt', 'sethabramson', 'got', 'hosed', 'magas', 'laughed', 'n', 'b', 'rt', 'kaitmarieox', 'everyone', 'twitter', 'hating', 'busy', 'getting', 'tour', 'white', 'house', 'thank', 'trump', 'administr', 'xe2', 'x80', 'xa6', 'n', 'b', 'rt', 'gatewaypundit', 'good', 'news', 'president', 'trump', 'take', 'birth', 'tourism', 'anchor', 'baby', 'crisis', 'america', 'https', 'co', 'ybhleha8u3', 'via', 'gatew', 'xe2', 'x80', 'xa6', 'n', 'b', 'rt', '808bakatan', 'funder', 'everytime', 'trump', 'goes', 'golfing', 'mar', 'lago', 'cost', 'us', 'least', '3', 'million', 'cost', '2', '94', 'per', 'meal', 'feed', 'homele', 'xe2', 'x80', 'xa6', 'n', 'b', 'rt', 'mehdirhasan', 'politico', 'headline', 'xe2', 'x80', 'x9cbiden', 'charges', 'sanders', 'camp', 'xe2', 'x80', 'x98doctored', 'video', 'xe2', 'x80', 'x99', 'attack', 'xe2', 'x80', 'x9d', 'n', 'nthis', 'politico', 'piece', 'xe2', 'x80', 'xa6', 'n', 'b', 'rt', 'thedailyedge', 'maybe', 'sounded', 'good', 'original', 'russian', 'kremlinkevin', 'english', 'makes', 'sound', 'like', 'traitor', 'n', 'ntrump', 'xe2', 'x80', 'xa6', 'n', 'b', 'rt', 'duty2warn', 'trump', 'says', 'xe2', 'x80', 'x9cknows', 'everything', 'xe2', 'x80', 'x9d', 'something', 'knows', 'nothing', 'says', 'knows', 'nothing', 'something', 'xe2', 'x80', 'xa6', 'n', 'b', 'rt', 'dufusrigamaroll', 'blakesmustache', 'thinking', 'rudy', 'public', 'declaration', 'insurance', 'must', 'reason', 'arrested', 'xe2', 'x80', 'xa6', 'n', 'b', 'rt', 'kagsoldier', 'electing', 'donald', 'trump', 'xf0', 'x9f', 'x87', 'xba', 'xf0', 'x9f', 'x87', 'xb8', 'taking', 'back', 'house', '2020', 'beginning', 'becoming', 'complacent', 'success', 'xe2', 'x80', 'xa6', 'n', 'b', 'ex', 'watergate', 'counsel', 'thinks', 'trump', 'might', 'written', 'impeachment', 'legal', 'brief', 'bad', 'https', 'co', 'glbfarotvu', 'n', 'b', 'rt', 'chizmaga', 'adam', 'schiff', 'caught', 'trying', 'obtain', 'compromising', 'pictures', 'trump', 'compromising', 'pics', 'floating', 'aro', 'xe2', 'x80', 'xa6', 'n', 'b', 'rt', 'msnbc', 'pres', 'trump', 'lev', 'parnas', 'know', 'nothing', 'tell', 'xe2', 'x80', 'x99t', 'know', 'xe2', 'x80', 'x99t', 'believe', 'xe2', 'x80', 'x99ve', 'ever', 'spoke', 'xe2', 'x80', 'xa6', 'n', 'b', 'rt', 'theriseofrod', 'deep', 'state', 'cia', 'fbi', 'orchestrated', 'mlk', 'assassination', '1968', 'fought', 'civil', 'rights', 'amp', 'spoke', 'ag', 'xe2', 'x80', 'xa6', 'n', 'b', 'whitehouse', 'farmbureau', 'donald', 'trump', 'crazy', 'called', 'president', 'deserve', 'president', 'n', 'b', 'rt', 'upweekly', 'now', 'pelosi', 'impeached', 'trump', 'will', 'become', 'stooge', 'xf0', 'x9f', 'x91', 'x8d', 'thinks', 'impeachment', 'sham', 'makes', 'trump', 'look', 'bad', 'xe2', 'x80', 'xa6', 'n', 'b', 'rt', 'tomthunkitsmind', 'levparnas', 'interview', 'maddow', 'xe2', 'x80', 'x99s', 'crystal', 'clear', 'trump', 'criminal', 'amp', 'supporters', 'left', 'ar', 'xe2', 'x80', 'xa6', 'n', 'b', 'xe2', 'x80', 'x99ve', 'wondering', 'feels', 'like', 'take', 'two', 'steps', 'forward', 'one', 'backward', 'trump', 'good', 'america', 'cia', 'xe2', 'x80', 'xa6', 'https', 'co', 'dllv0dkdra', 'n', 'b', 'rt', 'maxboot', 'trump', 'hired', 'starr', 'amp', 'dershowitz', 'legal', 'skills', 'tv', 'skills', 'xe2', 'x80', 'x94which', 'court', 'pu', 'xe2', 'x80', 'xa6', 'n', 'b', 'rt', 'mimix3', 'ericgarland', 'trump', 'guys', 'make', 'commit', 'crimes', 'old', 'evidence', 'dangerous', 'dangerous', 'n', 'b', 'rt', 'dahlia1027', 'xe2', 'x80', 'x99t', 'dismiss', 'merely', 'photo', 'bomber', 'tapes', 'n', 'nparnas', 'handed', 'audio', 'video', 'recordings', 'wel', 'xe2', 'x80', 'xa6', 'n', 'b', 'repmaxinewaters', 'elected', 'get', 'things', 'done', 'make', 'americans', 'lives', 'better', 'investigate', 'non', 'stop', 'y', 'xe2', 'x80', 'xa6', 'https', 'co', 'lbrtn1vjpt', 'n', 'b', 'rt', 'kurtschlichter', 'sure', 'n', 'ntrump', 'xe2', 'x80', 'x99s', 'family', 'business', 'succeeding', 'long', 'realdonaldtrump', 'ever', 'thought', 'becoming', 'presiden', 'xe2', 'x80', 'xa6', 'n', 'b', 'rt', 'angrierwhstaff', 'xe2', 'x80', 'x99ve', 'talked', 'concern', 'awhile', 'n', 'nwhen', 'leaves', 'office', 'xe2', 'x80', 'x99s', 'going', 'even', 'national', 'security', 'xe2', 'x80', 'xa6', 'n', 'b', 'rt', 'glennkirschner2', 'trump', 'xe2', 'x80', 'x99t', 'one', 'trial', 'week', 'mcconnell', 'also', 'will', 'trial', 'indeed', 'entire', 'senate', 'will', 'xe2', 'x80', 'xa6', 'n', 'b', 'rt', 'devinnunes', 'well', 'put', 'gopleader', 'https', 'co', 'gaskgy6ujz', 'n', 'b', 'rt', 'zeets', 'really', 'compared', 'bernie', 'trump', 'unbelievable', 'sees', 'cowardly', 'willful', 'stupidity', 'intelligence', 'know', 'mos', 'xe2', 'x80', 'xa6', 'n', 'b', 'rt', 'bennyjohnson', 'puerto', 'rican', 'politicians', 'tried', 'make', 'look', 'like', 'president', 'trump', 'xe2', 'x80', 'x99t', 'sending', 'aid', 'hurricane', 'maria', '2', 'xe2', 'x80', 'xa6', 'n', 'b', 'rt', 'thefarsideright', 'brad', 'parscale', '57', '9', 'voters', 'attendance', 'trump', 'campaign', 'rally', 'wisconsin', 'tuesday', 'either', 'registered', 'xe2', 'x80', 'xa6', 'n', 'b', 'rt', 'rezamarashi', 'one', 'trump', 'top', 'iran', 'advisors', 'got', 'suckered', 'honey', 'trap', 'laptop', 'iphone', 'stolen', 'hacked', 'wo', 'xe2', 'x80', 'xa6', 'n', 'b', 'rt', 'thomas1774paine', 'cher', 'floats', 'conspiracy', 'trump', 'xe2', 'x80', 'x99s', 'reelection', 'will', 'make', 'king', 'america', 'https', 'co', 'iib46kccha', 'n', 'b', 'rt', 'guadalahonkytoo', 'spytalker', 'trump', 'administration', 'placed', 'leave', 'russian', 'hookers', 'n', 'n', 'onbrand', 'n', 'n', 'peek', 'https', 'co', 'xe2', 'x80', 'xa6', 'n', 'b', 'rt', 'gtconway3d', 'reasonably', 'argue', 'senate', 'right', 'acquit', 'president', 'clinton', '1999', 'convict', 'president', 'trump', 'xe2', 'x80', 'xa6', 'n', 'b', 'rt', 'andromodid', 'gop', 'senators', 'considering', 'kill', 'switch', 'option', 'impeachment', 'trial', 'spiral', 'control', 'fox', 'news', 'https', 'co', 'hyekme', 'xe2', 'x80', 'xa6', 'n', 'b', 'rt', 'cnn', 'president', 'trump', 'telling', 'people', 'understand', 'impeached', 'wanted', 'legal', 'team', 'perform', 'xe2', 'x80', 'xa6', 'n', 'b', 'rt', 'adamparkhomenko', 'democratic', 'nominee', 'will', 'running', 'russia', 'nyt', 'north', 'korea', 'turkey', 'saudi', 'arabia', 'barr', 'facebook', 'mayb', 'xe2', 'x80', 'xa6', 'n', 'b', 'rt', 'msnbc', 'fmr', 'cia', 'director', 'john', 'brennan', 'xe2', 'x80', 'x9cdonald', 'trump', 'ignorant', 'well', 'incompetent', 'individual', 'ever', 'held', 'offic', 'xe2', 'x80', 'xa6', 'n', 'b', 'rt', 'realdonaldrumpf', 'thank', 'brave', 'johncornyn', 'crime', 'president', 'law', 'twelve', 'years', 'http', 'xe2', 'x80', 'xa6', 'n', 'b', 'rt', 'psychdr100', 'jews', 'people', 'animals', 'n', 'adolf', 'hitler', 'n', 'n', 'illegal', 'immigrants', 'people', 'animals', 'n', 'donald', 'tr', 'xe2', 'x80', 'xa6', 'n', 'b', 'rt', 'education4libs', 'giant', 'warehouse', 'full', 'emergency', 'relief', 'supplies', '2017', 'just', 'discovered', 'puerto', 'rico', 'n', 'nwow', 'n', 'nthis', 'aid', 'p', 'xe2', 'x80', 'xa6', 'n', 'b', 'rt', 'joncoopertweets', 'although', 'xe2', 'x80', 'x99m', 'personally', 'supporting', 'joebiden', 'president', 'pledge', 'votebluenomatterwho', 'will', 'take', 'xe2', 'x80', 'xa6', 'n', 'b', 'rt', 'kimruxton', 'dershowitz', 'defends', 'indefensible', 'moral', 'fighter', 'constitution', 'defended', 'trump', 'day', '1', 'n', 'nhttp', 'xe2', 'x80', 'xa6', 'n', 'b', 'rt', 'bubbaprog', 'glenresister', 'people', 'eric', 'trump', 'sixth', 'birthday', 'party', 'https', 'co', '4bumdm7vom', 'n', 'b', 'rt', 'thebradfordfile', 'endorse', 'donald', 'j', 'trump', '2020', 'presidential', 'election', 'n', 'nhow', 'n', 'b', 'rt', 'renukajain6', 'trump', 'started', 'deporting', 'american', 'citizens', 'iranian', 'descent', 'back', 'iran', 'neither', 'cnn', 'fox', 'news', 'aired', 'xe2', 'x80', 'xa6', 'n', 'b', 'winter', 'waste', 'vote', 'protest', 'vote', 'biden', 'warren', 'trump', 'dnc', 'dccc', 'amp', 'corp', 'media', 'complex', 'xe2', 'x80', 'xa6', 'https', 'co', 'wgkidcfl2z', 'n', 'b', 'rt', 'senbobcasey', 'obscene', 'republican', 'lawsuit', 'aca', 'backed', 'trump', 'administration', 'puts', 'health', 'care', 'millions', 'xe2', 'x80', 'xa6', 'n', 'b', 'rt', 'mustanggirl3', 'president', 'realdonaldtrump', 'polling', 'time', 'high', 'wisconsin', 'n', 'nso', 'much', 'winning', 'raise', 'hand', 'xf0', 'x9f', 'x96', 'x90', 'sti', 'xe2', 'x80', 'xa6', 'n', 'b', 'rt', 'education4libs', 'giant', 'warehouse', 'full', 'emergency', 'relief', 'supplies', '2017', 'just', 'discovered', 'puerto', 'rico', 'n', 'nwow', 'n', 'nthis', 'aid', 'p', 'xe2', 'x80', 'xa6', 'n', 'b', 'ultra', 'zionist', 'trump', '1', 'donor', 'sheldon', 'adelson', 'spotlights', 'dark', 'side', 'china', 'tourist', 'paradise', 'macau', 'xe2', 'x80', 'xa6', 'https', 'co', '6tpinbeb1c', 'n', 'b', 'rt', 'gopleader', 'rt', 'stand', 'president', 'trump', 'showing', 'unconditional', 'support', 'iranian', 'people', 'call', 'freedom', 'just', 'xe2', 'x80', 'xa6', 'n', 'b', 'rt', 'saragideon', 'thanks', 'senator', 'collins', 'vote', 'gop', 'tax', 'bill', 'country', 'top', 'banks', 'received', '32', 'billion', 'tax', 'breaks', 'n', 'nmeanwh', 'xe2', 'x80', 'xa6', 'n', 'b', 'rt', 'freddyatton', 'way', 'prevent', 'trump', 'selling', 'secrets', 'lock', 'trump', 'want', 'prison', 'career', 'criminal', 'xe2', 'x80', 'xa6', 'n', 'b', 'another', 'trumpflake', 'cowers', 'fear', 'presented', 'truth', 'trump', 'xe2', 'x80', 'x99s', 'criminality', 'https', 'co', '8k6lccthew', 'n', 'b', 'rt', 'tomburchett', 'dem', 'accused', 'trump', 'caring', 'pr', 'another', 'dem', 'r', 'brown', 'xf0', 'x9f', 'xa4', 'xa5', 'xf0', 'x9f', 'xa4', 'xa5', 'bunch', 'xf0', 'x9f', 'x90', 'xb4', 'xf0', 'x9f', 'x92', 'xa9', 'xe2', 'x80', 'xbc', 'xef', 'xb8', 'x8f', 'corrupt', 'pr', 'gov', 'amp', 'bias', 'xe2', 'x80', 'xa6', 'n', 'b', 'rt', 'charliekirk11', 'shameful', 'n', 'nthe', 'puerto', 'rican', 'governor', 'just', 'fired', 'emergency', 'director', 'millions', 'aid', 'found', 'wasting', 'away', 'xe2', 'x80', 'xa6', 'n', 'b', 'rt', 'joycewhitevance', 'fiona', 'hill', 'successor', 'placed', 'leave', 'national', 'security', 'issues', 'amp', 'escorted', 'wh', 'grounds', 'friday', 'peek', 'xe2', 'x80', 'xa6', 'n', 'b', 'rt', 'scottimmordino', 'ukraine', 'scandal', 'xe2', 'x80', 'x99t', 'just', 'one', 'phone', 'call', 'xe2', 'x80', 'x99s', 'massive', 'plot', 'https', 'co', 'pop6xhy7tt', 'n', 'b', 'rt', 'time', 'xe2', 'x80', 'x9cone', 'thing', 'remember', 'work', 'president', 'trump', 'xe2', 'x80', 'x99t', 'make', 'waves', 'makes', 'waves', 'xe2', 'x80', 'x9d', 'kushner', 'xe2', 'x80', 'xa6', 'n', 'b', 'rt', 'senschumer', 'today', 'read', 'house', 'managers', 'xe2', 'x80', 'x99', 'brief', 'xe2', 'x80', 'x94smart', 'sharp', 'laid', 'compelling', 'case', 'reflecting', 'seriousness', 'charges', 'xe2', 'x80', 'xa6', 'n', 'b', 'rt', 'speakerpelosi', 'american', 'people', 'agree', 'senate', 'needs', 'see', 'witnesses', 'documents', 'president', 'trump', 'blocked', 'house', 'xe2', 'x80', 'xa6', 'n', 'b', 'rt', 'howroute', 'definitely', 'trump', 'xe2', 'x80', 'x99s', 'resignation', 'speech', 'https', 'co', 'o5jgufkbb5', 'n', 'b', 'rt', 'perlmutations', 'long', 'breathe', 'god', 'xe2', 'x80', 'x99s', 'sweet', 'air', 'life', 'will', 'never', 'figure', 'kellyanne', 'george', 'thing', 'http', 'xe2', 'x80', 'xa6', 'n', 'b', 'rt', 'tribelaw', 'alandersh', 'grossly', 'misstating', 'law', 'history', 'even', 'arguments', 'johnson', 'senate', 'impeachment', 'trial', 'xe2', 'x80', 'x99s', 'b', 'xe2', 'x80', 'xa6', 'n', 'b', 'gotta', 'top', '5', 'time', 'tweet', 'xf0', 'x9f', 'x98', 'x82', 'xf0', 'x9f', 'x98', 'x82', 'xf0', 'x9f', 'x98', 'x82', 'xf0', 'x9f', 'x98', 'x82', 'xf0', 'x9f', 'x98', 'x82', 'n', 'b', 'rt', 'charliekirk11', 'shameful', 'n', 'nthe', 'puerto', 'rican', 'governor', 'just', 'fired', 'emergency', 'director', 'millions', 'aid', 'found', 'wasting', 'away', 'xe2', 'x80', 'xa6', 'n', 'b', 'rt', 'joycewhitevance', 'fiona', 'hill', 'successor', 'placed', 'leave', 'national', 'security', 'issues', 'amp', 'escorted', 'wh', 'grounds', 'friday', 'peek', 'xe2', 'x80', 'xa6', 'n', 'b', 'rt', 'connerjanith', 'waters', 'will', 'stop', 'investigating', 'trump', 'n', 'nunless', 'dems', 'removed', 'office', 'will', 'just', 'continue', 'n', 'never', 'see', 'xe2', 'x80', 'xa6', 'n', 'b', 'rt', 'acosta', 'sometimes', 'gets', 'little', 'tense', 'ask', 'something', 'xe2', 'x80', 'x99t', 'want', 'answer', 'try', 'sometime', 'xe2', 'x80', 'x99re', 'n', 'xe2', 'x80', 'xa6', 'n', 'b', 'rt', 'time', 'xe2', 'x80', 'x9cone', 'thing', 'remember', 'work', 'president', 'trump', 'xe2', 'x80', 'x99t', 'make', 'waves', 'makes', 'waves', 'xe2', 'x80', 'x9d', 'kushner', 'xe2', 'x80', 'xa6', 'n', 'b', 'human', 'really', 'n', 'b', 'bigaustindog', 'intern07', 'donaldjtrumpjr', 'realdonaldtrump', 'still', 'grasping', 'little', 'good', 'news', 'xe2', 'x80', 'xa6', 'https', 'co', '7ojzjw7qd3', 'n', 'b', 'olivermcgee', 'another', 'trump', 'blonde', 'scamming', 'name', 'lord', 'n', 'b', 'rt', 'danrather', 'lie', 'matters', 'https', 'co', 'ti6vd7omvn', 'n', 'b', 'bccraving', 'susie63w', 'rudygiuliani', 'information', 'faulty', 'plain', 'wrong', 'steve', 'bannon', 'testified', 'stone', 'ca', 'xe2', 'x80', 'xa6', 'https', 'co', '31rxpmmqqx', 'n', 'b', 'rt', 'time', 'xe2', 'x80', 'x9cone', 'thing', 'remember', 'work', 'president', 'trump', 'xe2', 'x80', 'x99t', 'make', 'waves', 'makes', 'waves', 'xe2', 'x80', 'x9d', 'kushner', 'xe2', 'x80', 'xa6', 'n', 'b', 'rt', 'teahcartel', 'tallahassee', 'fla', 'wctv', 'xe2', 'x80', 'x94', 'endeavor', 'air', 'pilot', 'arrested', 'nine', 'counts', 'criminal', 'mischief', 'caught', 'ca', 'xe2', 'x80', 'xa6', 'n', 'b', 'rt', 'disorderedworld', 'joseph', 'stiglitz', 'becoming', 'conventional', 'wisdom', 'us', 'president', 'donald', 'trump', 'will', 'tough', 'beat', 'november', 'xe2', 'x80', 'xa6', 'n', 'b', 'rt', 'ptsttrreed', 'ericgarland', 'ranchdressingtn', 'xe2', 'x80', 'x99m', 'sure', 'happening', 'trump', 'xe2', 'x80', 'x99t', 'want', 'truth', 'told', 'n', 'b', 'rt', 'ewarren', 'trump', 'administration', 'wants', 'weaken', 'law', 'bars', 'american', 'companies', 'bribing', 'foreign', 'officials', 'xe2', 'x80', 'x99s', 'corruptio', 'xe2', 'x80', 'xa6', 'n', 'b', 'rt', 'afilan', 'good', 'rundown', 'trump', 'colossal', 'middle', 'east', 'failures', 'https', 'co', 'nj6jmmlzlw', 'freilichchuck', 'n', 'b', 'rt', 'chunkyfila', 'think', 'xe2', 'x80', 'x99s', 'pretty', 'cool', 'agree', 'fucked', 'thing', 'past', 'decade', 'n', 'nit', 'xe2', 'x80', 'x99t', 'ebola', 'n', 'nit', 'xe2', 'x80', 'x99t', 'xe2', 'x80', 'xa6', 'n', 'b', 'rt', 'speakerpelosi', 'american', 'people', 'agree', 'senate', 'needs', 'see', 'witnesses', 'documents', 'president', 'trump', 'blocked', 'house', 'xe2', 'x80', 'xa6', 'n', 'b', 'rt', 'politicussarah', 'hugh', 'hewitt', 'republicans', 'russians', 'afraid', 'biden', 'obvious', 'reason', 'biden', 'easily', 'take', 'least', 'o', 'xe2', 'x80', 'xa6', 'n', 'b', 'rt', 'tribelaw', 'alandersh', 'grossly', 'misstating', 'law', 'history', 'even', 'arguments', 'johnson', 'senate', 'impeachment', 'trial', 'xe2', 'x80', 'x99s', 'b', 'xe2', 'x80', 'xa6', 'n', 'b', 'rt', 'chicago1ray', 'nfl', 'got', 'message', 'folks', 'n', 'nplayers', 'standing', 'xf0', 'x9f', 'x87', 'xba', 'xf0', 'x9f', 'x87', 'xb2', 'xf0', 'x9f', 'x87', 'xba', 'xf0', 'x9f', 'x87', 'xb2', 'xf0', 'x9f', 'x87', 'xba', 'xf0', 'x9f', 'x87', 'xb2national', 'anthem', 'xf0', 'x9f', 'x87', 'xba', 'xf0', 'x9f', 'x87', 'xb2', 'xf0', 'x9f', 'x87', 'xba', 'xf0', 'x9f', 'x87', 'xb2', 'xf0', 'x9f', 'x87', 'xba', 'xf0', 'x9f', 'x87', 'xb2', 'n', 'nwhat', 'difference', 'boycott', 'xe2', 'x80', 'xa6', 'n', 'b', 'leftistliez0510', 'realdonaldtrump', 'also', 'involved', 'bribery', 'ukraine', 'n', 'nthe', 'dems', 'articles', 'impeachment', 'xe2', 'x80', 'xa6', 'https', 'co', 'a8cvgzpakz', 'n', 'b', 'rt', 'barnettforaz', 'blows', 'faces', 'every', 'time', 'n', 'b', 'rt', 'stuinsd', 'immediately', 'fired', 'n', 'b', 'well', 'well', 'well', 'xe2', 'x81', 'xa6', 'n', 'xe2', 'x81', 'xa6', 'realdonaldtrump', 'xe2', 'x81', 'xa9', 'prevails', 'simply', 'xf0', 'x9f', 'xa5', 'x81', 'telling', 'truth', 'spite', 'xe2', 'x80', 'x9cpolitical', 'xe2', 'x80', 'xa6', 'https', 'co', 'eoy12jykpw', 'n', 'b', 'rt', 'osullivanauthor', 'trump', 'ridiculed', 'possibility', 'sea', 'wall', 'protecting', 'low', 'lying', 'areas', 'new', 'york', 'said', 'people', 'get', 'xe2', 'x80', 'xa6', 'n', 'b', 'bernforbernie20', 'human', 'squirrel', 'chimera', 'woman', 'color', 'amp', 'lady', 'minnesota', 'couple', 'dozen', 'p', 'xe2', 'x80', 'xa6', 'https', 'co', '6t7c83a41u', 'n', 'b', 'rt', 'beinghelpish', 'lev', 'trump', 'known', 'longer', 'xe2', 'x80', 'x99s', 'known', 'melania', 'n', 'ncan', 'anyone', 'verify', 'whether', 'n', 'n', 'letlevsp', 'xe2', 'x80', 'xa6', 'n', 'b', 'rt', 'qmagamike', 'xf0', 'x9f', 'x92', 'x96trump', 'xf0', 'x9f', 'x8d', 'xbfn73', 'n', 'rl9631', 'n', 'mrcride', 'n', 'ournanny', 'n', 'bigbillshater', 'n', 'scienceamore', 'n', 'donaldschuler7', 'n', 'rightsidearmy', 'n', 'mchiral5', 'n', 'dabber865', 'n', 'ro', 'xe2', 'x80', 'xa6', 'n', 'b', 'rt', 'gtconway3d', 'reasonably', 'argue', 'senate', 'right', 'acquit', 'president', 'clinton', '1999', 'convict', 'president', 'trump', 'xe2', 'x80', 'xa6', 'n', 'b', 'rt', 'education4libs', 'average', 'unemployment', 'rate', 'first', '3', 'years', 'n', 'nreagan', '9', 'nbush', 'sr', '5', '9', 'nclinton', '6', '2', 'nbush', 'jr', '5', '5', 'nobama', '9', '3', 'xe2', 'x80', 'xa6', 'n', 'b', 'my3monkees', 'puertoricans', 'n', 'nyou', 'stronger', 'globalists', 'nyou', 'many', 'people', 'stand', 'together', 'nfight', 'chr', 'xe2', 'x80', 'xa6', 'https', 'co', 'nzwbpl83se', 'n', 'b', 'rt', 'debwrightjones', 'woke', 'morning', 'president', 'trump', 'still', 'president', 'n', 'b', 'rt', 'papootx', 'former', 'white', 'house', 'chief', 'economic', 'advisor', 'xc2', 'xa0gary', 'cohn', 'xc2', 'xa0said', 'trump', 'xe2', 'x80', 'x99s', 'tariffs', 'totally', 'hurt', 'u', 'economy', 'n', 'nthe', 'tariffs', 'undermine', 'xe2', 'x80', 'xa6', 'n', 'b', 'rt', 'gtconway3d', 'thought', 'katyal', 'amp', 'conway', 'legal', 'odd', 'couple', 'dershowitz', 'amp', 'starr', 'n', 'nmy', 'thoughts', 'got', 'xe2', 'x80', 'xa6', 'n', 'b', 'rt', 'angrierwhstaff', 'xe2', 'x80', 'x99ve', 'talked', 'concern', 'awhile', 'n', 'nwhen', 'leaves', 'office', 'xe2', 'x80', 'x99s', 'going', 'even', 'national', 'security', 'xe2', 'x80', 'xa6', 'n', 'b', 'rt', 'neilhimself', 'bankruptcy', 'courts', 'trump', 'contract', 'publisher', 'contract', 'may', 'say', 'get', 'rights', 'back', 'case', 'bank', 'xe2', 'x80', 'xa6', 'n', 'b', 'rt', 'resistersis20', 'xe2', 'x80', 'x98i', 'need', 'evidence', 'need', 'witnesses', 'guide', 'xe2', 'x80', 'x99', 'n', 'collins', '1999', 'n', 'ntoday', 'xe2', 'x80', 'x99m', 'considering', 'new', 'evidence', 'xe2', 'x80', 'xa6', 'n', 'b', 'rt', 'freddyatton', 'walshfreedom', 'gtconway3d', 'scaramucci', 'justinamash', 'billkristol', 'davidfrum', 'therickwilson', 'steveschmidtses', 'maxboot', 'xf0', 'x9f', 'x96', 'xbc', 'xef', 'xb8', 'x8f', 'nfra', 'xe2', 'x80', 'xa6', 'n', 'b', 'rt', 'murrayb560sl', 'wordswithsteph', 'even', 'similarity', 'photos', 'nthey', 'mock', 'trump', 'west', 'mock', 'east', 'https', 'xe2', 'x80', 'xa6', 'n', 'b', 'rt', 'drkwarlord', 'trump', 'destroy', 'joebiden', 'will', 'mercilessly', 'punch', 'every', 'single', 'weakness', 'biden', 'repeatedly', 'joe', 'xe2', 'x80', 'xa6', 'n', 'b', 'boardingsoon', 'hope', 'america', 'become', 'trump', 'colon', 'n', 'b', 'rt', 'newsweek', 'ex', 'watergate', 'counsel', 'thinks', 'trump', 'might', 'written', 'impeachment', 'legal', 'brief', 'bad', 'https', 'co', '0pino', 'xe2', 'x80', 'xa6', 'n', 'b', 'rt', 'charliekirk11', 'shameful', 'n', 'nthe', 'puerto', 'rican', 'governor', 'just', 'fired', 'emergency', 'director', 'millions', 'aid', 'found', 'wasting', 'away', 'xe2', 'x80', 'xa6', 'n', 'b', 'rt', 'cnn', 'president', 'trump', 'telling', 'people', 'understand', 'impeached', 'wanted', 'legal', 'team', 'perform', 'xe2', 'x80', 'xa6', 'n', 'b', 'rt', 'tribelaw', 'knows', 'preetbharara', 'alandersh', 'says', 'p', '26', '2018', 'book', 'n', 'b', 'rt', 'newsnationtv', 'deepika', 'padukone', 'will', 'talk', 'mental', 'health', 'issues', 'sadhguru', 'will', 'hold', 'morning', 'meditation', 'sessions', 'xe2', 'x80', 'xa6', 'n', 'b', 'rt', 'robreiner', 'xe2', 'x80', 'x99t', 'make', 'shit', 'trump', 'wants', 'make', 'bribery', 'legal', 'criminally', 'corrupt', 'president', 'us', 'history', 'wants', 'xe2', 'x80', 'xa6', 'n', 'b', 'rt', 'gtconway3d', 'reasonably', 'argue', 'senate', 'right', 'acquit', 'president', 'clinton', '1999', 'convict', 'president', 'trump', 'xe2', 'x80', 'xa6', 'n', 'b', 'rt', 'drawandstrike', 'xf0', 'x9f', 'x9a', 'xa8', 'xf0', 'x9f', 'x9a', 'xa8', 'xf0', 'x9f', 'x9a', 'xa8new', 'column', 'alert', 'xf0', 'x9f', 'x9a', 'xa8', 'xf0', 'x9f', 'x9a', 'xa8', 'xf0', 'x9f', 'x9a', 'xa8', 'n', 'nwhy', 'trump', 'doctrine', 'working', 'middle', 'east', 'n', 'nhttps', 'co', 'wtri9jtph3', 'n', 'b', 'rt', 'davidjroth', 'wild', 'times', 'done', 'good', 'work', 'reporting', 'suffering', 'trump', 'created', 'cultivated', 'xe2', 'x80', 'x94', 'xe2', 'x80', 'xa6', 'n', 'b', 'rt', 'thebradfordfile', 'endorse', 'donald', 'j', 'trump', '2020', 'presidential', 'election', 'n', 'nhow', 'n', 'b', 'rt', 'vinrican', 'bernie', 'shot', '4', 'years', 'ago', 'unfortunately', 'democratic', 'party', 'screwed', 'nobody', 'stands', 'chance', 'trump', 'except', 'xe2', 'x80', 'xa6', 'n', 'b', 'rt', 'bridgetsterli19', 'trump', 'parallels', 'hitler', 'part', 'two', 'n', 'nhitler', 'stupid', 'hairstyle', 'ntrump', 'xe2', 'x9c', 'x85', 'n', 'nhitler', 'held', 'rallies', 'rising', 'po', 'xe2', 'x80', 'xa6', 'n', 'b', 'rt', 'neilhimself', 'bankruptcy', 'courts', 'trump', 'contract', 'publisher', 'contract', 'may', 'say', 'get', 'rights', 'back', 'case', 'bank', 'xe2', 'x80', 'xa6', 'n', 'b', 'rt', 'kenolin1', 'point', 'vp', 'abandon', 'admiration', 'dr', 'king', 'feasible', 'uphold', 'principles', 'mlk', 'gave', 'xe2', 'x80', 'xa6', 'n', 'b', 'rt', 'davidwaddell5', 'romney', 'loses', 'gop', 'support', 'utah', 'challenging', 'trump', 'impeachment', 'xf0', 'x9f', 'x91', 'x8f', 'xf0', 'x9f', 'x91', 'x8f', 'xf0', 'x9f', 'x91', 'x8f', 'https', 'co', 'opagrosioe', 'n', 'b', 'rt', 'fredskipbrown62', 'patrici15767099', 'remember', 'mayor', 'claiming', 'trump', 'helping', 'sending', 'supplies', 'resources', 'xe2', 'x80', 'xa6', 'n', 'b', 'farmers', 'refuse', 'cheer', 'trump', 'lies', 'xe2', 'x80', 'x99s', 'fighting', 'keep', 'land', 'https', 'co', '8iupn3ld75', 'n', 'b', 'rt', 'nyrunaway', 'melania', 'claims', 'xe2', 'x80', 'x98opportunists', 'xe2', 'x80', 'x99', 'ruining', 'family', 'xe2', 'x80', 'x99s', 'name', 'n', 'nwhat', 'good', 'name', 'ruined', 'everything', 'married', 'trump', 'e', 'xe2', 'x80', 'xa6', 'n', 'b', 'rt', 'repswalwell', 'national', 'archives', 'supposed', 'capture', 'history', 'erase', 'one', 'part', 'see', 'job', 'xe2', 'x80', 'xa6', 'n', 'b', 'rt', 'crypticnoone', 'nick', 'bosa', 'one', 'game', 'away', 'meeting', 'trump', 'n', 'nhttps', 'co', 'ofykamrpsa', 'n', 'b', 'maxcreager1', 'andrewyang', 'realdonaldtrump', 'respectable', 'commendable', 'say', 'someone', 'voting', 'trump', 'either', 'way', 'n', 'b', 'rt', 'nextrevfnc', 'charliekirk11', 'president', 'trump', 'impeached', 'obstruction', 'congress', 'elected', 'n', 'n', 'nextrevfn', 'xe2', 'x80', 'xa6', 'n', 'b', 'rt', 'hrenee80', 'moms', 'young', 'girls', 'screaming', 'xe2', 'x80', 'x9cfuck', 'trump', 'xe2', 'x80', 'x9d', 'need', 'slapped', 'n', 'nif', 'daughter', 'ever', 'said', 'word', 'front', 'xe2', 'x80', 'xa6', 'n', 'b', 'rt', 'gopleader', 'sums', 'last', 'three', 'years', 'xe2', 'x86', 'xb4', 'n', 'npresident', 'trump', 'working', 'overtime', 'defend', 'america', 'n', 'ndemocrats', 'working', 'overtime', 'defa', 'xe2', 'x80', 'xa6', 'n', 'b', 'rt', 'billybaldwin', 'remind', 'trump', 'nwas', 'n', 'nthe', 'lies', 'ndraft', 'dodging', 'nsexual', 'assault', 'nrobbing', 'contractors', 'nnot', 'paying', 'tax', 'xe2', 'x80', 'xa6', 'n', 'b', 'rt', 'irishrygirl', 'xe2', 'x80', 'x99ve', 'seen', 'pictures', 'trump', 'lev', 'together', 'trump', 'son', 'barron', 'n', 'b', 'olivermcgee', 'realdonaldtrump', 'potus', 'speakerpelosi', 'whitehouse', 'barackobama', 'impeach', 'trump', 'tramp', 'n', 'b', 'rt', 'jgeltzer', 'sounds', 'like', 'another', 'smooth', 'personnel', 'transition', 'trump', 'white', 'house', 'n', 'n', 'xe2', 'x80', 'x9cthe', 'top', 'russia', 'expert', 'trump', 'xe2', 'x80', 'x99s', 'national', 'securit', 'xe2', 'x80', 'xa6', 'n', 'b', 'rt', 'quantumhumanity', 'mcspocky', 'realdonaldtrump', 'people', 'united', 'states', 'america', 'demand', 'immediate', 'arrest', 'donald', 'trump', 'f', 'xe2', 'x80', 'xa6', 'n', 'b', 'rt', 'wendymeer11', 'well', 'well', 'well', 'jeff', 'sessions', 'pictured', 'lev', 'parnas', 'instructed', 'jd', 'ignite', 'smear', 'campaign', 'likes', 'o', 'xe2', 'x80', 'xa6', 'n', 'b', 'rt', 'atrupar', 'trump', 'xe2', 'x80', 'x99s', 'space', 'force', 'troops', 'wearing', 'camo', 'space', 'perhaps', 'strongest', 'evidence', 'yet', 'idiocracy', 'documentary', 'n', 'b', 'rt', 'camerouninema', 'remember', 'exposed', 'girl', 'block', 'white', 'trump', 'supporter', 'just', 'killed', 's2', 'xf0', 'x9f', 'x98', 'x82', 'xe2', 'x80', 'xa6', 'n', 'b', 'rt', 'mamendoza480', 'xe2', 'x80', 'x99m', 'putting', 'democrats', 'blast', 'xf0', 'x9f', 'x92', 'xa5', 'homeless', 'americans', 'suffering', 'streets', 'xe2', 'x80', 'x99t', 'care', 'xe2', 'x80', 'xa6', 'n', 'b', 'rt', 'denbrots', 'trump', 'parnas', 'families', 'apparently', 'celebrated', 'ivanka', 'xe2', 'x80', 'x99s', 'birthday', '8', 'yrs', 'old', 'n', 'b', 'rt', 'karolcummins', 'trump', 'xe2', 'x80', 'x99s', 'trade', 'war', 'making', 'lobbyists', 'rich', 'slamming', 'small', 'businesses', 'n', 'nwashington', 'xe2', 'x80', 'x99s', 'influence', 'industry', 'including', 'xe2', 'x80', 'xa6', 'n', 'b', 'e', 'race', 'dictate', 'political', 'views', 'everyone', 'race', 'thinks', 'n', 'nand', 'minority', 'xe2', 'x80', 'xa6', 'https', 'co', 'i0oqhed3rj', 'n', 'b', 'rt', 'urocklive1', 'lev', 'parnas', 'handed', 'tapes', 'trump', 'giuliani', 'house', 'intelligence', 'committee', 'n', 'nlordy', 'tapes', 'n', 'nhttps', 'xe2', 'x80', 'xa6', 'n', 'b', 'rt', 'an3ita5', 'trump', 'wants', 'cancel', '2020', 'presidential', 'debates', 'thinks', 'xe2', 'x80', 'x99ll', 'xe2', 'x80', 'x98unfair', 'xe2', 'x80', 'x99', 'https', 'co', 'qeyohjcam3', 'via', 'nicolej', 'xe2', 'x80', 'xa6', 'n', 'b', 'rt', 'polishpatriottm', 'realdonaldtrump', 'pointing', 'wall', 'street', 'journal', 'poll', '83', 'farmers', 'ranchers', 'approve', 'president', 'trump', 'w', 'xe2', 'x80', 'xa6', 'n', 'b', 'willard', 'lived', 'name', 'whole', 'life', 'surprise', 'nall', 'mr', 'willard', 'romney', 'n', 'b', 'rt', 'parscale', '100', 'fake', 'news', 'learn', 'read', 'fec', 'report', 'learn', 'jfa', 'jfcs', 'work', 'n', 'ntrump', 'campaign', 'joint', 'committees', 'raised', '463m', 'xe2', 'x80', 'xa6', 'n', 'b', 'rt', 'kenolin1', 'point', 'vp', 'abandon', 'admiration', 'dr', 'king', 'feasible', 'uphold', 'principles', 'mlk', 'gave', 'xe2', 'x80', 'xa6', 'n', 'b', 'rt', 'chicago1ray', 'nfl', 'got', 'message', 'folks', 'n', 'nplayers', 'standing', 'xf0', 'x9f', 'x87', 'xba', 'xf0', 'x9f', 'x87', 'xb2', 'xf0', 'x9f', 'x87', 'xba', 'xf0', 'x9f', 'x87', 'xb2', 'xf0', 'x9f', 'x87', 'xba', 'xf0', 'x9f', 'x87', 'xb2national', 'anthem', 'xf0', 'x9f', 'x87', 'xba', 'xf0', 'x9f', 'x87', 'xb2', 'xf0', 'x9f', 'x87', 'xba', 'xf0', 'x9f', 'x87', 'xb2', 'xf0', 'x9f', 'x87', 'xba', 'xf0', 'x9f', 'x87', 'xb2', 'n', 'nwhat', 'difference', 'boycott', 'xe2', 'x80', 'xa6', 'n', 'b', 'rt', 'bethlahem16', 'marktrumpiskag', 'zx225skeeter', 'ryderron1', 'mcmurcher44', 'cindynurse', 'ltbaker2', 'hpot77', 'pokergod12345', 'brandon45', 'tysonu', 'xe2', 'x80', 'xa6', 'n', 'b', 'trump', 'peace', 'plan', 'rescue', 'netanyahu', 'https', 'co', 'x6xj5nyvim', 'n', 'b', 'rt', 'crewcrew', 'know', 'trump', 'certainly', 'transparency', 'hiding', 'travel', 'costs', 'tax', 'returns', 'nhttps', 'xe2', 'x80', 'xa6', 'n', 'b', 'rt', 'mmpadellan', 'somebody', 'say', 'tapes', 'n', 'nhttps', 'co', 'cnl7thulbg', 'n', 'b', 'rt', 'politicussarah', 'xe2', 'x80', 'x9cif', 'peek', 'victim', 'target', 'overseas', 'operation', 'escorted', 'grounds', 'plac', 'xe2', 'x80', 'xa6', 'n', 'b', 'iseeyoumotel6', 'malcolmnance', 'agreed', 'trump', 'sickens', 'amp', 'day', 'n', 'b', 'rt', 'mmpadellan', 'somebody', 'say', 'tapes', 'n', 'nhttps', 'co', 'cnl7thulbg', 'n', 'b', 'rt', 'colbertbigb', 'liar', 'chief', 'never', 'met', 'parnas', 'xf0', 'x9f', 'x98', 'xa3', 'nlev', 'parnas', 'photos', 'trump', 'family', 'despite', 'president', 'denial', 'https', 'co', 'fvbq', 'xe2', 'x80', 'xa6', 'n', 'b', 'anonymsone', 'sandibehrns', 'agree', 'sometimes', 'think', 'bernie', 'bros', 'prefer', 'trump', 'actual', 'democrat', 'n', 'b', 'rt', 'anniegabstonh', 'want', 'n', 'ntrump', 'amp', 'co', 'safely', 'behind', 'bars', 'n', 'npresident', 'senate', 'house', 'blue', 'n', 'naffordable', 'health', 'care', 'xe2', 'x80', 'xa6', 'n', 'b', 'rt', 'lynnweiser', 'brandonstraka', 'real', 'truth', 'went', 'trump', 'rally', 'last', 'weekend', 'stood', 'next', 'latino', 'woman', 'xe2', 'x80', 'xa6', 'n', 'b', 'rt', 'an3ita5', 'trump', 'wants', 'cancel', '2020', 'presidential', 'debates', 'thinks', 'xe2', 'x80', 'x99ll', 'xe2', 'x80', 'x98unfair', 'xe2', 'x80', 'x99', 'https', 'co', 'qeyohjcam3', 'via', 'nicolej', 'xe2', 'x80', 'xa6', 'n', 'b', 'rt', 'thebradfordfile', 'endorse', 'donald', 'j', 'trump', '2020', 'presidential', 'election', 'n', 'nhow', 'n', 'b', 'overnight', 'health', 'care', 'trump', 'reportedly', 'lashed', 'health', 'chief', 'polling', 'justices', 'hear', 'obamacare', 'birth', 'xe2', 'x80', 'xa6', 'https', 'co', '0mwwlcppau', 'n', 'b', 'rt', 'asharangappa', 'deep', 'https', 'co', 'z7gtneq1iq', 'n', 'b', 'rt', 'natlseccnslrs', 'going', 'make', 'point', 'hopefully', 'maga', 'person', 'will', 'fail', 'understand', 'remember', '2nd', 'half', 'lion', 'k', 'xe2', 'x80', 'xa6', 'n', 'b', 'rt', 'doggintrump', 'today', 'episode', 'give', 'fuck', 'n', 'ntrump', 'angry', 'book', 'written', 'deteriorating', 'mental', 'state', 'sai', 'xe2', 'x80', 'xa6', 'n', 'b', 'rt', 'mtnmd', 'realdonaldtrump', 'lied', 'lev', 'parnas', 'now', 'interviews', 'last', 'week', 'evidence', 'prepared', 'going', 'take', 'xe2', 'x80', 'xa6', 'n', 'b', 'rt', 'aaronjmate', 'captures', 'nyt', 'contempt', 'working', 'people', 'amp', 'pathetic', 'opposition', 'trump', 'order', 'dismiss', 'bernie', 'working', 'xe2', 'x80', 'xa6', 'n', 'b', 'rt', 'kittenmule888', 'xf0', 'x9f', 'x91', 'x87', 'xf0', 'x9f', 'x8f', 'xbb', 'xf0', 'x9f', 'x92', 'xa5the', 'articles', 'impeachment', 'constitutionallyinvalid', 'fail', 'allege', 'crime', 'violation', 'la', 'xe2', 'x80', 'xa6', 'n', 'b', 'rt', 'fuzzyfuzzbutt', 'resistsserena', 'lev', 'parnas', 'said', 'many', 'republicans', 'xe2', 'x80', 'x99t', 'speak', 'impeached', 'donald', 'trump', 'fear', 'xe2', 'x80', 'xa6', 'n', 'b', 'trumpisanazi196', 'saltygulf', 'question', 'know', 'bet', 'much', 'trump', 'point', 'view', 'https', 'co', 'f1hixxlhie', 'n', 'b', 'rt', 'tomthunkitsmind', 'trump', 'meds', 'lindsey', 'graham', 'fox', 'news', 'look', 'biden', 'affair', 'outside', 'impeachment', 'https', 'xe2', 'x80', 'xa6', 'n', 'b', 'sexcounseling', 'realdonaldtrump', 'marklevinshow', 'repdougcollins', 'foxnews', 'made', 'sense', 'im', 'fucking', 'worth', 'xe2', 'x80', 'xa6', 'https', 'co', 'pgduzhxxps', 'n', 'b', 'rt', 'carolyncorneli8', 'xf0', 'x9f', 'x87', 'xba', 'xf0', 'x9f', 'x87', 'xb8', 'xf0', 'x9f', 'x87', 'xba', 'xf0', 'x9f', 'x87', 'xb8the', 'demorats', 'better', 'get', 'ready', 'presidents', 'legal', 'team', 'xe2', 'x80', 'x99s', 'time', 'expose', 'charade', 'xf0', 'x9f', 'x87', 'xba', 'xf0', 'x9f', 'x87', 'xb8', 'xf0', 'x9f', 'x87', 'xba', 'xf0', 'x9f', 'x87', 'xb8', 'xe2', 'x80', 'x99', 'https', 'co', 'w4v', 'xe2', 'x80', 'xa6', 'n', 'b', 'rt', 'ivankatrump', 'pro', 'growth', 'economic', 'agenda', 'supported', 'working', 'family', 'policies', 'made', 'women', 'biggest', 'winners', 'trump', 'e', 'xe2', 'x80', 'xa6', 'n', 'b', 'dhershiser', 'eathbound420', 'next', 'president', 'cleans', 'post', 'cyclone', 'mess', 'trump', 'kids', 'plus', 'kuschner', 'xe2', 'x80', 'xa6', 'https', 'co', 'vernclydcy', 'n', 'b', 'rt', 'c3c3', 'truth', 'n', 'ntrump', 'cleanest', 'person', 'dc', 'n', 'nthey', 'opened', 'fbi', 'investigation', 'search', 'crime', 'n', 'nthey', 'appointed', 'special', 'xe2', 'x80', 'xa6', 'n', 'b', 'trump', 'xe2', 'x80', 'x99s', 'greatest', 'ally', 'coming', 'election', 'facebook', 'john', 'harris', 'opinion', 'https', 'co', 'm4wuadmpve', 'theweekusa', 'todayusa', 'today', 'n', 'b', 'rt', 'funder', 'yes', 'trump', 'might', 'actually', 'removed', 'n', 'nhave', 'nice', 'night', 'n', 'b', 'rt', 'acosta', 'sometimes', 'gets', 'little', 'tense', 'ask', 'something', 'xe2', 'x80', 'x99t', 'want', 'answer', 'try', 'sometime', 'xe2', 'x80', 'x99re', 'n', 'xe2', 'x80', 'xa6', 'n', 'b', 'rt', 'gtconway3d', 'reasonably', 'argue', 'senate', 'right', 'acquit', 'president', 'clinton', '1999', 'convict', 'president', 'trump', 'xe2', 'x80', 'xa6', 'n', 'b', 'rt', 'raptors97', 'nick', 'bosa', 'knowing', 'xe2', 'x80', 'x99s', '2', 'wins', 'away', 'visiting', 'trump', 'white', 'house', 'https', 'co', 'yk3lcfoxaj', 'n', 'b', 'cryptorelapse', 'paulmuaddib61', 'yeah', 'well', 'dont', 'despair', 'watch', 'america', 'treasonous', 'cabal', 'shut', 'wil', 'xe2', 'x80', 'xa6', 'https', 'co', '0plc794xlw', 'n', 'b', 'rt', 'glennkirschner2', 'trump', 'xe2', 'x80', 'x99t', 'one', 'trial', 'week', 'mcconnell', 'also', 'will', 'trial', 'indeed', 'entire', 'senate', 'will', 'xe2', 'x80', 'xa6', 'n', 'b', 'rt', 'davidwaddell5', 'romney', 'loses', 'gop', 'support', 'utah', 'challenging', 'trump', 'impeachment', 'xf0', 'x9f', 'x91', 'x8f', 'xf0', 'x9f', 'x91', 'x8f', 'xf0', 'x9f', 'x91', 'x8f', 'https', 'co', 'opagrosioe', 'n', 'b', 'realdonaldtrump', 'ni', 'dream', 'deliver', 'speaker', 'pelosi', 'delivers', 'mike', 'pence', 'vp', 'xe2', 'x80', 'xa6', 'https', 'co', 'ho7q34ndsu', 'n', 'b', 'rt', 'jonathanturley', 'msnbc', 'host', 'lawrence', 'o', 'xe2', 'x80', 'x99donnell', 'declares', 'trump', 'supporters', 'xe2', 'x80', 'x9cliars', 'xe2', 'x80', 'x9d', 'refuses', 'xc2', 'xa0show', 'https', 'co', 'tgybjf5fwx', 'n', 'b', 'rt', 'girlsreallyrule', 'dershowitz', 'admits', 'argument', 'trump', 'commit', 'impeachable', 'offense', 'attempt', 'make', 'sure', 'w', 'xe2', 'x80', 'xa6', 'n', 'b', 'rt', 'joshuapotash', 'wow', 'n', 'nthe', 'women', 'xe2', 'x80', 'x99s', 'march', 'broke', 'planned', 'route', 'go', 'trump', 'hotel', 'n', 'nand', 'xf0', 'x9f', 'x91', 'x87', 'xf0', 'x9f', 'x8f', 'xbb', 'n', 'n', 'https', 'co', '1yw0dzkijw', 'n', 'b', 'rt', 'socialsubtext', 'cnn', 'american', 'people', 'hope', 'jobs', 'vs', 'coverup', 'trump', 'witnesses', 'evidence', 'disprove', 'de', 'xe2', 'x80', 'xa6', 'n', 'b', 'rt', 'upweekly', 'world', 'evil', 'hide', 'crucial', 'supplies', 'make', 'trump', 'look', 'bad', 'xf0', 'x9f', 'xa4', 'x94', 'realize', 'collateral', 'damage', 'xe2', 'x80', 'xa6', 'n', 'b', 'rt', 'tomthunkitsmind', 'trump', 'pushes', 'extremely', 'dubious', 'numbers', 'median', 'household', 'income', 'term', 'see', 'fact', 'check', 'http', 'xe2', 'x80', 'xa6', 'n', 'b', 'rt', 'education4libs', 'trump', 'focused', 'n', 'signing', 'better', 'trade', 'deals', 'n', 'growing', 'economy', 'n', 'rebuilding', 'military', 'n', 'killing', 'terrorists', 'n', 'fin', 'xe2', 'x80', 'xa6', 'n', 'b', 'rt', 'proviewsusa', 'feel', 'bernie', 'beating', 'trump', 'pramila', 'jayapal', 'endorses', 'sanders', 'president', 'n', 'n', 'bernie2020', 'n', 'nhttps', 'co', 'xqko', 'xe2', 'x80', 'xa6', 'n', 'b', 'rt', 'politico', 'sen', 'john', 'cornyn', 'said', 'president', 'donald', 'trump', 'xe2', 'x80', 'x99s', 'personal', 'attorney', 'rudy', 'giuliani', 'xe2', 'x80', 'x9cnot', 'relevant', 'xe2', 'x80', 'x9d', 'senate', 'impeachment', 'xe2', 'x80', 'xa6', 'n', 'b', 'oh', 'trump', 'never', 'knew', 'lev', 'ya', 'right', 'realdonaldtrump', 'n', 'b', 'rt', 'jenniferjjacobs', 'new', 'top', 'russia', 'expert', 'trump', 'xe2', 'x80', 'x99s', 'national', 'security', 'council', 'andrew', 'peek', 'left', 'post', 'just', 'couple', 'months', 'xe2', 'x80', 'xa6', 'n', 'b', 'rt', 'iminhisbook', 'mad', 'max', 'prime', 'example', 'liberalism', 'mental', 'disorder', 'think', 'acquittal', 'plan', 'kee', 'xe2', 'x80', 'xa6', 'n', 'b', 'johnboozman', 'nis', 'lev', 'little', 'eric', 'trump', 'birthday', 'party', '25', 'years', 'ago', 'https', 'co', 'wg6dwncx54', 'n', 'b', 'rt', 'mollyjongfast', 'xf0', 'x9f', 'x8e', 'xb6', 'xf0', 'x9f', 'x8e', 'xb6this', 'works', 'xf0', 'x9f', 'x8e', 'xb6', 'xf0', 'x9f', 'x8e', 'xb6', 'n', 'b', 'actually', 'think', 'must', 'true', 'explanation', 'rqa', 'n', 'b', 'rt', 'drmartyfox', 'fisa', 'court', 'run', 'obama', 'appointee', 'n', 'nhe', 'appoints', 'david', 'kris', 'nanti', 'trump', 'obama', 'lawyer', 'nto', 'oversee', 'reforms', 'n', 'nhow', 'xe2', 'x80', 'xa6', 'n', 'b', 'rt', 'michaelbrooks', 'new', 'york', 'times', 'embarrassing', 'thing', 'earth', 'subconsciously', 'wants', 'another', 'trump', 'term', 'n', 'b', 'rt', 'justdeplorible', 'just', 'wrote', 'white', 'house', 'requesting', 'trump', 'step', 'settle', '2a', 'violations', 'going', 'virginia', 'n', 'nit', 'xe2', 'x80', 'xa6', 'n', 'b', 'unification', 'republican', 'party', 'thanks', 'beloved', 'president', 'trump', 'rhinos', 'like', 'ro', 'xe2', 'x80', 'xa6', 'https', 'co', 'lpl2krgs6h', 'n', 'b', 'rt', 'nytimes', 'senator', 'cory', 'gardner', 'colorado', 'held', 'town', 'hall', 'style', 'meeting', '2', 'years', 'avoiding', 'attention', 'ties', 'xe2', 'x80', 'xa6', 'n', 'b', 'rt', 'legalstream15', 'gtconway3d', 'senatorcollins', 'pence', 'barr', 'pompeo', 'trump', 'n', 'n', 'everyone', 'loop', 'nles', 'parnas', 'ngordon', 'sonderland', 'n', 'npence', 'xe2', 'x80', 'xa6', 'n', 'b', 'rt', 'js26783joe', 'acyn', 'guy', 'collins', 'one', 'sickest', 'mfs', 'around', 'trump', 'cares', 'children', 'border', 'c', 'xe2', 'x80', 'xa6', 'n', 'b', 'rt', 'johncardillo', 'husband', 'shopping', 'n', 'b', 'nelsonwilbury15', 'amysiskind', 'ewarren', 'amyklobuchar', 'xe2', 'x80', 'x99s', 'way', 'trump', 'debates', 'time', 'xe2', 'x80', 'x99s', 'going', 'ads', 'n', 'b', 'rt', 'kenklippenstein', 'klobuchar', 'get', 'absolutely', 'washed', 'trump', 'lol', 'n', 'b', 'guess', 'missed', 'bernie', 'said', 'last', 'debate', 'said', 'support', 'whoever', 'got', 'nomination', 'bashi', 'xe2', 'x80', 'xa6', 'https', 'co', '3h5jm4tesr', 'n', 'b', 'rt', 'teapainusa', 'part', 'written', 'crayon', 'caps', 'https', 'co', 'nystn843dp', 'n', 'b', 'howroute', 'sure', 'xe2', 'x80', 'x99t', 'trump', 'blood', 'running', 'veins', 'two', 'related', 'sickness', 'deep', 'n', 'b', 'rt', 'inspiringu2', 'afb2020', 'n', 'nwe', 'need', 'trump', 'nin', 'oval', 'anymore', 'n', 'n', '8645asap2saveusa', 'https', 'co', 'cvmf4ykk1k', 'n', 'b', 'rt', 'wordswithsteph', 'trump', 'amp', 'goons', 'considered', 'marie', 'yovanovitch', 'xe2', 'x80', 'x9cbitch', 'xe2', 'x80', 'x9d', 'stood', 'way', 'ukraine', 'schemes', 'stalked', 'h', 'xe2', 'x80', 'xa6', 'n', 'b', 'rt', 'lulufortexas', 'donald', 'trump', 'visited', 'texas', '14th', 'time', 'presidency', 'tonight', 'biggest', 'fanboy', 'vantaylortx', 'xe2', 'x80', 'xa6', 'n', 'b', 'rt', 'thelastrefuge2', 'president', 'trump', 'convention', 'speech', 'american', 'farm', 'bureau', 'xe2', 'x80', 'x93', 'video', 'transcript', 'xe2', 'x80', 'xa6', 'https', 'co', 'yggyktstnm', 'https', 'co', 'xe2', 'x80', 'xa6', 'n', 'b', 'rt', 'joycewhitevance', 'priceless', 'xe2', 'x81', 'xa6', 'gtconway3d', 'xe2', 'x81', 'xa9', 'https', 'co', 'e7bxenux3l', 'n', 'b', 'rt', 'donaldjtrumpjr', 'look', 'forward', 'wall', 'wall', 'coverage', 'now', 'found', 'realdonaldtrump', 'right', 'along', 'n', '']\n"
     ]
    }
   ],
   "source": [
    "print(Words)\n",
    "#note that we still have random words like 'xe2' but these words will not \n",
    "#interfere with number of positive or negative sentiment words."
   ]
  },
  {
   "cell_type": "markdown",
   "metadata": {},
   "source": [
    "Step 3: Determing senitment through positive words"
   ]
  },
  {
   "cell_type": "code",
   "execution_count": 12,
   "metadata": {},
   "outputs": [],
   "source": [
    "file2 = open('positive.txt','r')"
   ]
  },
  {
   "cell_type": "code",
   "execution_count": 13,
   "metadata": {},
   "outputs": [],
   "source": [
    "text2 = file2.read()"
   ]
  },
  {
   "cell_type": "code",
   "execution_count": 14,
   "metadata": {},
   "outputs": [],
   "source": [
    "file2.close()"
   ]
  },
  {
   "cell_type": "code",
   "execution_count": 15,
   "metadata": {},
   "outputs": [],
   "source": [
    "import re \n",
    "words2 = re.split(r'\\W+', text2.lower())\n"
   ]
  },
  {
   "cell_type": "code",
   "execution_count": 16,
   "metadata": {},
   "outputs": [],
   "source": [
    "sentiment = 0\n",
    "for i in Words:\n",
    "    if i in words2:\n",
    "       sentiment = sentiment + 1\n"
   ]
  },
  {
   "cell_type": "code",
   "execution_count": 17,
   "metadata": {},
   "outputs": [
    {
     "name": "stdout",
     "output_type": "stream",
     "text": [
      "640\n"
     ]
    }
   ],
   "source": [
    "print(sentiment)"
   ]
  },
  {
   "cell_type": "markdown",
   "metadata": {},
   "source": [
    "Step 4: Determining Sentiment through negative words"
   ]
  },
  {
   "cell_type": "code",
   "execution_count": 18,
   "metadata": {},
   "outputs": [],
   "source": [
    "file3 = open('negative.txt', 'r')"
   ]
  },
  {
   "cell_type": "code",
   "execution_count": 19,
   "metadata": {},
   "outputs": [],
   "source": [
    "text3 = file3.read()"
   ]
  },
  {
   "cell_type": "code",
   "execution_count": 20,
   "metadata": {},
   "outputs": [],
   "source": [
    "file3.close()"
   ]
  },
  {
   "cell_type": "code",
   "execution_count": 21,
   "metadata": {},
   "outputs": [
    {
     "name": "stdout",
     "output_type": "stream",
     "text": [
      "['2', 'faced', '2', 'faces', 'abnormal', 'abolish', 'abominable', 'abominably', 'abominate', 'abomination', 'abort', 'aborted', 'aborts', 'abrade', 'abrasive', 'abrupt', 'abruptly', 'abscond', 'absence', 'absent', 'minded', 'absentee', 'absurd', 'absurdity', 'absurdly', 'absurdness', 'abuse', 'abused', 'abuses', 'abusive', 'abysmal', 'abysmally', 'abyss', 'accidental', 'accost', 'accursed', 'accusation', 'accusations', 'accuse', 'accuses', 'accusing', 'accusingly', 'acerbate', 'acerbic', 'acerbically', 'ache', 'ached', 'aches', 'achey', 'aching', 'acrid', 'acridly', 'acridness', 'acrimonious', 'acrimoniously', 'acrimony', 'adamant', 'adamantly', 'addict', 'addicted', 'addicting', 'addicts', 'admonish', 'admonisher', 'admonishingly', 'admonishment', 'admonition', 'adulterate', 'adulterated', 'adulteration', 'adulterier', 'adversarial', 'adversary', 'adverse', 'adversity', 'afflict', 'affliction', 'afflictive', 'affront', 'afraid', 'aggravate', 'aggravating', 'aggravation', 'aggression', 'aggressive', 'aggressiveness', 'aggressor', 'aggrieve', 'aggrieved', 'aggrivation', 'aghast', 'agonies', 'agonize', 'agonizing', 'agonizingly', 'agony', 'aground', 'ail', 'ailing', 'ailment', 'aimless', 'alarm', 'alarmed', 'alarming', 'alarmingly', 'alienate', 'alienated', 'alienation', 'allegation', 'allegations', 'allege', 'allergic', 'allergies', 'allergy', 'aloof', 'altercation', 'ambiguity', 'ambiguous', 'ambivalence', 'ambivalent', 'ambush', 'amiss', 'amputate', 'anarchism', 'anarchist', 'anarchistic', 'anarchy', 'anemic', 'anger', 'angrily', 'angriness', 'angry', 'anguish', 'animosity', 'annihilate', 'annihilation', 'annoy', 'annoyance', 'annoyances', 'annoyed', 'annoying', 'annoyingly', 'annoys', 'anomalous', 'anomaly', 'antagonism', 'antagonist', 'antagonistic', 'antagonize', 'anti', 'anti', 'american', 'anti', 'israeli', 'anti', 'occupation', 'anti', 'proliferation', 'anti', 'semites', 'anti', 'social', 'anti', 'us', 'anti', 'white', 'antipathy', 'antiquated', 'antithetical', 'anxieties', 'anxiety', 'anxious', 'anxiously', 'anxiousness', 'apathetic', 'apathetically', 'apathy', 'apocalypse', 'apocalyptic', 'apologist', 'apologists', 'appal', 'appall', 'appalled', 'appalling', 'appallingly', 'apprehension', 'apprehensions', 'apprehensive', 'apprehensively', 'arbitrary', 'arcane', 'archaic', 'arduous', 'arduously', 'argumentative', 'arrogance', 'arrogant', 'arrogantly', 'ashamed', 'asinine', 'asininely', 'asinininity', 'askance', 'asperse', 'aspersion', 'aspersions', 'assail', 'assassin', 'assassinate', 'assault', 'assult', 'astray', 'asunder', 'atrocious', 'atrocities', 'atrocity', 'atrophy', 'attack', 'attacks', 'audacious', 'audaciously', 'audaciousness', 'audacity', 'audiciously', 'austere', 'authoritarian', 'autocrat', 'autocratic', 'avalanche', 'avarice', 'avaricious', 'avariciously', 'avenge', 'averse', 'aversion', 'aweful', 'awful', 'awfully', 'awfulness', 'awkward', 'awkwardness', 'ax', 'babble', 'back', 'logged', 'back', 'wood', 'back', 'woods', 'backache', 'backaches', 'backaching', 'backbite', 'backbiting', 'backward', 'backwardness', 'backwood', 'backwoods', 'bad', 'badly', 'baffle', 'baffled', 'bafflement', 'baffling', 'bait', 'balk', 'banal', 'banalize', 'bane', 'banish', 'banishment', 'bankrupt', 'barbarian', 'barbaric', 'barbarically', 'barbarity', 'barbarous', 'barbarously', 'barren', 'baseless', 'bash', 'bashed', 'bashful', 'bashing', 'bastard', 'bastards', 'battered', 'battering', 'batty', 'bearish', 'beastly', 'bedlam', 'bedlamite', 'befoul', 'beg', 'beggar', 'beggarly', 'begging', 'beguile', 'belabor', 'belated', 'beleaguer', 'belie', 'belittle', 'belittled', 'belittling', 'bellicose', 'belligerence', 'belligerent', 'belligerently', 'bemoan', 'bemoaning', 'bemused', 'bent', 'berate', 'bereave', 'bereavement', 'bereft', 'berserk', 'beseech', 'beset', 'besiege', 'besmirch', 'bestial', 'betray', 'betrayal', 'betrayals', 'betrayer', 'betraying', 'betrays', 'bewail', 'beware', 'bewilder', 'bewildered', 'bewildering', 'bewilderingly', 'bewilderment', 'bewitch', 'bias', 'biased', 'biases', 'bicker', 'bickering', 'bid', 'rigging', 'bigotries', 'bigotry', 'bitch', 'bitchy', 'biting', 'bitingly', 'bitter', 'bitterly', 'bitterness', 'bizarre', 'blab', 'blabber', 'blackmail', 'blah', 'blame', 'blameworthy', 'bland', 'blandish', 'blaspheme', 'blasphemous', 'blasphemy', 'blasted', 'blatant', 'blatantly', 'blather', 'bleak', 'bleakly', 'bleakness', 'bleed', 'bleeding', 'bleeds', 'blemish', 'blind', 'blinding', 'blindingly', 'blindside', 'blister', 'blistering', 'bloated', 'blockage', 'blockhead', 'bloodshed', 'bloodthirsty', 'bloody', 'blotchy', 'blow', 'blunder', 'blundering', 'blunders', 'blunt', 'blur', 'bluring', 'blurred', 'blurring', 'blurry', 'blurs', 'blurt', 'boastful', 'boggle', 'bogus', 'boil', 'boiling', 'boisterous', 'bomb', 'bombard', 'bombardment', 'bombastic', 'bondage', 'bonkers', 'bore', 'bored', 'boredom', 'bores', 'boring', 'botch', 'bother', 'bothered', 'bothering', 'bothers', 'bothersome', 'bowdlerize', 'boycott', 'braggart', 'bragger', 'brainless', 'brainwash', 'brash', 'brashly', 'brashness', 'brat', 'bravado', 'brazen', 'brazenly', 'brazenness', 'breach', 'break', 'break', 'up', 'break', 'ups', 'breakdown', 'breaking', 'breaks', 'breakup', 'breakups', 'bribery', 'brimstone', 'bristle', 'brittle', 'broke', 'broken', 'broken', 'hearted', 'brood', 'browbeat', 'bruise', 'bruised', 'bruises', 'bruising', 'brusque', 'brutal', 'brutalising', 'brutalities', 'brutality', 'brutalize', 'brutalizing', 'brutally', 'brute', 'brutish', 'bs', 'buckle', 'bug', 'bugging', 'buggy', 'bugs', 'bulkier', 'bulkiness', 'bulky', 'bulkyness', 'bull', 'bull', 'bullies', 'bullshit', 'bullshyt', 'bully', 'bullying', 'bullyingly', 'bum', 'bump', 'bumped', 'bumping', 'bumpping', 'bumps', 'bumpy', 'bungle', 'bungler', 'bungling', 'bunk', 'burden', 'burdensome', 'burdensomely', 'burn', 'burned', 'burning', 'burns', 'bust', 'busts', 'busybody', 'butcher', 'butchery', 'buzzing', 'byzantine', 'cackle', 'calamities', 'calamitous', 'calamitously', 'calamity', 'callous', 'calumniate', 'calumniation', 'calumnies', 'calumnious', 'calumniously', 'calumny', 'cancer', 'cancerous', 'cannibal', 'cannibalize', 'capitulate', 'capricious', 'capriciously', 'capriciousness', 'capsize', 'careless', 'carelessness', 'caricature', 'carnage', 'carp', 'cartoonish', 'cash', 'strapped', 'castigate', 'castrated', 'casualty', 'cataclysm', 'cataclysmal', 'cataclysmic', 'cataclysmically', 'catastrophe', 'catastrophes', 'catastrophic', 'catastrophically', 'catastrophies', 'caustic', 'caustically', 'cautionary', 'cave', 'censure', 'chafe', 'chaff', 'chagrin', 'challenging', 'chaos', 'chaotic', 'chasten', 'chastise', 'chastisement', 'chatter', 'chatterbox', 'cheap', 'cheapen', 'cheaply', 'cheat', 'cheated', 'cheater', 'cheating', 'cheats', 'checkered', 'cheerless', 'cheesy', 'chide', 'childish', 'chill', 'chilly', 'chintzy', 'choke', 'choleric', 'choppy', 'chore', 'chronic', 'chunky', 'clamor', 'clamorous', 'clash', 'cliche', 'cliched', 'clique', 'clog', 'clogged', 'clogs', 'cloud', 'clouding', 'cloudy', 'clueless', 'clumsy', 'clunky', 'coarse', 'cocky', 'coerce', 'coercion', 'coercive', 'cold', 'coldly', 'collapse', 'collude', 'collusion', 'combative', 'combust', 'comical', 'commiserate', 'commonplace', 'commotion', 'commotions', 'complacent', 'complain', 'complained', 'complaining', 'complains', 'complaint', 'complaints', 'complex', 'complicated', 'complication', 'complicit', 'compulsion', 'compulsive', 'concede', 'conceded', 'conceit', 'conceited', 'concen', 'concens', 'concern', 'concerned', 'concerns', 'concession', 'concessions', 'condemn', 'condemnable', 'condemnation', 'condemned', 'condemns', 'condescend', 'condescending', 'condescendingly', 'condescension', 'confess', 'confession', 'confessions', 'confined', 'conflict', 'conflicted', 'conflicting', 'conflicts', 'confound', 'confounded', 'confounding', 'confront', 'confrontation', 'confrontational', 'confuse', 'confused', 'confuses', 'confusing', 'confusion', 'confusions', 'congested', 'congestion', 'cons', 'conscons', 'conservative', 'conspicuous', 'conspicuously', 'conspiracies', 'conspiracy', 'conspirator', 'conspiratorial', 'conspire', 'consternation', 'contagious', 'contaminate', 'contaminated', 'contaminates', 'contaminating', 'contamination', 'contempt', 'contemptible', 'contemptuous', 'contemptuously', 'contend', 'contention', 'contentious', 'contort', 'contortions', 'contradict', 'contradiction', 'contradictory', 'contrariness', 'contravene', 'contrive', 'contrived', 'controversial', 'controversy', 'convoluted', 'corrode', 'corrosion', 'corrosions', 'corrosive', 'corrupt', 'corrupted', 'corrupting', 'corruption', 'corrupts', 'corruptted', 'costlier', 'costly', 'counter', 'productive', 'counterproductive', 'coupists', 'covetous', 'coward', 'cowardly', 'crabby', 'crack', 'cracked', 'cracks', 'craftily', 'craftly', 'crafty', 'cramp', 'cramped', 'cramping', 'cranky', 'crap', 'crappy', 'craps', 'crash', 'crashed', 'crashes', 'crashing', 'crass', 'craven', 'cravenly', 'craze', 'crazily', 'craziness', 'crazy', 'creak', 'creaking', 'creaks', 'credulous', 'creep', 'creeping', 'creeps', 'creepy', 'crept', 'crime', 'criminal', 'cringe', 'cringed', 'cringes', 'cripple', 'crippled', 'cripples', 'crippling', 'crisis', 'critic', 'critical', 'criticism', 'criticisms', 'criticize', 'criticized', 'criticizing', 'critics', 'cronyism', 'crook', 'crooked', 'crooks', 'crowded', 'crowdedness', 'crude', 'cruel', 'crueler', 'cruelest', 'cruelly', 'cruelness', 'cruelties', 'cruelty', 'crumble', 'crumbling', 'crummy', 'crumple', 'crumpled', 'crumples', 'crush', 'crushed', 'crushing', 'cry', 'culpable', 'culprit', 'cumbersome', 'cunt', 'cunts', 'cuplrit', 'curse', 'cursed', 'curses', 'curt', 'cuss', 'cussed', 'cutthroat', 'cynical', 'cynicism', 'd', 'mn', 'damage', 'damaged', 'damages', 'damaging', 'damn', 'damnable', 'damnably', 'damnation', 'damned', 'damning', 'damper', 'danger', 'dangerous', 'dangerousness', 'dark', 'darken', 'darkened', 'darker', 'darkness', 'dastard', 'dastardly', 'daunt', 'daunting', 'dauntingly', 'dawdle', 'daze', 'dazed', 'dead', 'deadbeat', 'deadlock', 'deadly', 'deadweight', 'deaf', 'dearth', 'death', 'debacle', 'debase', 'debasement', 'debaser', 'debatable', 'debauch', 'debaucher', 'debauchery', 'debilitate', 'debilitating', 'debility', 'debt', 'debts', 'decadence', 'decadent', 'decay', 'decayed', 'deceit', 'deceitful', 'deceitfully', 'deceitfulness', 'deceive', 'deceiver', 'deceivers', 'deceiving', 'deception', 'deceptive', 'deceptively', 'declaim', 'decline', 'declines', 'declining', 'decrement', 'decrepit', 'decrepitude', 'decry', 'defamation', 'defamations', 'defamatory', 'defame', 'defect', 'defective', 'defects', 'defensive', 'defiance', 'defiant', 'defiantly', 'deficiencies', 'deficiency', 'deficient', 'defile', 'defiler', 'deform', 'deformed', 'defrauding', 'defunct', 'defy', 'degenerate', 'degenerately', 'degeneration', 'degradation', 'degrade', 'degrading', 'degradingly', 'dehumanization', 'dehumanize', 'deign', 'deject', 'dejected', 'dejectedly', 'dejection', 'delay', 'delayed', 'delaying', 'delays', 'delinquency', 'delinquent', 'delirious', 'delirium', 'delude', 'deluded', 'deluge', 'delusion', 'delusional', 'delusions', 'demean', 'demeaning', 'demise', 'demolish', 'demolisher', 'demon', 'demonic', 'demonize', 'demonized', 'demonizes', 'demonizing', 'demoralize', 'demoralizing', 'demoralizingly', 'denial', 'denied', 'denies', 'denigrate', 'denounce', 'dense', 'dent', 'dented', 'dents', 'denunciate', 'denunciation', 'denunciations', 'deny', 'denying', 'deplete', 'deplorable', 'deplorably', 'deplore', 'deploring', 'deploringly', 'deprave', 'depraved', 'depravedly', 'deprecate', 'depress', 'depressed', 'depressing', 'depressingly', 'depression', 'depressions', 'deprive', 'deprived', 'deride', 'derision', 'derisive', 'derisively', 'derisiveness', 'derogatory', 'desecrate', 'desert', 'desertion', 'desiccate', 'desiccated', 'desititute', 'desolate', 'desolately', 'desolation', 'despair', 'despairing', 'despairingly', 'desperate', 'desperately', 'desperation', 'despicable', 'despicably', 'despise', 'despised', 'despoil', 'despoiler', 'despondence', 'despondency', 'despondent', 'despondently', 'despot', 'despotic', 'despotism', 'destabilisation', 'destains', 'destitute', 'destitution', 'destroy', 'destroyer', 'destruction', 'destructive', 'desultory', 'deter', 'deteriorate', 'deteriorating', 'deterioration', 'deterrent', 'detest', 'detestable', 'detestably', 'detested', 'detesting', 'detests', 'detract', 'detracted', 'detracting', 'detraction', 'detracts', 'detriment', 'detrimental', 'devastate', 'devastated', 'devastates', 'devastating', 'devastatingly', 'devastation', 'deviate', 'deviation', 'devil', 'devilish', 'devilishly', 'devilment', 'devilry', 'devious', 'deviously', 'deviousness', 'devoid', 'diabolic', 'diabolical', 'diabolically', 'diametrically', 'diappointed', 'diatribe', 'diatribes', 'dick', 'dictator', 'dictatorial', 'die', 'die', 'hard', 'died', 'dies', 'difficult', 'difficulties', 'difficulty', 'diffidence', 'dilapidated', 'dilemma', 'dilly', 'dally', 'dim', 'dimmer', 'din', 'ding', 'dings', 'dinky', 'dire', 'direly', 'direness', 'dirt', 'dirtbag', 'dirtbags', 'dirts', 'dirty', 'disable', 'disabled', 'disaccord', 'disadvantage', 'disadvantaged', 'disadvantageous', 'disadvantages', 'disaffect', 'disaffected', 'disaffirm', 'disagree', 'disagreeable', 'disagreeably', 'disagreed', 'disagreeing', 'disagreement', 'disagrees', 'disallow', 'disapointed', 'disapointing', 'disapointment', 'disappoint', 'disappointed', 'disappointing', 'disappointingly', 'disappointment', 'disappointments', 'disappoints', 'disapprobation', 'disapproval', 'disapprove', 'disapproving', 'disarm', 'disarray', 'disaster', 'disasterous', 'disastrous', 'disastrously', 'disavow', 'disavowal', 'disbelief', 'disbelieve', 'disbeliever', 'disclaim', 'discombobulate', 'discomfit', 'discomfititure', 'discomfort', 'discompose', 'disconcert', 'disconcerted', 'disconcerting', 'disconcertingly', 'disconsolate', 'disconsolately', 'disconsolation', 'discontent', 'discontented', 'discontentedly', 'discontinued', 'discontinuity', 'discontinuous', 'discord', 'discordance', 'discordant', 'discountenance', 'discourage', 'discouragement', 'discouraging', 'discouragingly', 'discourteous', 'discourteously', 'discoutinous', 'discredit', 'discrepant', 'discriminate', 'discrimination', 'discriminatory', 'disdain', 'disdained', 'disdainful', 'disdainfully', 'disfavor', 'disgrace', 'disgraced', 'disgraceful', 'disgracefully', 'disgruntle', 'disgruntled', 'disgust', 'disgusted', 'disgustedly', 'disgustful', 'disgustfully', 'disgusting', 'disgustingly', 'dishearten', 'disheartening', 'dishearteningly', 'dishonest', 'dishonestly', 'dishonesty', 'dishonor', 'dishonorable', 'dishonorablely', 'disillusion', 'disillusioned', 'disillusionment', 'disillusions', 'disinclination', 'disinclined', 'disingenuous', 'disingenuously', 'disintegrate', 'disintegrated', 'disintegrates', 'disintegration', 'disinterest', 'disinterested', 'dislike', 'disliked', 'dislikes', 'disliking', 'dislocated', 'disloyal', 'disloyalty', 'dismal', 'dismally', 'dismalness', 'dismay', 'dismayed', 'dismaying', 'dismayingly', 'dismissive', 'dismissively', 'disobedience', 'disobedient', 'disobey', 'disoobedient', 'disorder', 'disordered', 'disorderly', 'disorganized', 'disorient', 'disoriented', 'disown', 'disparage', 'disparaging', 'disparagingly', 'dispensable', 'dispirit', 'dispirited', 'dispiritedly', 'dispiriting', 'displace', 'displaced', 'displease', 'displeased', 'displeasing', 'displeasure', 'disproportionate', 'disprove', 'disputable', 'dispute', 'disputed', 'disquiet', 'disquieting', 'disquietingly', 'disquietude', 'disregard', 'disregardful', 'disreputable', 'disrepute', 'disrespect', 'disrespectable', 'disrespectablity', 'disrespectful', 'disrespectfully', 'disrespectfulness', 'disrespecting', 'disrupt', 'disruption', 'disruptive', 'diss', 'dissapointed', 'dissappointed', 'dissappointing', 'dissatisfaction', 'dissatisfactory', 'dissatisfied', 'dissatisfies', 'dissatisfy', 'dissatisfying', 'dissed', 'dissemble', 'dissembler', 'dissension', 'dissent', 'dissenter', 'dissention', 'disservice', 'disses', 'dissidence', 'dissident', 'dissidents', 'dissing', 'dissocial', 'dissolute', 'dissolution', 'dissonance', 'dissonant', 'dissonantly', 'dissuade', 'dissuasive', 'distains', 'distaste', 'distasteful', 'distastefully', 'distort', 'distorted', 'distortion', 'distorts', 'distract', 'distracting', 'distraction', 'distraught', 'distraughtly', 'distraughtness', 'distress', 'distressed', 'distressing', 'distressingly', 'distrust', 'distrustful', 'distrusting', 'disturb', 'disturbance', 'disturbed', 'disturbing', 'disturbingly', 'disunity', 'disvalue', 'divergent', 'divisive', 'divisively', 'divisiveness', 'dizzing', 'dizzingly', 'dizzy', 'doddering', 'dodgey', 'dogged', 'doggedly', 'dogmatic', 'doldrums', 'domineer', 'domineering', 'donside', 'doom', 'doomed', 'doomsday', 'dope', 'doubt', 'doubtful', 'doubtfully', 'doubts', 'douchbag', 'douchebag', 'douchebags', 'downbeat', 'downcast', 'downer', 'downfall', 'downfallen', 'downgrade', 'downhearted', 'downheartedly', 'downhill', 'downside', 'downsides', 'downturn', 'downturns', 'drab', 'draconian', 'draconic', 'drag', 'dragged', 'dragging', 'dragoon', 'drags', 'drain', 'drained', 'draining', 'drains', 'drastic', 'drastically', 'drawback', 'drawbacks', 'dread', 'dreadful', 'dreadfully', 'dreadfulness', 'dreary', 'dripped', 'dripping', 'drippy', 'drips', 'drones', 'droop', 'droops', 'drop', 'out', 'drop', 'outs', 'dropout', 'dropouts', 'drought', 'drowning', 'drunk', 'drunkard', 'drunken', 'dubious', 'dubiously', 'dubitable', 'dud', 'dull', 'dullard', 'dumb', 'dumbfound', 'dump', 'dumped', 'dumping', 'dumps', 'dunce', 'dungeon', 'dungeons', 'dupe', 'dust', 'dusty', 'dwindling', 'dying', 'earsplitting', 'eccentric', 'eccentricity', 'effigy', 'effrontery', 'egocentric', 'egomania', 'egotism', 'egotistical', 'egotistically', 'egregious', 'egregiously', 'election', 'rigger', 'elimination', 'emaciated', 'emasculate', 'embarrass', 'embarrassing', 'embarrassingly', 'embarrassment', 'embattled', 'embroil', 'embroiled', 'embroilment', 'emergency', 'emphatic', 'emphatically', 'emptiness', 'encroach', 'encroachment', 'endanger', 'enemies', 'enemy', 'enervate', 'enfeeble', 'enflame', 'engulf', 'enjoin', 'enmity', 'enrage', 'enraged', 'enraging', 'enslave', 'entangle', 'entanglement', 'entrap', 'entrapment', 'envious', 'enviously', 'enviousness', 'epidemic', 'equivocal', 'erase', 'erode', 'erodes', 'erosion', 'err', 'errant', 'erratic', 'erratically', 'erroneous', 'erroneously', 'error', 'errors', 'eruptions', 'escapade', 'eschew', 'estranged', 'evade', 'evasion', 'evasive', 'evil', 'evildoer', 'evils', 'eviscerate', 'exacerbate', 'exagerate', 'exagerated', 'exagerates', 'exaggerate', 'exaggeration', 'exasperate', 'exasperated', 'exasperating', 'exasperatingly', 'exasperation', 'excessive', 'excessively', 'exclusion', 'excoriate', 'excruciating', 'excruciatingly', 'excuse', 'excuses', 'execrate', 'exhaust', 'exhausted', 'exhaustion', 'exhausts', 'exhorbitant', 'exhort', 'exile', 'exorbitant', 'exorbitantance', 'exorbitantly', 'expel', 'expensive', 'expire', 'expired', 'explode', 'exploit', 'exploitation', 'explosive', 'expropriate', 'expropriation', 'expulse', 'expunge', 'exterminate', 'extermination', 'extinguish', 'extort', 'extortion', 'extraneous', 'extravagance', 'extravagant', 'extravagantly', 'extremism', 'extremist', 'extremists', 'eyesore', 'f', 'k', 'fabricate', 'fabrication', 'facetious', 'facetiously', 'fail', 'failed', 'failing', 'fails', 'failure', 'failures', 'faint', 'fainthearted', 'faithless', 'fake', 'fall', 'fallacies', 'fallacious', 'fallaciously', 'fallaciousness', 'fallacy', 'fallen', 'falling', 'fallout', 'falls', 'false', 'falsehood', 'falsely', 'falsify', 'falter', 'faltered', 'famine', 'famished', 'fanatic', 'fanatical', 'fanatically', 'fanaticism', 'fanatics', 'fanciful', 'far', 'fetched', 'farce', 'farcical', 'farcical', 'yet', 'provocative', 'farcically', 'farfetched', 'fascism', 'fascist', 'fastidious', 'fastidiously', 'fastuous', 'fat', 'fat', 'cat', 'fat', 'cats', 'fatal', 'fatalistic', 'fatalistically', 'fatally', 'fatcat', 'fatcats', 'fateful', 'fatefully', 'fathomless', 'fatigue', 'fatigued', 'fatique', 'fatty', 'fatuity', 'fatuous', 'fatuously', 'fault', 'faults', 'faulty', 'fawningly', 'faze', 'fear', 'fearful', 'fearfully', 'fears', 'fearsome', 'feckless', 'feeble', 'feeblely', 'feebleminded', 'feign', 'feint', 'fell', 'felon', 'felonious', 'ferociously', 'ferocity', 'fetid', 'fever', 'feverish', 'fevers', 'fiasco', 'fib', 'fibber', 'fickle', 'fiction', 'fictional', 'fictitious', 'fidget', 'fidgety', 'fiend', 'fiendish', 'fierce', 'figurehead', 'filth', 'filthy', 'finagle', 'finicky', 'fissures', 'fist', 'flabbergast', 'flabbergasted', 'flagging', 'flagrant', 'flagrantly', 'flair', 'flairs', 'flak', 'flake', 'flakey', 'flakieness', 'flaking', 'flaky', 'flare', 'flares', 'flareup', 'flareups', 'flat', 'out', 'flaunt', 'flaw', 'flawed', 'flaws', 'flee', 'fleed', 'fleeing', 'fleer', 'flees', 'fleeting', 'flicering', 'flicker', 'flickering', 'flickers', 'flighty', 'flimflam', 'flimsy', 'flirt', 'flirty', 'floored', 'flounder', 'floundering', 'flout', 'fluster', 'foe', 'fool', 'fooled', 'foolhardy', 'foolish', 'foolishly', 'foolishness', 'forbid', 'forbidden', 'forbidding', 'forceful', 'foreboding', 'forebodingly', 'forfeit', 'forged', 'forgetful', 'forgetfully', 'forgetfulness', 'forlorn', 'forlornly', 'forsake', 'forsaken', 'forswear', 'foul', 'foully', 'foulness', 'fractious', 'fractiously', 'fracture', 'fragile', 'fragmented', 'frail', 'frantic', 'frantically', 'franticly', 'fraud', 'fraudulent', 'fraught', 'frazzle', 'frazzled', 'freak', 'freaking', 'freakish', 'freakishly', 'freaks', 'freeze', 'freezes', 'freezing', 'frenetic', 'frenetically', 'frenzied', 'frenzy', 'fret', 'fretful', 'frets', 'friction', 'frictions', 'fried', 'friggin', 'frigging', 'fright', 'frighten', 'frightening', 'frighteningly', 'frightful', 'frightfully', 'frigid', 'frost', 'frown', 'froze', 'frozen', 'fruitless', 'fruitlessly', 'frustrate', 'frustrated', 'frustrates', 'frustrating', 'frustratingly', 'frustration', 'frustrations', 'fuck', 'fucking', 'fudge', 'fugitive', 'full', 'blown', 'fulminate', 'fumble', 'fume', 'fumes', 'fundamentalism', 'funky', 'funnily', 'funny', 'furious', 'furiously', 'furor', 'fury', 'fuss', 'fussy', 'fustigate', 'fusty', 'futile', 'futilely', 'futility', 'fuzzy', 'gabble', 'gaff', 'gaffe', 'gainsay', 'gainsayer', 'gall', 'galling', 'gallingly', 'galls', 'gangster', 'gape', 'garbage', 'garish', 'gasp', 'gauche', 'gaudy', 'gawk', 'gawky', 'geezer', 'genocide', 'get', 'rich', 'ghastly', 'ghetto', 'ghosting', 'gibber', 'gibberish', 'gibe', 'giddy', 'gimmick', 'gimmicked', 'gimmicking', 'gimmicks', 'gimmicky', 'glare', 'glaringly', 'glib', 'glibly', 'glitch', 'glitches', 'gloatingly', 'gloom', 'gloomy', 'glower', 'glum', 'glut', 'gnawing', 'goad', 'goading', 'god', 'awful', 'goof', 'goofy', 'goon', 'gossip', 'graceless', 'gracelessly', 'graft', 'grainy', 'grapple', 'grate', 'grating', 'gravely', 'greasy', 'greed', 'greedy', 'grief', 'grievance', 'grievances', 'grieve', 'grieving', 'grievous', 'grievously', 'grim', 'grimace', 'grind', 'gripe', 'gripes', 'grisly', 'gritty', 'gross', 'grossly', 'grotesque', 'grouch', 'grouchy', 'groundless', 'grouse', 'growl', 'grudge', 'grudges', 'grudging', 'grudgingly', 'gruesome', 'gruesomely', 'gruff', 'grumble', 'grumpier', 'grumpiest', 'grumpily', 'grumpish', 'grumpy', 'guile', 'guilt', 'guiltily', 'guilty', 'gullible', 'gutless', 'gutter', 'hack', 'hacks', 'haggard', 'haggle', 'hairloss', 'halfhearted', 'halfheartedly', 'hallucinate', 'hallucination', 'hamper', 'hampered', 'handicapped', 'hang', 'hangs', 'haphazard', 'hapless', 'harangue', 'harass', 'harassed', 'harasses', 'harassment', 'harboring', 'harbors', 'hard', 'hard', 'hit', 'hard', 'line', 'hard', 'liner', 'hardball', 'harden', 'hardened', 'hardheaded', 'hardhearted', 'hardliner', 'hardliners', 'hardship', 'hardships', 'harm', 'harmed', 'harmful', 'harms', 'harpy', 'harridan', 'harried', 'harrow', 'harsh', 'harshly', 'hasseling', 'hassle', 'hassled', 'hassles', 'haste', 'hastily', 'hasty', 'hate', 'hated', 'hateful', 'hatefully', 'hatefulness', 'hater', 'haters', 'hates', 'hating', 'hatred', 'haughtily', 'haughty', 'haunt', 'haunting', 'havoc', 'hawkish', 'haywire', 'hazard', 'hazardous', 'haze', 'hazy', 'head', 'aches', 'headache', 'headaches', 'heartbreaker', 'heartbreaking', 'heartbreakingly', 'heartless', 'heathen', 'heavy', 'handed', 'heavyhearted', 'heck', 'heckle', 'heckled', 'heckles', 'hectic', 'hedge', 'hedonistic', 'heedless', 'hefty', 'hegemonism', 'hegemonistic', 'hegemony', 'heinous', 'hell', 'hell', 'bent', 'hellion', 'hells', 'helpless', 'helplessly', 'helplessness', 'heresy', 'heretic', 'heretical', 'hesitant', 'hestitant', 'hideous', 'hideously', 'hideousness', 'high', 'priced', 'hiliarious', 'hinder', 'hindrance', 'hiss', 'hissed', 'hissing', 'ho', 'hum', 'hoard', 'hoax', 'hobble', 'hogs', 'hollow', 'hoodium', 'hoodwink', 'hooligan', 'hopeless', 'hopelessly', 'hopelessness', 'horde', 'horrendous', 'horrendously', 'horrible', 'horrid', 'horrific', 'horrified', 'horrifies', 'horrify', 'horrifying', 'horrifys', 'hostage', 'hostile', 'hostilities', 'hostility', 'hotbeds', 'hothead', 'hotheaded', 'hothouse', 'hubris', 'huckster', 'hum', 'humid', 'humiliate', 'humiliating', 'humiliation', 'humming', 'hung', 'hurt', 'hurted', 'hurtful', 'hurting', 'hurts', 'hustler', 'hype', 'hypocricy', 'hypocrisy', 'hypocrite', 'hypocrites', 'hypocritical', 'hypocritically', 'hysteria', 'hysteric', 'hysterical', 'hysterically', 'hysterics', 'idiocies', 'idiocy', 'idiot', 'idiotic', 'idiotically', 'idiots', 'idle', 'ignoble', 'ignominious', 'ignominiously', 'ignominy', 'ignorance', 'ignorant', 'ignore', 'ill', 'advised', 'ill', 'conceived', 'ill', 'defined', 'ill', 'designed', 'ill', 'fated', 'ill', 'favored', 'ill', 'formed', 'ill', 'mannered', 'ill', 'natured', 'ill', 'sorted', 'ill', 'tempered', 'ill', 'treated', 'ill', 'treatment', 'ill', 'usage', 'ill', 'used', 'illegal', 'illegally', 'illegitimate', 'illicit', 'illiterate', 'illness', 'illogic', 'illogical', 'illogically', 'illusion', 'illusions', 'illusory', 'imaginary', 'imbalance', 'imbecile', 'imbroglio', 'immaterial', 'immature', 'imminence', 'imminently', 'immobilized', 'immoderate', 'immoderately', 'immodest', 'immoral', 'immorality', 'immorally', 'immovable', 'impair', 'impaired', 'impasse', 'impatience', 'impatient', 'impatiently', 'impeach', 'impedance', 'impede', 'impediment', 'impending', 'impenitent', 'imperfect', 'imperfection', 'imperfections', 'imperfectly', 'imperialist', 'imperil', 'imperious', 'imperiously', 'impermissible', 'impersonal', 'impertinent', 'impetuous', 'impetuously', 'impiety', 'impinge', 'impious', 'implacable', 'implausible', 'implausibly', 'implicate', 'implication', 'implode', 'impolite', 'impolitely', 'impolitic', 'importunate', 'importune', 'impose', 'imposers', 'imposing', 'imposition', 'impossible', 'impossiblity', 'impossibly', 'impotent', 'impoverish', 'impoverished', 'impractical', 'imprecate', 'imprecise', 'imprecisely', 'imprecision', 'imprison', 'imprisonment', 'improbability', 'improbable', 'improbably', 'improper', 'improperly', 'impropriety', 'imprudence', 'imprudent', 'impudence', 'impudent', 'impudently', 'impugn', 'impulsive', 'impulsively', 'impunity', 'impure', 'impurity', 'inability', 'inaccuracies', 'inaccuracy', 'inaccurate', 'inaccurately', 'inaction', 'inactive', 'inadequacy', 'inadequate', 'inadequately', 'inadverent', 'inadverently', 'inadvisable', 'inadvisably', 'inane', 'inanely', 'inappropriate', 'inappropriately', 'inapt', 'inaptitude', 'inarticulate', 'inattentive', 'inaudible', 'incapable', 'incapably', 'incautious', 'incendiary', 'incense', 'incessant', 'incessantly', 'incite', 'incitement', 'incivility', 'inclement', 'incognizant', 'incoherence', 'incoherent', 'incoherently', 'incommensurate', 'incomparable', 'incomparably', 'incompatability', 'incompatibility', 'incompatible', 'incompetence', 'incompetent', 'incompetently', 'incomplete', 'incompliant', 'incomprehensible', 'incomprehension', 'inconceivable', 'inconceivably', 'incongruous', 'incongruously', 'inconsequent', 'inconsequential', 'inconsequentially', 'inconsequently', 'inconsiderate', 'inconsiderately', 'inconsistence', 'inconsistencies', 'inconsistency', 'inconsistent', 'inconsolable', 'inconsolably', 'inconstant', 'inconvenience', 'inconveniently', 'incorrect', 'incorrectly', 'incorrigible', 'incorrigibly', 'incredulous', 'incredulously', 'inculcate', 'indecency', 'indecent', 'indecently', 'indecision', 'indecisive', 'indecisively', 'indecorum', 'indefensible', 'indelicate', 'indeterminable', 'indeterminably', 'indeterminate', 'indifference', 'indifferent', 'indigent', 'indignant', 'indignantly', 'indignation', 'indignity', 'indiscernible', 'indiscreet', 'indiscreetly', 'indiscretion', 'indiscriminate', 'indiscriminately', 'indiscriminating', 'indistinguishable', 'indoctrinate', 'indoctrination', 'indolent', 'indulge', 'ineffective', 'ineffectively', 'ineffectiveness', 'ineffectual', 'ineffectually', 'ineffectualness', 'inefficacious', 'inefficacy', 'inefficiency', 'inefficient', 'inefficiently', 'inelegance', 'inelegant', 'ineligible', 'ineloquent', 'ineloquently', 'inept', 'ineptitude', 'ineptly', 'inequalities', 'inequality', 'inequitable', 'inequitably', 'inequities', 'inescapable', 'inescapably', 'inessential', 'inevitable', 'inevitably', 'inexcusable', 'inexcusably', 'inexorable', 'inexorably', 'inexperience', 'inexperienced', 'inexpert', 'inexpertly', 'inexpiable', 'inexplainable', 'inextricable', 'inextricably', 'infamous', 'infamously', 'infamy', 'infected', 'infection', 'infections', 'inferior', 'inferiority', 'infernal', 'infest', 'infested', 'infidel', 'infidels', 'infiltrator', 'infiltrators', 'infirm', 'inflame', 'inflammation', 'inflammatory', 'inflammed', 'inflated', 'inflationary', 'inflexible', 'inflict', 'infraction', 'infringe', 'infringement', 'infringements', 'infuriate', 'infuriated', 'infuriating', 'infuriatingly', 'inglorious', 'ingrate', 'ingratitude', 'inhibit', 'inhibition', 'inhospitable', 'inhospitality', 'inhuman', 'inhumane', 'inhumanity', 'inimical', 'inimically', 'iniquitous', 'iniquity', 'injudicious', 'injure', 'injurious', 'injury', 'injustice', 'injustices', 'innuendo', 'inoperable', 'inopportune', 'inordinate', 'inordinately', 'insane', 'insanely', 'insanity', 'insatiable', 'insecure', 'insecurity', 'insensible', 'insensitive', 'insensitively', 'insensitivity', 'insidious', 'insidiously', 'insignificance', 'insignificant', 'insignificantly', 'insincere', 'insincerely', 'insincerity', 'insinuate', 'insinuating', 'insinuation', 'insociable', 'insolence', 'insolent', 'insolently', 'insolvent', 'insouciance', 'instability', 'instable', 'instigate', 'instigator', 'instigators', 'insubordinate', 'insubstantial', 'insubstantially', 'insufferable', 'insufferably', 'insufficiency', 'insufficient', 'insufficiently', 'insular', 'insult', 'insulted', 'insulting', 'insultingly', 'insults', 'insupportable', 'insupportably', 'insurmountable', 'insurmountably', 'insurrection', 'intefere', 'inteferes', 'intense', 'interfere', 'interference', 'interferes', 'intermittent', 'interrupt', 'interruption', 'interruptions', 'intimidate', 'intimidating', 'intimidatingly', 'intimidation', 'intolerable', 'intolerablely', 'intolerance', 'intoxicate', 'intractable', 'intransigence', 'intransigent', 'intrude', 'intrusion', 'intrusive', 'inundate', 'inundated', 'invader', 'invalid', 'invalidate', 'invalidity', 'invasive', 'invective', 'inveigle', 'invidious', 'invidiously', 'invidiousness', 'invisible', 'involuntarily', 'involuntary', 'irascible', 'irate', 'irately', 'ire', 'irk', 'irked', 'irking', 'irks', 'irksome', 'irksomely', 'irksomeness', 'irksomenesses', 'ironic', 'ironical', 'ironically', 'ironies', 'irony', 'irragularity', 'irrational', 'irrationalities', 'irrationality', 'irrationally', 'irrationals', 'irreconcilable', 'irrecoverable', 'irrecoverableness', 'irrecoverablenesses', 'irrecoverably', 'irredeemable', 'irredeemably', 'irreformable', 'irregular', 'irregularity', 'irrelevance', 'irrelevant', 'irreparable', 'irreplacible', 'irrepressible', 'irresolute', 'irresolvable', 'irresponsible', 'irresponsibly', 'irretating', 'irretrievable', 'irreversible', 'irritable', 'irritably', 'irritant', 'irritate', 'irritated', 'irritating', 'irritation', 'irritations', 'isolate', 'isolated', 'isolation', 'issue', 'issues', 'itch', 'itching', 'itchy', 'jabber', 'jaded', 'jagged', 'jam', 'jarring', 'jaundiced', 'jealous', 'jealously', 'jealousness', 'jealousy', 'jeer', 'jeering', 'jeeringly', 'jeers', 'jeopardize', 'jeopardy', 'jerk', 'jerky', 'jitter', 'jitters', 'jittery', 'job', 'killing', 'jobless', 'joke', 'joker', 'jolt', 'judder', 'juddering', 'judders', 'jumpy', 'junk', 'junky', 'junkyard', 'jutter', 'jutters', 'kaput', 'kill', 'killed', 'killer', 'killing', 'killjoy', 'kills', 'knave', 'knife', 'knock', 'knotted', 'kook', 'kooky', 'lack', 'lackadaisical', 'lacked', 'lackey', 'lackeys', 'lacking', 'lackluster', 'lacks', 'laconic', 'lag', 'lagged', 'lagging', 'laggy', 'lags', 'laid', 'off', 'lambast', 'lambaste', 'lame', 'lame', 'duck', 'lament', 'lamentable', 'lamentably', 'languid', 'languish', 'languor', 'languorous', 'languorously', 'lanky', 'lapse', 'lapsed', 'lapses', 'lascivious', 'last', 'ditch', 'latency', 'laughable', 'laughably', 'laughingstock', 'lawbreaker', 'lawbreaking', 'lawless', 'lawlessness', 'layoff', 'layoff', 'happy', 'lazy', 'leak', 'leakage', 'leakages', 'leaking', 'leaks', 'leaky', 'lech', 'lecher', 'lecherous', 'lechery', 'leech', 'leer', 'leery', 'left', 'leaning', 'lemon', 'lengthy', 'less', 'developed', 'lesser', 'known', 'letch', 'lethal', 'lethargic', 'lethargy', 'lewd', 'lewdly', 'lewdness', 'liability', 'liable', 'liar', 'liars', 'licentious', 'licentiously', 'licentiousness', 'lie', 'lied', 'lier', 'lies', 'life', 'threatening', 'lifeless', 'limit', 'limitation', 'limitations', 'limited', 'limits', 'limp', 'listless', 'litigious', 'little', 'known', 'livid', 'lividly', 'loath', 'loathe', 'loathing', 'loathly', 'loathsome', 'loathsomely', 'lone', 'loneliness', 'lonely', 'loner', 'lonesome', 'long', 'time', 'long', 'winded', 'longing', 'longingly', 'loophole', 'loopholes', 'loose', 'loot', 'lorn', 'lose', 'loser', 'losers', 'loses', 'losing', 'loss', 'losses', 'lost', 'loud', 'louder', 'lousy', 'loveless', 'lovelorn', 'low', 'rated', 'lowly', 'ludicrous', 'ludicrously', 'lugubrious', 'lukewarm', 'lull', 'lumpy', 'lunatic', 'lunaticism', 'lurch', 'lure', 'lurid', 'lurk', 'lurking', 'lying', 'macabre', 'mad', 'madden', 'maddening', 'maddeningly', 'madder', 'madly', 'madman', 'madness', 'maladjusted', 'maladjustment', 'malady', 'malaise', 'malcontent', 'malcontented', 'maledict', 'malevolence', 'malevolent', 'malevolently', 'malice', 'malicious', 'maliciously', 'maliciousness', 'malign', 'malignant', 'malodorous', 'maltreatment', 'mangle', 'mangled', 'mangles', 'mangling', 'mania', 'maniac', 'maniacal', 'manic', 'manipulate', 'manipulation', 'manipulative', 'manipulators', 'mar', 'marginal', 'marginally', 'martyrdom', 'martyrdom', 'seeking', 'mashed', 'massacre', 'massacres', 'matte', 'mawkish', 'mawkishly', 'mawkishness', 'meager', 'meaningless', 'meanness', 'measly', 'meddle', 'meddlesome', 'mediocre', 'mediocrity', 'melancholy', 'melodramatic', 'melodramatically', 'meltdown', 'menace', 'menacing', 'menacingly', 'mendacious', 'mendacity', 'menial', 'merciless', 'mercilessly', 'mess', 'messed', 'messes', 'messing', 'messy', 'midget', 'miff', 'militancy', 'mindless', 'mindlessly', 'mirage', 'mire', 'misalign', 'misaligned', 'misaligns', 'misapprehend', 'misbecome', 'misbecoming', 'misbegotten', 'misbehave', 'misbehavior', 'miscalculate', 'miscalculation', 'miscellaneous', 'mischief', 'mischievous', 'mischievously', 'misconception', 'misconceptions', 'miscreant', 'miscreants', 'misdirection', 'miser', 'miserable', 'miserableness', 'miserably', 'miseries', 'miserly', 'misery', 'misfit', 'misfortune', 'misgiving', 'misgivings', 'misguidance', 'misguide', 'misguided', 'mishandle', 'mishap', 'misinform', 'misinformed', 'misinterpret', 'misjudge', 'misjudgment', 'mislead', 'misleading', 'misleadingly', 'mislike', 'mismanage', 'mispronounce', 'mispronounced', 'mispronounces', 'misread', 'misreading', 'misrepresent', 'misrepresentation', 'miss', 'missed', 'misses', 'misstatement', 'mist', 'mistake', 'mistaken', 'mistakenly', 'mistakes', 'mistified', 'mistress', 'mistrust', 'mistrustful', 'mistrustfully', 'mists', 'misunderstand', 'misunderstanding', 'misunderstandings', 'misunderstood', 'misuse', 'moan', 'mobster', 'mock', 'mocked', 'mockeries', 'mockery', 'mocking', 'mockingly', 'mocks', 'molest', 'molestation', 'monotonous', 'monotony', 'monster', 'monstrosities', 'monstrosity', 'monstrous', 'monstrously', 'moody', 'moot', 'mope', 'morbid', 'morbidly', 'mordant', 'mordantly', 'moribund', 'moron', 'moronic', 'morons', 'mortification', 'mortified', 'mortify', 'mortifying', 'motionless', 'motley', 'mourn', 'mourner', 'mournful', 'mournfully', 'muddle', 'muddy', 'mudslinger', 'mudslinging', 'mulish', 'multi', 'polarization', 'mundane', 'murder', 'murderer', 'murderous', 'murderously', 'murky', 'muscle', 'flexing', 'mushy', 'musty', 'mysterious', 'mysteriously', 'mystery', 'mystify', 'myth', 'nag', 'nagging', 'naive', 'naively', 'narrower', 'nastily', 'nastiness', 'nasty', 'naughty', 'nauseate', 'nauseates', 'nauseating', 'nauseatingly', 'naã', 've', 'nebulous', 'nebulously', 'needless', 'needlessly', 'needy', 'nefarious', 'nefariously', 'negate', 'negation', 'negative', 'negatives', 'negativity', 'neglect', 'neglected', 'negligence', 'negligent', 'nemesis', 'nepotism', 'nervous', 'nervously', 'nervousness', 'nettle', 'nettlesome', 'neurotic', 'neurotically', 'niggle', 'niggles', 'nightmare', 'nightmarish', 'nightmarishly', 'nitpick', 'nitpicking', 'noise', 'noises', 'noisier', 'noisy', 'non', 'confidence', 'nonexistent', 'nonresponsive', 'nonsense', 'nosey', 'notoriety', 'notorious', 'notoriously', 'noxious', 'nuisance', 'numb', 'obese', 'object', 'objection', 'objectionable', 'objections', 'oblique', 'obliterate', 'obliterated', 'oblivious', 'obnoxious', 'obnoxiously', 'obscene', 'obscenely', 'obscenity', 'obscure', 'obscured', 'obscures', 'obscurity', 'obsess', 'obsessive', 'obsessively', 'obsessiveness', 'obsolete', 'obstacle', 'obstinate', 'obstinately', 'obstruct', 'obstructed', 'obstructing', 'obstruction', 'obstructs', 'obtrusive', 'obtuse', 'occlude', 'occluded', 'occludes', 'occluding', 'odd', 'odder', 'oddest', 'oddities', 'oddity', 'oddly', 'odor', 'offence', 'offend', 'offender', 'offending', 'offenses', 'offensive', 'offensively', 'offensiveness', 'officious', 'ominous', 'ominously', 'omission', 'omit', 'one', 'sided', 'onerous', 'onerously', 'onslaught', 'opinionated', 'opponent', 'opportunistic', 'oppose', 'opposition', 'oppositions', 'oppress', 'oppression', 'oppressive', 'oppressively', 'oppressiveness', 'oppressors', 'ordeal', 'orphan', 'ostracize', 'outbreak', 'outburst', 'outbursts', 'outcast', 'outcry', 'outlaw', 'outmoded', 'outrage', 'outraged', 'outrageous', 'outrageously', 'outrageousness', 'outrages', 'outsider', 'over', 'acted', 'over', 'awe', 'over', 'balanced', 'over', 'hyped', 'over', 'priced', 'over', 'valuation', 'overact', 'overacted', 'overawe', 'overbalance', 'overbalanced', 'overbearing', 'overbearingly', 'overblown', 'overdo', 'overdone', 'overdue', 'overemphasize', 'overheat', 'overkill', 'overloaded', 'overlook', 'overpaid', 'overpayed', 'overplay', 'overpower', 'overpriced', 'overrated', 'overreach', 'overrun', 'overshadow', 'oversight', 'oversights', 'oversimplification', 'oversimplified', 'oversimplify', 'oversize', 'overstate', 'overstated', 'overstatement', 'overstatements', 'overstates', 'overtaxed', 'overthrow', 'overthrows', 'overturn', 'overweight', 'overwhelm', 'overwhelmed', 'overwhelming', 'overwhelmingly', 'overwhelms', 'overzealous', 'overzealously', 'overzelous', 'pain', 'painful', 'painfull', 'painfully', 'pains', 'pale', 'pales', 'paltry', 'pan', 'pandemonium', 'pander', 'pandering', 'panders', 'panic', 'panick', 'panicked', 'panicking', 'panicky', 'paradoxical', 'paradoxically', 'paralize', 'paralyzed', 'paranoia', 'paranoid', 'parasite', 'pariah', 'parody', 'partiality', 'partisan', 'partisans', 'passe', 'passive', 'passiveness', 'pathetic', 'pathetically', 'patronize', 'paucity', 'pauper', 'paupers', 'payback', 'peculiar', 'peculiarly', 'pedantic', 'peeled', 'peeve', 'peeved', 'peevish', 'peevishly', 'penalize', 'penalty', 'perfidious', 'perfidity', 'perfunctory', 'peril', 'perilous', 'perilously', 'perish', 'pernicious', 'perplex', 'perplexed', 'perplexing', 'perplexity', 'persecute', 'persecution', 'pertinacious', 'pertinaciously', 'pertinacity', 'perturb', 'perturbed', 'pervasive', 'perverse', 'perversely', 'perversion', 'perversity', 'pervert', 'perverted', 'perverts', 'pessimism', 'pessimistic', 'pessimistically', 'pest', 'pestilent', 'petrified', 'petrify', 'pettifog', 'petty', 'phobia', 'phobic', 'phony', 'picket', 'picketed', 'picketing', 'pickets', 'picky', 'pig', 'pigs', 'pillage', 'pillory', 'pimple', 'pinch', 'pique', 'pitiable', 'pitiful', 'pitifully', 'pitiless', 'pitilessly', 'pittance', 'pity', 'plagiarize', 'plague', 'plasticky', 'plaything', 'plea', 'pleas', 'plebeian', 'plight', 'plot', 'plotters', 'ploy', 'plunder', 'plunderer', 'pointless', 'pointlessly', 'poison', 'poisonous', 'poisonously', 'pokey', 'poky', 'polarisation', 'polemize', 'pollute', 'polluter', 'polluters', 'polution', 'pompous', 'poor', 'poorer', 'poorest', 'poorly', 'posturing', 'pout', 'poverty', 'powerless', 'prate', 'pratfall', 'prattle', 'precarious', 'precariously', 'precipitate', 'precipitous', 'predatory', 'predicament', 'prejudge', 'prejudice', 'prejudices', 'prejudicial', 'premeditated', 'preoccupy', 'preposterous', 'preposterously', 'presumptuous', 'presumptuously', 'pretence', 'pretend', 'pretense', 'pretentious', 'pretentiously', 'prevaricate', 'pricey', 'pricier', 'prick', 'prickle', 'prickles', 'prideful', 'prik', 'primitive', 'prison', 'prisoner', 'problem', 'problematic', 'problems', 'procrastinate', 'procrastinates', 'procrastination', 'profane', 'profanity', 'prohibit', 'prohibitive', 'prohibitively', 'propaganda', 'propagandize', 'proprietary', 'prosecute', 'protest', 'protested', 'protesting', 'protests', 'protracted', 'provocation', 'provocative', 'provoke', 'pry', 'pugnacious', 'pugnaciously', 'pugnacity', 'punch', 'punish', 'punishable', 'punitive', 'punk', 'puny', 'puppet', 'puppets', 'puzzled', 'puzzlement', 'puzzling', 'quack', 'qualm', 'qualms', 'quandary', 'quarrel', 'quarrellous', 'quarrellously', 'quarrels', 'quarrelsome', 'quash', 'queer', 'questionable', 'quibble', 'quibbles', 'quitter', 'rabid', 'racism', 'racist', 'racists', 'racy', 'radical', 'radicalization', 'radically', 'radicals', 'rage', 'ragged', 'raging', 'rail', 'raked', 'rampage', 'rampant', 'ramshackle', 'rancor', 'randomly', 'rankle', 'rant', 'ranted', 'ranting', 'rantingly', 'rants', 'rape', 'raped', 'raping', 'rascal', 'rascals', 'rash', 'rattle', 'rattled', 'rattles', 'ravage', 'raving', 'reactionary', 'rebellious', 'rebuff', 'rebuke', 'recalcitrant', 'recant', 'recession', 'recessionary', 'reckless', 'recklessly', 'recklessness', 'recoil', 'recourses', 'redundancy', 'redundant', 'refusal', 'refuse', 'refused', 'refuses', 'refusing', 'refutation', 'refute', 'refuted', 'refutes', 'refuting', 'regress', 'regression', 'regressive', 'regret', 'regreted', 'regretful', 'regretfully', 'regrets', 'regrettable', 'regrettably', 'regretted', 'reject', 'rejected', 'rejecting', 'rejection', 'rejects', 'relapse', 'relentless', 'relentlessly', 'relentlessness', 'reluctance', 'reluctant', 'reluctantly', 'remorse', 'remorseful', 'remorsefully', 'remorseless', 'remorselessly', 'remorselessness', 'renounce', 'renunciation', 'repel', 'repetitive', 'reprehensible', 'reprehensibly', 'reprehension', 'reprehensive', 'repress', 'repression', 'repressive', 'reprimand', 'reproach', 'reproachful', 'reprove', 'reprovingly', 'repudiate', 'repudiation', 'repugn', 'repugnance', 'repugnant', 'repugnantly', 'repulse', 'repulsed', 'repulsing', 'repulsive', 'repulsively', 'repulsiveness', 'resent', 'resentful', 'resentment', 'resignation', 'resigned', 'resistance', 'restless', 'restlessness', 'restrict', 'restricted', 'restriction', 'restrictive', 'resurgent', 'retaliate', 'retaliatory', 'retard', 'retarded', 'retardedness', 'retards', 'reticent', 'retract', 'retreat', 'retreated', 'revenge', 'revengeful', 'revengefully', 'revert', 'revile', 'reviled', 'revoke', 'revolt', 'revolting', 'revoltingly', 'revulsion', 'revulsive', 'rhapsodize', 'rhetoric', 'rhetorical', 'ricer', 'ridicule', 'ridicules', 'ridiculous', 'ridiculously', 'rife', 'rift', 'rifts', 'rigid', 'rigidity', 'rigidness', 'rile', 'riled', 'rip', 'rip', 'off', 'ripoff', 'ripped', 'risk', 'risks', 'risky', 'rival', 'rivalry', 'roadblocks', 'rocky', 'rogue', 'rollercoaster', 'rot', 'rotten', 'rough', 'rremediable', 'rubbish', 'rude', 'rue', 'ruffian', 'ruffle', 'ruin', 'ruined', 'ruining', 'ruinous', 'ruins', 'rumbling', 'rumor', 'rumors', 'rumours', 'rumple', 'run', 'down', 'runaway', 'rupture', 'rust', 'rusts', 'rusty', 'rut', 'ruthless', 'ruthlessly', 'ruthlessness', 'ruts', 'sabotage', 'sack', 'sacrificed', 'sad', 'sadden', 'sadly', 'sadness', 'sag', 'sagged', 'sagging', 'saggy', 'sags', 'salacious', 'sanctimonious', 'sap', 'sarcasm', 'sarcastic', 'sarcastically', 'sardonic', 'sardonically', 'sass', 'satirical', 'satirize', 'savage', 'savaged', 'savagery', 'savages', 'scaly', 'scam', 'scams', 'scandal', 'scandalize', 'scandalized', 'scandalous', 'scandalously', 'scandals', 'scandel', 'scandels', 'scant', 'scapegoat', 'scar', 'scarce', 'scarcely', 'scarcity', 'scare', 'scared', 'scarier', 'scariest', 'scarily', 'scarred', 'scars', 'scary', 'scathing', 'scathingly', 'sceptical', 'scoff', 'scoffingly', 'scold', 'scolded', 'scolding', 'scoldingly', 'scorching', 'scorchingly', 'scorn', 'scornful', 'scornfully', 'scoundrel', 'scourge', 'scowl', 'scramble', 'scrambled', 'scrambles', 'scrambling', 'scrap', 'scratch', 'scratched', 'scratches', 'scratchy', 'scream', 'screech', 'screw', 'up', 'screwed', 'screwed', 'up', 'screwy', 'scuff', 'scuffs', 'scum', 'scummy', 'second', 'class', 'second', 'tier', 'secretive', 'sedentary', 'seedy', 'seethe', 'seething', 'self', 'coup', 'self', 'criticism', 'self', 'defeating', 'self', 'destructive', 'self', 'humiliation', 'self', 'interest', 'self', 'interested', 'self', 'serving', 'selfinterested', 'selfish', 'selfishly', 'selfishness', 'semi', 'retarded', 'senile', 'sensationalize', 'senseless', 'senselessly', 'seriousness', 'sermonize', 'servitude', 'set', 'up', 'setback', 'setbacks', 'sever', 'severe', 'severity', 'sh', 't', 'shabby', 'shadowy', 'shady', 'shake', 'shaky', 'shallow', 'sham', 'shambles', 'shame', 'shameful', 'shamefully', 'shamefulness', 'shameless', 'shamelessly', 'shamelessness', 'shark', 'sharply', 'shatter', 'shemale', 'shimmer', 'shimmy', 'shipwreck', 'shirk', 'shirker', 'shit', 'shiver', 'shock', 'shocked', 'shocking', 'shockingly', 'shoddy', 'short', 'lived', 'shortage', 'shortchange', 'shortcoming', 'shortcomings', 'shortness', 'shortsighted', 'shortsightedness', 'showdown', 'shrew', 'shriek', 'shrill', 'shrilly', 'shrivel', 'shroud', 'shrouded', 'shrug', 'shun', 'shunned', 'sick', 'sicken', 'sickening', 'sickeningly', 'sickly', 'sickness', 'sidetrack', 'sidetracked', 'siege', 'sillily', 'silly', 'simplistic', 'simplistically', 'sin', 'sinful', 'sinfully', 'sinister', 'sinisterly', 'sink', 'sinking', 'skeletons', 'skeptic', 'skeptical', 'skeptically', 'skepticism', 'sketchy', 'skimpy', 'skinny', 'skittish', 'skittishly', 'skulk', 'slack', 'slander', 'slanderer', 'slanderous', 'slanderously', 'slanders', 'slap', 'slashing', 'slaughter', 'slaughtered', 'slave', 'slaves', 'sleazy', 'slime', 'slog', 'slogged', 'slogging', 'slogs', 'sloooooooooooooow', 'sloooow', 'slooow', 'sloow', 'sloppily', 'sloppy', 'sloth', 'slothful', 'slow', 'slow', 'moving', 'slowed', 'slower', 'slowest', 'slowly', 'sloww', 'slowww', 'slowwww', 'slug', 'sluggish', 'slump', 'slumping', 'slumpping', 'slur', 'slut', 'sluts', 'sly', 'smack', 'smallish', 'smash', 'smear', 'smell', 'smelled', 'smelling', 'smells', 'smelly', 'smelt', 'smoke', 'smokescreen', 'smolder', 'smoldering', 'smother', 'smoulder', 'smouldering', 'smudge', 'smudged', 'smudges', 'smudging', 'smug', 'smugly', 'smut', 'smuttier', 'smuttiest', 'smutty', 'snag', 'snagged', 'snagging', 'snags', 'snappish', 'snappishly', 'snare', 'snarky', 'snarl', 'sneak', 'sneakily', 'sneaky', 'sneer', 'sneering', 'sneeringly', 'snob', 'snobbish', 'snobby', 'snobish', 'snobs', 'snub', 'so', 'cal', 'soapy', 'sob', 'sober', 'sobering', 'solemn', 'solicitude', 'somber', 'sore', 'sorely', 'soreness', 'sorrow', 'sorrowful', 'sorrowfully', 'sorry', 'sour', 'sourly', 'spade', 'spank', 'spendy', 'spew', 'spewed', 'spewing', 'spews', 'spilling', 'spinster', 'spiritless', 'spite', 'spiteful', 'spitefully', 'spitefulness', 'splatter', 'split', 'splitting', 'spoil', 'spoilage', 'spoilages', 'spoiled', 'spoilled', 'spoils', 'spook', 'spookier', 'spookiest', 'spookily', 'spooky', 'spoon', 'fed', 'spoon', 'feed', 'spoonfed', 'sporadic', 'spotty', 'spurious', 'spurn', 'sputter', 'squabble', 'squabbling', 'squander', 'squash', 'squeak', 'squeaks', 'squeaky', 'squeal', 'squealing', 'squeals', 'squirm', 'stab', 'stagnant', 'stagnate', 'stagnation', 'staid', 'stain', 'stains', 'stale', 'stalemate', 'stall', 'stalls', 'stammer', 'stampede', 'standstill', 'stark', 'starkly', 'startle', 'startling', 'startlingly', 'starvation', 'starve', 'static', 'steal', 'stealing', 'steals', 'steep', 'steeply', 'stench', 'stereotype', 'stereotypical', 'stereotypically', 'stern', 'stew', 'sticky', 'stiff', 'stiffness', 'stifle', 'stifling', 'stiflingly', 'stigma', 'stigmatize', 'sting', 'stinging', 'stingingly', 'stingy', 'stink', 'stinks', 'stodgy', 'stole', 'stolen', 'stooge', 'stooges', 'stormy', 'straggle', 'straggler', 'strain', 'strained', 'straining', 'strange', 'strangely', 'stranger', 'strangest', 'strangle', 'streaky', 'strenuous', 'stress', 'stresses', 'stressful', 'stressfully', 'stricken', 'strict', 'strictly', 'strident', 'stridently', 'strife', 'strike', 'stringent', 'stringently', 'struck', 'struggle', 'struggled', 'struggles', 'struggling', 'strut', 'stubborn', 'stubbornly', 'stubbornness', 'stuck', 'stuffy', 'stumble', 'stumbled', 'stumbles', 'stump', 'stumped', 'stumps', 'stun', 'stunt', 'stunted', 'stupid', 'stupidest', 'stupidity', 'stupidly', 'stupified', 'stupify', 'stupor', 'stutter', 'stuttered', 'stuttering', 'stutters', 'sty', 'stymied', 'sub', 'par', 'subdued', 'subjected', 'subjection', 'subjugate', 'subjugation', 'submissive', 'subordinate', 'subpoena', 'subpoenas', 'subservience', 'subservient', 'substandard', 'subtract', 'subversion', 'subversive', 'subversively', 'subvert', 'succumb', 'suck', 'sucked', 'sucker', 'sucks', 'sucky', 'sue', 'sued', 'sueing', 'sues', 'suffer', 'suffered', 'sufferer', 'sufferers', 'suffering', 'suffers', 'suffocate', 'sugar', 'coat', 'sugar', 'coated', 'sugarcoated', 'suicidal', 'suicide', 'sulk', 'sullen', 'sully', 'sunder', 'sunk', 'sunken', 'superficial', 'superficiality', 'superficially', 'superfluous', 'superstition', 'superstitious', 'suppress', 'suppression', 'surrender', 'susceptible', 'suspect', 'suspicion', 'suspicions', 'suspicious', 'suspiciously', 'swagger', 'swamped', 'sweaty', 'swelled', 'swelling', 'swindle', 'swipe', 'swollen', 'symptom', 'symptoms', 'syndrome', 'taboo', 'tacky', 'taint', 'tainted', 'tamper', 'tangle', 'tangled', 'tangles', 'tank', 'tanked', 'tanks', 'tantrum', 'tardy', 'tarnish', 'tarnished', 'tarnishes', 'tarnishing', 'tattered', 'taunt', 'taunting', 'tauntingly', 'taunts', 'taut', 'tawdry', 'taxing', 'tease', 'teasingly', 'tedious', 'tediously', 'temerity', 'temper', 'tempest', 'temptation', 'tenderness', 'tense', 'tension', 'tentative', 'tentatively', 'tenuous', 'tenuously', 'tepid', 'terrible', 'terribleness', 'terribly', 'terror', 'terror', 'genic', 'terrorism', 'terrorize', 'testily', 'testy', 'tetchily', 'tetchy', 'thankless', 'thicker', 'thirst', 'thorny', 'thoughtless', 'thoughtlessly', 'thoughtlessness', 'thrash', 'threat', 'threaten', 'threatening', 'threats', 'threesome', 'throb', 'throbbed', 'throbbing', 'throbs', 'throttle', 'thug', 'thumb', 'down', 'thumbs', 'down', 'thwart', 'time', 'consuming', 'timid', 'timidity', 'timidly', 'timidness', 'tin', 'y', 'tingled', 'tingling', 'tired', 'tiresome', 'tiring', 'tiringly', 'toil', 'toll', 'top', 'heavy', 'topple', 'torment', 'tormented', 'torrent', 'tortuous', 'torture', 'tortured', 'tortures', 'torturing', 'torturous', 'torturously', 'totalitarian', 'touchy', 'toughness', 'tout', 'touted', 'touts', 'toxic', 'traduce', 'tragedy', 'tragic', 'tragically', 'traitor', 'traitorous', 'traitorously', 'tramp', 'trample', 'transgress', 'transgression', 'trap', 'traped', 'trapped', 'trash', 'trashed', 'trashy', 'trauma', 'traumatic', 'traumatically', 'traumatize', 'traumatized', 'travesties', 'travesty', 'treacherous', 'treacherously', 'treachery', 'treason', 'treasonous', 'trick', 'tricked', 'trickery', 'tricky', 'trivial', 'trivialize', 'trouble', 'troubled', 'troublemaker', 'troubles', 'troublesome', 'troublesomely', 'troubling', 'troublingly', 'truant', 'tumble', 'tumbled', 'tumbles', 'tumultuous', 'turbulent', 'turmoil', 'twist', 'twisted', 'twists', 'two', 'faced', 'two', 'faces', 'tyrannical', 'tyrannically', 'tyranny', 'tyrant', 'ugh', 'uglier', 'ugliest', 'ugliness', 'ugly', 'ulterior', 'ultimatum', 'ultimatums', 'ultra', 'hardline', 'un', 'viewable', 'unable', 'unacceptable', 'unacceptablely', 'unacceptably', 'unaccessible', 'unaccustomed', 'unachievable', 'unaffordable', 'unappealing', 'unattractive', 'unauthentic', 'unavailable', 'unavoidably', 'unbearable', 'unbearablely', 'unbelievable', 'unbelievably', 'uncaring', 'uncertain', 'uncivil', 'uncivilized', 'unclean', 'unclear', 'uncollectible', 'uncomfortable', 'uncomfortably', 'uncomfy', 'uncompetitive', 'uncompromising', 'uncompromisingly', 'unconfirmed', 'unconstitutional', 'uncontrolled', 'unconvincing', 'unconvincingly', 'uncooperative', 'uncouth', 'uncreative', 'undecided', 'undefined', 'undependability', 'undependable', 'undercut', 'undercuts', 'undercutting', 'underdog', 'underestimate', 'underlings', 'undermine', 'undermined', 'undermines', 'undermining', 'underpaid', 'underpowered', 'undersized', 'undesirable', 'undetermined', 'undid', 'undignified', 'undissolved', 'undocumented', 'undone', 'undue', 'unease', 'uneasily', 'uneasiness', 'uneasy', 'uneconomical', 'unemployed', 'unequal', 'unethical', 'uneven', 'uneventful', 'unexpected', 'unexpectedly', 'unexplained', 'unfairly', 'unfaithful', 'unfaithfully', 'unfamiliar', 'unfavorable', 'unfeeling', 'unfinished', 'unfit', 'unforeseen', 'unforgiving', 'unfortunate', 'unfortunately', 'unfounded', 'unfriendly', 'unfulfilled', 'unfunded', 'ungovernable', 'ungrateful', 'unhappily', 'unhappiness', 'unhappy', 'unhealthy', 'unhelpful', 'unilateralism', 'unimaginable', 'unimaginably', 'unimportant', 'uninformed', 'uninsured', 'unintelligible', 'unintelligile', 'unipolar', 'unjust', 'unjustifiable', 'unjustifiably', 'unjustified', 'unjustly', 'unkind', 'unkindly', 'unknown', 'unlamentable', 'unlamentably', 'unlawful', 'unlawfully', 'unlawfulness', 'unleash', 'unlicensed', 'unlikely', 'unlucky', 'unmoved', 'unnatural', 'unnaturally', 'unnecessary', 'unneeded', 'unnerve', 'unnerved', 'unnerving', 'unnervingly', 'unnoticed', 'unobserved', 'unorthodox', 'unorthodoxy', 'unpleasant', 'unpleasantries', 'unpopular', 'unpredictable', 'unprepared', 'unproductive', 'unprofitable', 'unprove', 'unproved', 'unproven', 'unproves', 'unproving', 'unqualified', 'unravel', 'unraveled', 'unreachable', 'unreadable', 'unrealistic', 'unreasonable', 'unreasonably', 'unrelenting', 'unrelentingly', 'unreliability', 'unreliable', 'unresolved', 'unresponsive', 'unrest', 'unruly', 'unsafe', 'unsatisfactory', 'unsavory', 'unscrupulous', 'unscrupulously', 'unsecure', 'unseemly', 'unsettle', 'unsettled', 'unsettling', 'unsettlingly', 'unskilled', 'unsophisticated', 'unsound', 'unspeakable', 'unspeakablely', 'unspecified', 'unstable', 'unsteadily', 'unsteadiness', 'unsteady', 'unsuccessful', 'unsuccessfully', 'unsupported', 'unsupportive', 'unsure', 'unsuspecting', 'unsustainable', 'untenable', 'untested', 'unthinkable', 'unthinkably', 'untimely', 'untouched', 'untrue', 'untrustworthy', 'untruthful', 'unusable', 'unusably', 'unuseable', 'unuseably', 'unusual', 'unusually', 'unviewable', 'unwanted', 'unwarranted', 'unwatchable', 'unwelcome', 'unwell', 'unwieldy', 'unwilling', 'unwillingly', 'unwillingness', 'unwise', 'unwisely', 'unworkable', 'unworthy', 'unyielding', 'upbraid', 'upheaval', 'uprising', 'uproar', 'uproarious', 'uproariously', 'uproarous', 'uproarously', 'uproot', 'upset', 'upseting', 'upsets', 'upsetting', 'upsettingly', 'urgent', 'useless', 'usurp', 'usurper', 'utterly', 'vagrant', 'vague', 'vagueness', 'vain', 'vainly', 'vanity', 'vehement', 'vehemently', 'vengeance', 'vengeful', 'vengefully', 'vengefulness', 'venom', 'venomous', 'venomously', 'vent', 'vestiges', 'vex', 'vexation', 'vexing', 'vexingly', 'vibrate', 'vibrated', 'vibrates', 'vibrating', 'vibration', 'vice', 'vicious', 'viciously', 'viciousness', 'victimize', 'vile', 'vileness', 'vilify', 'villainous', 'villainously', 'villains', 'villian', 'villianous', 'villianously', 'villify', 'vindictive', 'vindictively', 'vindictiveness', 'violate', 'violation', 'violator', 'violators', 'violent', 'violently', 'viper', 'virulence', 'virulent', 'virulently', 'virus', 'vociferous', 'vociferously', 'volatile', 'volatility', 'vomit', 'vomited', 'vomiting', 'vomits', 'vulgar', 'vulnerable', 'wack', 'wail', 'wallow', 'wane', 'waning', 'wanton', 'war', 'like', 'warily', 'wariness', 'warlike', 'warned', 'warning', 'warp', 'warped', 'wary', 'washed', 'out', 'waste', 'wasted', 'wasteful', 'wastefulness', 'wasting', 'water', 'down', 'watered', 'down', 'wayward', 'weak', 'weaken', 'weakening', 'weaker', 'weakness', 'weaknesses', 'weariness', 'wearisome', 'weary', 'wedge', 'weed', 'weep', 'weird', 'weirdly', 'wheedle', 'whimper', 'whine', 'whining', 'whiny', 'whips', 'whore', 'whores', 'wicked', 'wickedly', 'wickedness', 'wild', 'wildly', 'wiles', 'wilt', 'wily', 'wimpy', 'wince', 'wobble', 'wobbled', 'wobbles', 'woe', 'woebegone', 'woeful', 'woefully', 'womanizer', 'womanizing', 'worn', 'worried', 'worriedly', 'worrier', 'worries', 'worrisome', 'worry', 'worrying', 'worryingly', 'worse', 'worsen', 'worsening', 'worst', 'worthless', 'worthlessly', 'worthlessness', 'wound', 'wounds', 'wrangle', 'wrath', 'wreak', 'wreaked', 'wreaks', 'wreck', 'wrest', 'wrestle', 'wretch', 'wretched', 'wretchedly', 'wretchedness', 'wrinkle', 'wrinkled', 'wrinkles', 'wrip', 'wripped', 'wripping', 'writhe', 'wrong', 'wrongful', 'wrongly', 'wrought', 'yawn', 'zap', 'zapped', 'zaps', 'zealot', 'zealous', 'zealously', 'zombie', '']\n"
     ]
    }
   ],
   "source": [
    "import re \n",
    "words3 = re.split(r'\\W+', text3.lower())\n",
    "print(words3)"
   ]
  },
  {
   "cell_type": "code",
   "execution_count": 61,
   "metadata": {},
   "outputs": [],
   "source": [
    "for i in Words:\n",
    "    if i in words3:\n",
    "       sentiment = sentiment - 1"
   ]
  },
  {
   "cell_type": "code",
   "execution_count": 23,
   "metadata": {},
   "outputs": [
    {
     "name": "stdout",
     "output_type": "stream",
     "text": [
      "110\n"
     ]
    }
   ],
   "source": [
    "print(sentiment)"
   ]
  },
  {
   "cell_type": "code",
   "execution_count": 59,
   "metadata": {},
   "outputs": [],
   "source": [
    "others = 0 \n",
    "for i in Word:\n",
    "    if i not in words3 or words2:\n",
    "        others = others + 1"
   ]
  },
  {
   "cell_type": "code",
   "execution_count": 60,
   "metadata": {},
   "outputs": [
    {
     "name": "stdout",
     "output_type": "stream",
     "text": [
      "13352\n"
     ]
    }
   ],
   "source": [
    "print(others)"
   ]
  },
  {
   "cell_type": "markdown",
   "metadata": {},
   "source": [
    "<b> Assignment #2 </b>"
   ]
  },
  {
   "cell_type": "markdown",
   "metadata": {},
   "source": [
    "Step 1: Cleaning up code and opening file"
   ]
  },
  {
   "cell_type": "code",
   "execution_count": 26,
   "metadata": {},
   "outputs": [],
   "source": [
    "file4 = open('Niners.txt','r') "
   ]
  },
  {
   "cell_type": "code",
   "execution_count": 27,
   "metadata": {},
   "outputs": [],
   "source": [
    "text4 = file4.read()"
   ]
  },
  {
   "cell_type": "code",
   "execution_count": 28,
   "metadata": {},
   "outputs": [],
   "source": [
    "file4.close()"
   ]
  },
  {
   "cell_type": "code",
   "execution_count": 29,
   "metadata": {},
   "outputs": [],
   "source": [
    "import re \n",
    "words4 = re.split(r'\\W+', text4.lower())"
   ]
  },
  {
   "cell_type": "code",
   "execution_count": 52,
   "metadata": {},
   "outputs": [],
   "source": [
    "import string\n",
    "table = str.maketrans('','',string.punctuation)\n",
    "stripped4 = [w.translate(table)for w in words4]\n",
    "#notice that this is the same formatting as in assignment 1"
   ]
  },
  {
   "cell_type": "markdown",
   "metadata": {},
   "source": [
    "step 2: removing stop words from code"
   ]
  },
  {
   "cell_type": "code",
   "execution_count": 31,
   "metadata": {},
   "outputs": [],
   "source": [
    "Words1 = []\n",
    "for i in stripped4:\n",
    "    if i not in words1:\n",
    "       Words1.append(i) \n",
    "#this removes the stop words from the sequence."
   ]
  },
  {
   "cell_type": "markdown",
   "metadata": {},
   "source": [
    "Step 3: Determining how positive words affect sentiment"
   ]
  },
  {
   "cell_type": "code",
   "execution_count": 32,
   "metadata": {},
   "outputs": [],
   "source": [
    "sentiment1 = 0\n",
    "for i in Words1:\n",
    "    if i in words2:\n",
    "       sentiment1 = sentiment1 + 1\n"
   ]
  },
  {
   "cell_type": "code",
   "execution_count": 33,
   "metadata": {},
   "outputs": [
    {
     "name": "stdout",
     "output_type": "stream",
     "text": [
      "50\n"
     ]
    }
   ],
   "source": [
    "print(sentiment1)"
   ]
  },
  {
   "cell_type": "markdown",
   "metadata": {},
   "source": [
    "Step 4: Determining how negative words affect sentiment"
   ]
  },
  {
   "cell_type": "code",
   "execution_count": 34,
   "metadata": {},
   "outputs": [],
   "source": [
    "for i in Words1:\n",
    "    if i in words3:\n",
    "       sentiment1 = sentiment1 - 1"
   ]
  },
  {
   "cell_type": "code",
   "execution_count": 35,
   "metadata": {},
   "outputs": [
    {
     "name": "stdout",
     "output_type": "stream",
     "text": [
      "17\n"
     ]
    }
   ],
   "source": [
    "print(sentiment1)"
   ]
  },
  {
   "cell_type": "markdown",
   "metadata": {},
   "source": [
    "Step 5: Deterining number of other words"
   ]
  },
  {
   "cell_type": "code",
   "execution_count": 53,
   "metadata": {},
   "outputs": [],
   "source": [
    "others1 = 0 \n",
    "for i in Words1:\n",
    "    if i not in words3 or words2:\n",
    "        others1 = others1 + 1"
   ]
  },
  {
   "cell_type": "code",
   "execution_count": 37,
   "metadata": {},
   "outputs": [
    {
     "name": "stdout",
     "output_type": "stream",
     "text": [
      "1013\n"
     ]
    }
   ],
   "source": [
    "print(others1)"
   ]
  },
  {
   "cell_type": "markdown",
   "metadata": {},
   "source": [
    "what is the word count?"
   ]
  },
  {
   "cell_type": "code",
   "execution_count": 38,
   "metadata": {},
   "outputs": [],
   "source": [
    "word_count = 0\n",
    "for i in stripped4:\n",
    "    word_count = word_count + 1"
   ]
  },
  {
   "cell_type": "code",
   "execution_count": 39,
   "metadata": {},
   "outputs": [
    {
     "name": "stdout",
     "output_type": "stream",
     "text": [
      "1389\n"
     ]
    }
   ],
   "source": [
    "print(word_count)"
   ]
  },
  {
   "cell_type": "markdown",
   "metadata": {},
   "source": [
    "Ratio of positive words to word count"
   ]
  },
  {
   "cell_type": "code",
   "execution_count": 62,
   "metadata": {},
   "outputs": [],
   "source": [
    "positive_words = 0\n",
    "for i in Words1:\n",
    "    if i in words2:\n",
    "       positive_words = positive_words + 1"
   ]
  },
  {
   "cell_type": "code",
   "execution_count": 63,
   "metadata": {},
   "outputs": [
    {
     "name": "stdout",
     "output_type": "stream",
     "text": [
      "50\n"
     ]
    }
   ],
   "source": [
    "print(positive_words)"
   ]
  },
  {
   "cell_type": "code",
   "execution_count": 66,
   "metadata": {},
   "outputs": [
    {
     "data": {
      "text/plain": [
       "0.03599712023038157"
      ]
     },
     "execution_count": 66,
     "metadata": {},
     "output_type": "execute_result"
    }
   ],
   "source": [
    "positive_words/word_count\n",
    "#finding ratio of positive words to word count"
   ]
  },
  {
   "cell_type": "markdown",
   "metadata": {},
   "source": [
    "Determining Ratio of negative words to word count"
   ]
  },
  {
   "cell_type": "code",
   "execution_count": 64,
   "metadata": {},
   "outputs": [],
   "source": [
    "negative_words = 0\n",
    "for i in Words1:\n",
    "    if i in words3:\n",
    "        negative_words = negative_words + 1\n"
   ]
  },
  {
   "cell_type": "code",
   "execution_count": 67,
   "metadata": {},
   "outputs": [
    {
     "name": "stdout",
     "output_type": "stream",
     "text": [
      "33\n"
     ]
    }
   ],
   "source": [
    "print(negative_words)"
   ]
  },
  {
   "cell_type": "code",
   "execution_count": 68,
   "metadata": {},
   "outputs": [
    {
     "data": {
      "text/plain": [
       "0.023758099352051837"
      ]
     },
     "execution_count": 68,
     "metadata": {},
     "output_type": "execute_result"
    }
   ],
   "source": [
    "negative_words / word_count"
   ]
  },
  {
   "cell_type": "markdown",
   "metadata": {},
   "source": [
    "Determining ratio of stop words to word count"
   ]
  },
  {
   "cell_type": "code",
   "execution_count": 69,
   "metadata": {},
   "outputs": [],
   "source": [
    "stop_words = 0\n",
    "for i in stripped4:\n",
    "    if i in words1: \n",
    "        stop_words = stop_words + 1"
   ]
  },
  {
   "cell_type": "code",
   "execution_count": 70,
   "metadata": {},
   "outputs": [
    {
     "name": "stdout",
     "output_type": "stream",
     "text": [
      "376\n"
     ]
    }
   ],
   "source": [
    "print(stop_words)"
   ]
  },
  {
   "cell_type": "markdown",
   "metadata": {},
   "source": [
    "Determining Ratio of others"
   ]
  },
  {
   "cell_type": "code",
   "execution_count": 74,
   "metadata": {},
   "outputs": [],
   "source": [
    "others = word_count - negative_words - positive_words - stop_words"
   ]
  },
  {
   "cell_type": "code",
   "execution_count": 75,
   "metadata": {},
   "outputs": [
    {
     "name": "stdout",
     "output_type": "stream",
     "text": [
      "930\n"
     ]
    }
   ],
   "source": [
    "print(others)"
   ]
  },
  {
   "cell_type": "code",
   "execution_count": 73,
   "metadata": {},
   "outputs": [
    {
     "name": "stdout",
     "output_type": "stream",
     "text": [
      "1013\n"
     ]
    }
   ],
   "source": [
    "print(others1)"
   ]
  },
  {
   "cell_type": "code",
   "execution_count": 50,
   "metadata": {},
   "outputs": [
    {
     "data": {
      "text/plain": [
       "0.5579553635709144"
      ]
     },
     "execution_count": 50,
     "metadata": {},
     "output_type": "execute_result"
    }
   ],
   "source": [
    "others / word_count"
   ]
  },
  {
   "cell_type": "markdown",
   "metadata": {},
   "source": [
    "Sum of all positive and negatives observed"
   ]
  },
  {
   "cell_type": "code",
   "execution_count": 51,
   "metadata": {},
   "outputs": [
    {
     "data": {
      "text/plain": [
       "238"
      ]
     },
     "execution_count": 51,
     "metadata": {},
     "output_type": "execute_result"
    }
   ],
   "source": [
    "positive_words + negative_words \n",
    "#the sentiment is mostly positive since 177 out of the 233 positive and \n",
    "#negative words were observed to be positive.\n",
    "#There is a strong correlation bewteen positives and sentiment-inducing-words."
   ]
  }
 ],
 "metadata": {
  "kernelspec": {
   "display_name": "Python 3",
   "language": "python",
   "name": "python3"
  },
  "language_info": {
   "codemirror_mode": {
    "name": "ipython",
    "version": 3
   },
   "file_extension": ".py",
   "mimetype": "text/x-python",
   "name": "python",
   "nbconvert_exporter": "python",
   "pygments_lexer": "ipython3",
   "version": "3.7.4"
  }
 },
 "nbformat": 4,
 "nbformat_minor": 2
}
